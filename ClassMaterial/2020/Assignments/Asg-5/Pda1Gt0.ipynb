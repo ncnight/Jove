{
 "cells": [
  {
   "cell_type": "code",
   "execution_count": 1,
   "metadata": {},
   "outputs": [
    {
     "name": "stdout",
     "output_type": "stream",
     "text": [
      "You may use any of these help commands:\n",
      "help(ResetStNum)\n",
      "help(NxtStateStr)\n",
      "\n",
      "You may use any of these help commands:\n",
      "help(md2mc)\n",
      ".. and if you want to dig more, then ..\n",
      "help(default_line_attr)\n",
      "help(length_ok_input_items)\n",
      "help(union_line_attr_list_fld)\n",
      "help(extend_rsltdict)\n",
      "help(form_delta)\n",
      "help(get_machine_components)\n",
      "\n",
      "You may use any of these help commands:\n",
      "help(explore_pda)\n",
      "help(run_pda)\n",
      "help(classify_l_id_path)\n",
      "help(h_run_pda)\n",
      "help(interpret_w_eps)\n",
      "help(step_pda)\n",
      "help(suvivor_id)\n",
      "help(term_id)\n",
      "help(final_id)\n",
      "help(cvt_str_to_sym)\n",
      "help(is_surv_id)\n",
      "help(subsumed)\n",
      "help(is_term_id)\n",
      "help(is_final_id)\n",
      "\n",
      "You may use any of these help commands:\n",
      "help(lphi)\n",
      "help(lunit)\n",
      "help(lcat)\n",
      "help(lexp)\n",
      "help(lunion)\n",
      "help(lstar)\n",
      "help(srev)\n",
      "help(lrev)\n",
      "help(shomo)\n",
      "help(lhomo)\n",
      "help(powset)\n",
      "help(lint)\n",
      "help(lsymdiff)\n",
      "help(lminus)\n",
      "help(lissubset)\n",
      "help(lissuperset)\n",
      "help(lcomplem)\n",
      "help(product)\n",
      "help(nthnumeric)\n",
      "\n"
     ]
    }
   ],
   "source": [
    "#----TURN THESE ON IF RUNNING ON JOVE ON COLAB BY REMOVING THE ''' ... '''\n",
    "\n",
    "'''\n",
    "! if [ ! -d Jove ]; then git clone https://github.com/ganeshutah/Jove Jove; fi\n",
    "import sys\n",
    "sys.path.append('./Jove')\n",
    "sys.path.append('./Jove/jove')\n",
    "'''\n",
    "\n",
    "#----TURN THESE ON IF RUNNING ON OWN INSTALLATION (default turned-on)\n",
    "\n",
    "import sys\n",
    "sys.path[0:0] = ['../..',\n",
    "                 '../../3rdparty',\n",
    "                 '../../..',\n",
    "                 '../../../3rdparty',\n",
    "                 '../../../..',\n",
    "                 '../../../../3rdparty'\n",
    "                ] # Put these at the head of the search path\n",
    "\n",
    "from jove.DotBashers import *\n",
    "from jove.Def_md2mc import *    \n",
    "from jove.Def_PDA   import *\n",
    "from jove.LangDef   import *\n"
   ]
  },
  {
   "cell_type": "code",
   "execution_count": 32,
   "metadata": {},
   "outputs": [],
   "source": [
    "\"\"\"CFG\n",
    "S -> A1A\n",
    "A -> 1A0A | 0A1A | A1A |  ''\n",
    "\"\"\"\n",
    "\n",
    "Pda1Gt0 = md2mc('''PDA\n",
    "\n",
    "I : '',''; S -> W    \n",
    "\n",
    "W : '', S; A1A -> W \n",
    "\n",
    "W : '', A; 1A0A -> W\n",
    "\n",
    "W : '', A; 0A1A -> W\n",
    "\n",
    "W : '', A; A1A -> W\n",
    "\n",
    "W : '', A; '' -> W\n",
    "\n",
    "W : '', #; # -> F\n",
    "\n",
    "W : 0,0; '' | 1,1;'' -> W\n",
    "\n",
    "''')"
   ]
  },
  {
   "cell_type": "code",
   "execution_count": 33,
   "metadata": {
    "scrolled": true
   },
   "outputs": [],
   "source": [
    "def __initial_tests():\n",
    "    help(explore_pda)\n",
    "    tests = [ '1' + '0' + '1' + '1'*i + '0'*i for i in range(10)]\n",
    "    for t in tests:\n",
    "        explore_pda(t, Pda1Gt0)"
   ]
  },
  {
   "cell_type": "code",
   "execution_count": 37,
   "metadata": {},
   "outputs": [],
   "source": [
    "def test_Pda1Gt0(Pda1Gt0, n, verbose=False):\n",
    "    Sigma = {'0', '1'}\n",
    "    all_pass = True\n",
    "    for i in range(n):\n",
    "        s = nthnumeric(i, Sigma)\n",
    "        should_pass = True if s.count('1') > s.count('0') else False\n",
    "        if not (len(run_pda(s, Pda1Gt0)[1]) == 0) == should_pass:\n",
    "            if verbose: \n",
    "                print('PASSED TEST')\n",
    "        else:\n",
    "            all_pass = False\n",
    "            print('FAILED TEST', s, should_pass, len(run_pda(s, Pda1Gt0)[1])) \n",
    "    if all_pass:\n",
    "        print('All tests passed! Last string checked:', s)"
   ]
  },
  {
   "cell_type": "code",
   "execution_count": 40,
   "metadata": {},
   "outputs": [
    {
     "name": "stdout",
     "output_type": "stream",
     "text": [
      "All tests passed! Last string checked: 110001110110\n"
     ]
    }
   ],
   "source": [
    "#test_Pda1Gt0(Pda1Gt0, 5001)"
   ]
  },
  {
   "cell_type": "code",
   "execution_count": 6,
   "metadata": {},
   "outputs": [],
   "source": [
    "def get_Pda1Gt0():\n",
    "    global Pda1Gt0\n",
    "    return Pda1Gt0"
   ]
  },
  {
   "cell_type": "code",
   "execution_count": 7,
   "metadata": {},
   "outputs": [
    {
     "data": {
      "text/plain": [
       "{'Q': {'F', 'I', 'W'},\n",
       " 'Sigma': {'0', '1'},\n",
       " 'Gamma': {'#', '0', '1', 'A', 'S'},\n",
       " 'Delta': {('I', '', ''): {('W', 'S')},\n",
       "  ('W', '', 'S'): {('W', 'A1A')},\n",
       "  ('W', '', 'A'): {('W', ''), ('W', '0A1A'), ('W', '1A'), ('W', '1A0A')},\n",
       "  ('W', '', '#'): {('F', '#')},\n",
       "  ('W', '0', '0'): {('W', '')},\n",
       "  ('W', '1', '1'): {('W', '')}},\n",
       " 'q0': 'I',\n",
       " 'z0': '#',\n",
       " 'F': {'F'}}"
      ]
     },
     "execution_count": 7,
     "metadata": {},
     "output_type": "execute_result"
    }
   ],
   "source": [
    "#get_Pda1Gt0()"
   ]
  },
  {
   "cell_type": "code",
   "execution_count": null,
   "metadata": {},
   "outputs": [],
   "source": []
  }
 ],
 "metadata": {
  "kernelspec": {
   "display_name": "Python 3",
   "language": "python",
   "name": "python3"
  },
  "language_info": {
   "codemirror_mode": {
    "name": "ipython",
    "version": 3
   },
   "file_extension": ".py",
   "mimetype": "text/x-python",
   "name": "python",
   "nbconvert_exporter": "python",
   "pygments_lexer": "ipython3",
   "version": "3.7.6"
  }
 },
 "nbformat": 4,
 "nbformat_minor": 2
}
