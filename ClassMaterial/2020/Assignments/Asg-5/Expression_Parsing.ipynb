{
 "cells": [
  {
   "cell_type": "markdown",
   "metadata": {
    "run_control": {
     "frozen": false,
     "read_only": false
    }
   },
   "source": [
    "# J4_UNID_Expression_Parsing  \n",
    "\n",
    "** Run these cells one by one. Study the questions and the answers here. **\n",
    "\n",
    "## You will be provided answers here. \n",
    "\n",
    "You'll be provided the answers here. We will tag them as \"Free Answer\". You will see that only after you run the cells. Write these ** free answers** where indicated in your Assignment."
   ]
  },
  {
   "cell_type": "markdown",
   "metadata": {
    "run_control": {
     "frozen": false,
     "read_only": false
    }
   },
   "source": [
    "## Background information for you\n",
    "\n",
    "\n",
    "Someone was asked to build a calculator following these CFG rules.\n",
    "\n",
    "\n",
    "```\n",
    "RULES\n",
    "\n",
    "Rule 0     S -> expression\n",
    "Rule 1     expression -> expression PLUS term\n",
    "Rule 2     expression -> expression MINUS term\n",
    "Rule 3     expression -> term\n",
    "Rule 4     term -> term TIMES factor\n",
    "Rule 5     term -> term DIVIDE factor\n",
    "Rule 6     term -> factor\n",
    "Rule 7     factor -> innerfactor EXP factor\n",
    "Rule 8     factor -> innerfactor\n",
    "Rule 9     innerfactor -> UMINUS innerfactor\n",
    "Rule 10    innerfactor -> LPAREN expression RPAREN\n",
    "Rule 11    innerfactor -> NUMBER\n",
    "```\n",
    "\n",
    "They implemented these CFGs in a parser that we shall present in Section 2 below."
   ]
  },
  {
   "cell_type": "markdown",
   "metadata": {
    "run_control": {
     "frozen": false,
     "read_only": false
    }
   },
   "source": [
    "## THINGS TO NOTE\n",
    "\n",
    "* We will use \"~\" (tilde) for unary minus, and \"-\" (regular minus) for binary infix minus\n",
    "\n",
    "* we will use \"^\" for exponentiation"
   ]
  },
  {
   "cell_type": "markdown",
   "metadata": {
    "run_control": {
     "frozen": false,
     "read_only": false
    }
   },
   "source": [
    "# The Parser\n",
    "\n",
    "You may be interested in roughly how abstract CFG rules such as listed above turn into CFG rules as supported by a tool such as PLY."
   ]
  },
  {
   "cell_type": "code",
   "execution_count": 1,
   "metadata": {
    "run_control": {
     "frozen": false,
     "read_only": false
    }
   },
   "outputs": [
    {
     "name": "stdout",
     "output_type": "stream",
     "text": [
      "You may use any of these help commands:\n",
      "help(ResetStNum)\n",
      "help(NxtStateStr)\n",
      "\n"
     ]
    }
   ],
   "source": [
    "\n",
    "#----TURN THESE ON IF RUNNING ON JOVE ON COLAB BY REMOVING THE ''' ... '''\n",
    "\n",
    "'''\n",
    "! if [ ! -d Jove ]; then git clone https://github.com/ganeshutah/Jove Jove; fi\n",
    "import sys\n",
    "sys.path.append('./Jove')\n",
    "sys.path.append('./Jove/jove')\n",
    "'''\n",
    "\n",
    "#----TURN THESE ON IF RUNNING ON OWN INSTALLATION (default turned-on)\n",
    "\n",
    "import sys\n",
    "sys.path[0:0] = ['..',\n",
    "                 '../3rdparty',\n",
    "                 '../..',\n",
    "                 '../../3rdparty',\n",
    "                 '../../..',\n",
    "                 '../../../3rdparty',\n",
    "                 '../../../..',\n",
    "                 '../../../../3rdparty'\n",
    "                ] # Put these at the head of the search path\n",
    "\n",
    "from lex import lex\n",
    "from yacc import yacc\n",
    "\n",
    "from jove.StateNameSanitizers import ResetStNum, NxtStateStr\n",
    "from jove.SystemImports       import *\n"
   ]
  },
  {
   "cell_type": "code",
   "execution_count": 2,
   "metadata": {
    "run_control": {
     "frozen": false,
     "read_only": false
    }
   },
   "outputs": [],
   "source": [
    "# Following ideas from http://www.dabeaz.com/ply/example.html heavily\n",
    "tokens = ('NUMBER','LPAREN','RPAREN','PLUS', 'MINUS', 'TIMES','DIVIDE', 'UMINUS', 'EXP') \n",
    "\n",
    "# Tokens\n",
    "t_PLUS    = r'\\+'\n",
    "t_MINUS   = r'\\-'\n",
    "t_TIMES   = r'\\*'\n",
    "t_DIVIDE  = r'\\/'\n",
    "t_LPAREN  = r'\\('\n",
    "t_RPAREN  = r'\\)' \n",
    "t_UMINUS  = r'\\~' \n",
    "t_EXP     = r'\\^'\n",
    "\n",
    "# parsing + semantic actions in one place!\n",
    "def t_NUMBER(t):\n",
    "    r'\\d+'\n",
    "    try:\n",
    "        t.value = int(t.value)\n",
    "    except ValueError:\n",
    "        print(\"Integer value too large %d\", t.value)\n",
    "        t.value = 0\n",
    "    return t\n",
    "\n",
    "# Ignored characters\n",
    "t_ignore = \" \\t\"\n",
    "\n",
    "def t_newline(t):\n",
    "    r'\\n+'\n",
    "    t.lexer.lineno += t.value.count(\"\\n\")\n",
    "    \n",
    "def t_error(t):\n",
    "    print(\"Illegal character '%s'\" % t.value[0])\n",
    "    t.lexer.skip(1)\n",
    "    "
   ]
  },
  {
   "cell_type": "code",
   "execution_count": 3,
   "metadata": {
    "run_control": {
     "frozen": false,
     "read_only": false
    }
   },
   "outputs": [],
   "source": [
    "\n",
    "def p_expression_1(t):\n",
    "    'expression : expression PLUS term'\n",
    "    #\n",
    "    t[0] = (t[1][0] + t[3][0],\n",
    "            attrDyadicInfix(\"+\", t[1][1], t[3][1]))   \n",
    "    \n",
    "def p_expression_2(t):\n",
    "    'expression : expression MINUS term'\n",
    "    #\n",
    "    t[0] = (t[1][0] - t[3][0],\n",
    "            attrDyadicInfix(\"-\", t[1][1], t[3][1]))   \n",
    "    \n",
    "def p_expression_3(t):\n",
    "    'expression : term'\n",
    "    #\n",
    "    t[0] = t[1]  \n",
    "    \n",
    "# Consult this excellent reference for info on precedences\n",
    "# https://www.cs.utah.edu/~zachary/isp/worksheets/operprec/operprec.html\n",
    "    \n",
    "    \n",
    "def p_term_1(t):\n",
    "    'term :  term TIMES factor'\n",
    "    #\n",
    "    t[0] = (t[1][0] * t[3][0],\n",
    "            attrDyadicInfix(\"*\", t[1][1], t[3][1])) \n",
    "\n",
    "    \n",
    "def p_term_2(t):\n",
    "    'term :  term DIVIDE factor'\n",
    "    #\n",
    "    if (t[3][0] == 0):\n",
    "        print(\"Error, divide by zero!\")\n",
    "        t[3][0] = 1 # fix it\n",
    "    t[0] = (t[1][0] / t[3][0],\n",
    "            attrDyadicInfix(\"/\", t[1][1], t[3][1]))\n",
    "\n",
    "\n",
    "def p_term_3(t):\n",
    "    'term :  factor'\n",
    "    #\n",
    "    t[0] = t[1]  \n",
    "\n",
    "def p_factor_1(t):\n",
    "    'factor : innerfactor EXP factor'\n",
    "    #\n",
    "    t[0] = (t[1][0] ** t[3][0],\n",
    "            attrDyadicInfix(\"^\", t[1][1], t[3][1])) \n",
    "\n",
    "def p_factor_2(t):\n",
    "    'factor : innerfactor'\n",
    "    #\n",
    "    t[0] = t[1]\n",
    "    \n",
    "def p_innerfactor_1(t):\n",
    "    'innerfactor : UMINUS innerfactor'\n",
    "    #\n",
    "    ast  = ('~', t[2][1]['ast'])\n",
    "    \n",
    "    nlin = t[2][1]['dig']['nl']\n",
    "    elin = t[2][1]['dig']['el']\n",
    "    \n",
    "    rootin = nlin[0]\n",
    "\n",
    "    root = NxtStateStr(\"~E_\") \n",
    "    left = NxtStateStr(\"~_\")\n",
    "\n",
    "    t[0] =(-t[2][0], \n",
    "           {'ast' : ast,\n",
    "            'dig' : {'nl' : [ root, left ] + nlin, # this order important for proper layout!\n",
    "                     'el' : elin + [ (root, left),\n",
    "                                     (root, rootin) ]\n",
    "                    }})\n",
    "\n",
    "    \n",
    "def p_innerfactor_2(t):\n",
    "    'innerfactor : LPAREN expression RPAREN'\n",
    "    #\n",
    "    ast  = t[2][1]['ast']\n",
    "    \n",
    "    nlin = t[2][1]['dig']['nl']\n",
    "    elin = t[2][1]['dig']['el']\n",
    "    \n",
    "    rootin = nlin[0]\n",
    "    \n",
    "    root = NxtStateStr(\"(E)_\")\n",
    "    left = NxtStateStr(\"(_\")\n",
    "    right= NxtStateStr(\")_\")\n",
    "    \n",
    "    t[0] =(t[2][0],\n",
    "           {'ast' : ast,\n",
    "            'dig' : {'nl' : [root, left] + nlin + [right], #order important f. proper layout!\n",
    "                     'el' : elin + [ (root, left),\n",
    "                                     (root, rootin),\n",
    "                                     (root, right) ]\n",
    "                    }})\n",
    "\n",
    "def p_innerfactor_3(t):\n",
    "    'innerfactor : NUMBER'\n",
    "    #\n",
    "    strn = str(t[1])\n",
    "    ast  = ('NUMBER', strn)           \n",
    "    t[0] =(t[1],\n",
    "           { 'ast' : ast,\n",
    "             'dig' : {'nl' : [ strn + NxtStateStr(\"_\") ],\n",
    "                      'el' : []\n",
    "                     }})\n",
    "\n",
    "\n",
    "def p_error(t):\n",
    "    print(\"Syntax error at '%s'\" % t.value)\n",
    "\n",
    "#--\n",
    "    \n",
    "def attrDyadicInfix(op, attr1, attr3):\n",
    "    ast  = (op, (attr1['ast'], attr3['ast']))\n",
    "    \n",
    "    nlin1 = attr1['dig']['nl']\n",
    "    nlin3 = attr3['dig']['nl']\n",
    "    nlin  = nlin1 + nlin3\n",
    "    \n",
    "    elin1 = attr1['dig']['el']\n",
    "    elin3 = attr3['dig']['el']\n",
    "    elin  = elin1 + elin3\n",
    "    \n",
    "    rootin1 = nlin1[0]\n",
    "    rootin3 = nlin3[0]    \n",
    "    \n",
    "    root   = NxtStateStr(\"E1\"+op+\"E2\"+\"_\") # NxtStateStr(\"$_\")\n",
    "    left   = rootin1\n",
    "    middle = NxtStateStr(op+\"_\")\n",
    "    right  = rootin3\n",
    "    \n",
    "    return {'ast' : ast,\n",
    "            'dig' : {'nl' : [ root, left, middle, right ] + nlin,\n",
    "                     'el' : elin + [ (root, left),\n",
    "                                     (root, middle),\n",
    "                                     (root, right) ]\n",
    "                     }}\n",
    "\n",
    "#===\n",
    "# This is the main function in this Jove file.  \n",
    "#===\n",
    "\n",
    "def parseExp(s):\n",
    "    \"\"\"In: a string s containing a regular expression.\n",
    "       Out: An attribute triple consisting of\n",
    "            1) An abstract syntax tree suitable for processing in the derivative-based scanner\n",
    "            2) A node-list for the parse-tree digraph generated. Good for drawing a parse tree \n",
    "               using the drawPT function below\n",
    "            3) An edge list for the parse-tree generated (again good for drawing using the\n",
    "               drawPT function below)\n",
    "    \"\"\"\n",
    "    mylexer  = lex()\n",
    "    myparser = yacc()\n",
    "    pt = myparser.parse(s, lexer = mylexer)\n",
    "    \n",
    "    # print('parsed result  is ', pt)\n",
    "    # (result, ast, nodes, edges)\n",
    "    return (pt[0], pt[1]['ast'], pt[1]['dig']['nl'], pt[1]['dig']['el'])\n",
    "\n",
    "def drawPT(ast_rslt_nl_el, comment=\"PT\"):\n",
    "    \"\"\"Given an (ast, nl, el) triple where nl is the node and el the edge-list,\n",
    "       draw the Parse Tree by returning a dot object.\n",
    "    \"\"\"\n",
    "    (rslt, ast, nl, el) = ast_rslt_nl_el\n",
    "    \n",
    "    print(\"Result calculated = \", rslt)\n",
    "    print(\"Drawing AST for \", ast)\n",
    "    \n",
    "    dotObj_pt = Digraph(comment)\n",
    "    dotObj_pt.graph_attr['rankdir'] = 'TB'\n",
    "    for n in nl:\n",
    "        prNam = n.split('_')[0]\n",
    "        dotObj_pt.node(n, prNam, shape=\"oval\", peripheries=\"1\")\n",
    "    for e in el:\n",
    "        dotObj_pt.edge(e[0], e[1])\n",
    "    return dotObj_pt"
   ]
  },
  {
   "cell_type": "markdown",
   "metadata": {
    "run_control": {
     "frozen": false,
     "read_only": false
    }
   },
   "source": [
    "# Now answer these questions"
   ]
  },
  {
   "cell_type": "markdown",
   "metadata": {
    "run_control": {
     "frozen": false,
     "read_only": false
    }
   },
   "source": [
    "## How does the calculator above parse \"\\~2^2\" ?"
   ]
  },
  {
   "cell_type": "code",
   "execution_count": 4,
   "metadata": {
    "run_control": {
     "frozen": false,
     "read_only": false
    }
   },
   "outputs": [
    {
     "name": "stdout",
     "output_type": "stream",
     "text": [
      "Result calculated =  4\n",
      "Drawing AST for  ('^', (('~', ('NUMBER', '2')), ('NUMBER', '2')))\n"
     ]
    },
    {
     "name": "stderr",
     "output_type": "stream",
     "text": [
      "Generating LALR tables\n"
     ]
    },
    {
     "data": {
      "image/svg+xml": [
       "<?xml version=\"1.0\" encoding=\"UTF-8\" standalone=\"no\"?>\n",
       "<!DOCTYPE svg PUBLIC \"-//W3C//DTD SVG 1.1//EN\"\n",
       " \"http://www.w3.org/Graphics/SVG/1.1/DTD/svg11.dtd\">\n",
       "<!-- Generated by graphviz version 2.40.1 (20161225.0304)\n",
       " -->\n",
       "<!-- Title: PT Pages: 1 -->\n",
       "<svg width=\"242pt\" height=\"188pt\"\n",
       " viewBox=\"0.00 0.00 242.00 188.00\" xmlns=\"http://www.w3.org/2000/svg\" xmlns:xlink=\"http://www.w3.org/1999/xlink\">\n",
       "<g id=\"graph0\" class=\"graph\" transform=\"scale(1 1) rotate(0) translate(4 184)\">\n",
       "<title>PT</title>\n",
       "<polygon fill=\"#ffffff\" stroke=\"transparent\" points=\"-4,4 -4,-184 238,-184 238,4 -4,4\"/>\n",
       "<!-- E1^E2_5 -->\n",
       "<g id=\"node1\" class=\"node\">\n",
       "<title>E1^E2_5</title>\n",
       "<ellipse fill=\"none\" stroke=\"#000000\" cx=\"135\" cy=\"-162\" rx=\"34.394\" ry=\"18\"/>\n",
       "<text text-anchor=\"middle\" x=\"135\" y=\"-158.3\" font-family=\"Times,serif\" font-size=\"14.00\" fill=\"#000000\">E1^E2</text>\n",
       "</g>\n",
       "<!-- ~E_2 -->\n",
       "<g id=\"node2\" class=\"node\">\n",
       "<title>~E_2</title>\n",
       "<ellipse fill=\"none\" stroke=\"#000000\" cx=\"63\" cy=\"-90\" rx=\"27\" ry=\"18\"/>\n",
       "<text text-anchor=\"middle\" x=\"63\" y=\"-86.3\" font-family=\"Times,serif\" font-size=\"14.00\" fill=\"#000000\">~E</text>\n",
       "</g>\n",
       "<!-- E1^E2_5&#45;&gt;~E_2 -->\n",
       "<g id=\"edge3\" class=\"edge\">\n",
       "<title>E1^E2_5&#45;&gt;~E_2</title>\n",
       "<path fill=\"none\" stroke=\"#000000\" d=\"M119.0209,-146.0209C109.1918,-136.1918 96.4431,-123.4431 85.591,-112.591\"/>\n",
       "<polygon fill=\"#000000\" stroke=\"#000000\" points=\"87.9863,-110.0365 78.4403,-105.4403 83.0365,-114.9863 87.9863,-110.0365\"/>\n",
       "</g>\n",
       "<!-- ^_6 -->\n",
       "<g id=\"node3\" class=\"node\">\n",
       "<title>^_6</title>\n",
       "<ellipse fill=\"none\" stroke=\"#000000\" cx=\"135\" cy=\"-90\" rx=\"27\" ry=\"18\"/>\n",
       "<text text-anchor=\"middle\" x=\"135\" y=\"-86.3\" font-family=\"Times,serif\" font-size=\"14.00\" fill=\"#000000\">^</text>\n",
       "</g>\n",
       "<!-- E1^E2_5&#45;&gt;^_6 -->\n",
       "<g id=\"edge4\" class=\"edge\">\n",
       "<title>E1^E2_5&#45;&gt;^_6</title>\n",
       "<path fill=\"none\" stroke=\"#000000\" d=\"M135,-143.8314C135,-136.131 135,-126.9743 135,-118.4166\"/>\n",
       "<polygon fill=\"#000000\" stroke=\"#000000\" points=\"138.5001,-118.4132 135,-108.4133 131.5001,-118.4133 138.5001,-118.4132\"/>\n",
       "</g>\n",
       "<!-- 2_4 -->\n",
       "<g id=\"node4\" class=\"node\">\n",
       "<title>2_4</title>\n",
       "<ellipse fill=\"none\" stroke=\"#000000\" cx=\"207\" cy=\"-90\" rx=\"27\" ry=\"18\"/>\n",
       "<text text-anchor=\"middle\" x=\"207\" y=\"-86.3\" font-family=\"Times,serif\" font-size=\"14.00\" fill=\"#000000\">2</text>\n",
       "</g>\n",
       "<!-- E1^E2_5&#45;&gt;2_4 -->\n",
       "<g id=\"edge5\" class=\"edge\">\n",
       "<title>E1^E2_5&#45;&gt;2_4</title>\n",
       "<path fill=\"none\" stroke=\"#000000\" d=\"M150.9791,-146.0209C160.8082,-136.1918 173.5569,-123.4431 184.409,-112.591\"/>\n",
       "<polygon fill=\"#000000\" stroke=\"#000000\" points=\"186.9635,-114.9863 191.5597,-105.4403 182.0137,-110.0365 186.9635,-114.9863\"/>\n",
       "</g>\n",
       "<!-- ~_3 -->\n",
       "<g id=\"node5\" class=\"node\">\n",
       "<title>~_3</title>\n",
       "<ellipse fill=\"none\" stroke=\"#000000\" cx=\"27\" cy=\"-18\" rx=\"27\" ry=\"18\"/>\n",
       "<text text-anchor=\"middle\" x=\"27\" y=\"-14.3\" font-family=\"Times,serif\" font-size=\"14.00\" fill=\"#000000\">~</text>\n",
       "</g>\n",
       "<!-- ~E_2&#45;&gt;~_3 -->\n",
       "<g id=\"edge1\" class=\"edge\">\n",
       "<title>~E_2&#45;&gt;~_3</title>\n",
       "<path fill=\"none\" stroke=\"#000000\" d=\"M54.2854,-72.5708C50.0403,-64.0807 44.8464,-53.6929 40.1337,-44.2674\"/>\n",
       "<polygon fill=\"#000000\" stroke=\"#000000\" points=\"43.237,-42.6477 35.6343,-35.2687 36.976,-45.7782 43.237,-42.6477\"/>\n",
       "</g>\n",
       "<!-- 2_1 -->\n",
       "<g id=\"node6\" class=\"node\">\n",
       "<title>2_1</title>\n",
       "<ellipse fill=\"none\" stroke=\"#000000\" cx=\"99\" cy=\"-18\" rx=\"27\" ry=\"18\"/>\n",
       "<text text-anchor=\"middle\" x=\"99\" y=\"-14.3\" font-family=\"Times,serif\" font-size=\"14.00\" fill=\"#000000\">2</text>\n",
       "</g>\n",
       "<!-- ~E_2&#45;&gt;2_1 -->\n",
       "<g id=\"edge2\" class=\"edge\">\n",
       "<title>~E_2&#45;&gt;2_1</title>\n",
       "<path fill=\"none\" stroke=\"#000000\" d=\"M71.7146,-72.5708C75.9597,-64.0807 81.1536,-53.6929 85.8663,-44.2674\"/>\n",
       "<polygon fill=\"#000000\" stroke=\"#000000\" points=\"89.024,-45.7782 90.3657,-35.2687 82.763,-42.6477 89.024,-45.7782\"/>\n",
       "</g>\n",
       "</g>\n",
       "</svg>\n"
      ],
      "text/plain": [
       "<graphviz.dot.Digraph at 0x7f46fe7e9ed0>"
      ]
     },
     "execution_count": 4,
     "metadata": {},
     "output_type": "execute_result"
    }
   ],
   "source": [
    "drawPT(parseExp(\"~2^2\"))"
   ]
  },
  {
   "cell_type": "markdown",
   "metadata": {
    "run_control": {
     "frozen": false,
     "read_only": false
    }
   },
   "source": [
    "** Free answer: ** In our calculator, unary minus has higher precedence than exponentiation, as evidenced by a parse tree of **this many** nodes.  "
   ]
  },
  {
   "cell_type": "markdown",
   "metadata": {
    "run_control": {
     "frozen": false,
     "read_only": false
    }
   },
   "source": [
    "## Why does Python give a different answer for the expression ```-2**2``` ?"
   ]
  },
  {
   "cell_type": "code",
   "execution_count": 5,
   "metadata": {
    "run_control": {
     "frozen": false,
     "read_only": false
    }
   },
   "outputs": [
    {
     "data": {
      "text/plain": [
       "-4"
      ]
     },
     "execution_count": 5,
     "metadata": {},
     "output_type": "execute_result"
    }
   ],
   "source": [
    "# Python evaluation\n",
    "-2 ** 2"
   ]
  },
  {
   "cell_type": "markdown",
   "metadata": {
    "run_control": {
     "frozen": false,
     "read_only": false
    }
   },
   "source": [
    "** Free answer: ** The experiment with the above Python expression shows how our calculator and Python differ. Specifically, the answers are **this one** (calculator) and **this one** (Python). In Python, unary minus binds less tightly than exponentiation.  "
   ]
  },
  {
   "cell_type": "markdown",
   "metadata": {
    "run_control": {
     "frozen": false,
     "read_only": false
    }
   },
   "source": [
    "## In parsing \"2^\\~3^\\~4\", the following parse tree was produced.\n",
    "\n",
    "How can we tell that the calculator gives higher precedence to \"~\" (unary minus) and that it right-associates the exponentiation operator?"
   ]
  },
  {
   "cell_type": "code",
   "execution_count": 6,
   "metadata": {
    "run_control": {
     "frozen": false,
     "read_only": false
    }
   },
   "outputs": [
    {
     "name": "stdout",
     "output_type": "stream",
     "text": [
      "Result calculated =  1.008594091576999\n",
      "Drawing AST for  ('^', (('NUMBER', '2'), ('^', (('~', ('NUMBER', '3')), ('~', ('NUMBER', '4'))))))\n"
     ]
    },
    {
     "name": "stderr",
     "output_type": "stream",
     "text": [
      "Generating LALR tables\n"
     ]
    },
    {
     "data": {
      "image/svg+xml": [
       "<?xml version=\"1.0\" encoding=\"UTF-8\" standalone=\"no\"?>\n",
       "<!DOCTYPE svg PUBLIC \"-//W3C//DTD SVG 1.1//EN\"\n",
       " \"http://www.w3.org/Graphics/SVG/1.1/DTD/svg11.dtd\">\n",
       "<!-- Generated by graphviz version 2.40.1 (20161225.0304)\n",
       " -->\n",
       "<!-- Title: PT Pages: 1 -->\n",
       "<svg width=\"339pt\" height=\"260pt\"\n",
       " viewBox=\"0.00 0.00 339.00 260.00\" xmlns=\"http://www.w3.org/2000/svg\" xmlns:xlink=\"http://www.w3.org/1999/xlink\">\n",
       "<g id=\"graph0\" class=\"graph\" transform=\"scale(1 1) rotate(0) translate(4 256)\">\n",
       "<title>PT</title>\n",
       "<polygon fill=\"#ffffff\" stroke=\"transparent\" points=\"-4,4 -4,-256 335,-256 335,4 -4,4\"/>\n",
       "<!-- E1^E2_16 -->\n",
       "<g id=\"node1\" class=\"node\">\n",
       "<title>E1^E2_16</title>\n",
       "<ellipse fill=\"none\" stroke=\"#000000\" cx=\"99\" cy=\"-234\" rx=\"34.394\" ry=\"18\"/>\n",
       "<text text-anchor=\"middle\" x=\"99\" y=\"-230.3\" font-family=\"Times,serif\" font-size=\"14.00\" fill=\"#000000\">E1^E2</text>\n",
       "</g>\n",
       "<!-- 2_7 -->\n",
       "<g id=\"node2\" class=\"node\">\n",
       "<title>2_7</title>\n",
       "<ellipse fill=\"none\" stroke=\"#000000\" cx=\"27\" cy=\"-162\" rx=\"27\" ry=\"18\"/>\n",
       "<text text-anchor=\"middle\" x=\"27\" y=\"-158.3\" font-family=\"Times,serif\" font-size=\"14.00\" fill=\"#000000\">2</text>\n",
       "</g>\n",
       "<!-- E1^E2_16&#45;&gt;2_7 -->\n",
       "<g id=\"edge8\" class=\"edge\">\n",
       "<title>E1^E2_16&#45;&gt;2_7</title>\n",
       "<path fill=\"none\" stroke=\"#000000\" d=\"M83.0209,-218.0209C73.1918,-208.1918 60.4431,-195.4431 49.591,-184.591\"/>\n",
       "<polygon fill=\"#000000\" stroke=\"#000000\" points=\"51.9863,-182.0365 42.4403,-177.4403 47.0365,-186.9863 51.9863,-182.0365\"/>\n",
       "</g>\n",
       "<!-- ^_17 -->\n",
       "<g id=\"node3\" class=\"node\">\n",
       "<title>^_17</title>\n",
       "<ellipse fill=\"none\" stroke=\"#000000\" cx=\"99\" cy=\"-162\" rx=\"27\" ry=\"18\"/>\n",
       "<text text-anchor=\"middle\" x=\"99\" y=\"-158.3\" font-family=\"Times,serif\" font-size=\"14.00\" fill=\"#000000\">^</text>\n",
       "</g>\n",
       "<!-- E1^E2_16&#45;&gt;^_17 -->\n",
       "<g id=\"edge9\" class=\"edge\">\n",
       "<title>E1^E2_16&#45;&gt;^_17</title>\n",
       "<path fill=\"none\" stroke=\"#000000\" d=\"M99,-215.8314C99,-208.131 99,-198.9743 99,-190.4166\"/>\n",
       "<polygon fill=\"#000000\" stroke=\"#000000\" points=\"102.5001,-190.4132 99,-180.4133 95.5001,-190.4133 102.5001,-190.4132\"/>\n",
       "</g>\n",
       "<!-- E1^E2_14 -->\n",
       "<g id=\"node4\" class=\"node\">\n",
       "<title>E1^E2_14</title>\n",
       "<ellipse fill=\"none\" stroke=\"#000000\" cx=\"178\" cy=\"-162\" rx=\"34.394\" ry=\"18\"/>\n",
       "<text text-anchor=\"middle\" x=\"178\" y=\"-158.3\" font-family=\"Times,serif\" font-size=\"14.00\" fill=\"#000000\">E1^E2</text>\n",
       "</g>\n",
       "<!-- E1^E2_16&#45;&gt;E1^E2_14 -->\n",
       "<g id=\"edge10\" class=\"edge\">\n",
       "<title>E1^E2_16&#45;&gt;E1^E2_14</title>\n",
       "<path fill=\"none\" stroke=\"#000000\" d=\"M116.1418,-218.3771C126.9373,-208.5382 141.055,-195.6714 153.0771,-184.7145\"/>\n",
       "<polygon fill=\"#000000\" stroke=\"#000000\" points=\"155.5855,-187.164 160.6188,-177.8411 150.8702,-181.9903 155.5855,-187.164\"/>\n",
       "</g>\n",
       "<!-- ~E_9 -->\n",
       "<g id=\"node5\" class=\"node\">\n",
       "<title>~E_9</title>\n",
       "<ellipse fill=\"none\" stroke=\"#000000\" cx=\"106\" cy=\"-90\" rx=\"27\" ry=\"18\"/>\n",
       "<text text-anchor=\"middle\" x=\"106\" y=\"-86.3\" font-family=\"Times,serif\" font-size=\"14.00\" fill=\"#000000\">~E</text>\n",
       "</g>\n",
       "<!-- E1^E2_14&#45;&gt;~E_9 -->\n",
       "<g id=\"edge5\" class=\"edge\">\n",
       "<title>E1^E2_14&#45;&gt;~E_9</title>\n",
       "<path fill=\"none\" stroke=\"#000000\" d=\"M162.0209,-146.0209C152.1918,-136.1918 139.4431,-123.4431 128.591,-112.591\"/>\n",
       "<polygon fill=\"#000000\" stroke=\"#000000\" points=\"130.9863,-110.0365 121.4403,-105.4403 126.0365,-114.9863 130.9863,-110.0365\"/>\n",
       "</g>\n",
       "<!-- ^_15 -->\n",
       "<g id=\"node6\" class=\"node\">\n",
       "<title>^_15</title>\n",
       "<ellipse fill=\"none\" stroke=\"#000000\" cx=\"178\" cy=\"-90\" rx=\"27\" ry=\"18\"/>\n",
       "<text text-anchor=\"middle\" x=\"178\" y=\"-86.3\" font-family=\"Times,serif\" font-size=\"14.00\" fill=\"#000000\">^</text>\n",
       "</g>\n",
       "<!-- E1^E2_14&#45;&gt;^_15 -->\n",
       "<g id=\"edge6\" class=\"edge\">\n",
       "<title>E1^E2_14&#45;&gt;^_15</title>\n",
       "<path fill=\"none\" stroke=\"#000000\" d=\"M178,-143.8314C178,-136.131 178,-126.9743 178,-118.4166\"/>\n",
       "<polygon fill=\"#000000\" stroke=\"#000000\" points=\"181.5001,-118.4132 178,-108.4133 174.5001,-118.4133 181.5001,-118.4132\"/>\n",
       "</g>\n",
       "<!-- ~E_12 -->\n",
       "<g id=\"node7\" class=\"node\">\n",
       "<title>~E_12</title>\n",
       "<ellipse fill=\"none\" stroke=\"#000000\" cx=\"250\" cy=\"-90\" rx=\"27\" ry=\"18\"/>\n",
       "<text text-anchor=\"middle\" x=\"250\" y=\"-86.3\" font-family=\"Times,serif\" font-size=\"14.00\" fill=\"#000000\">~E</text>\n",
       "</g>\n",
       "<!-- E1^E2_14&#45;&gt;~E_12 -->\n",
       "<g id=\"edge7\" class=\"edge\">\n",
       "<title>E1^E2_14&#45;&gt;~E_12</title>\n",
       "<path fill=\"none\" stroke=\"#000000\" d=\"M193.9791,-146.0209C203.8082,-136.1918 216.5569,-123.4431 227.409,-112.591\"/>\n",
       "<polygon fill=\"#000000\" stroke=\"#000000\" points=\"229.9635,-114.9863 234.5597,-105.4403 225.0137,-110.0365 229.9635,-114.9863\"/>\n",
       "</g>\n",
       "<!-- ~_10 -->\n",
       "<g id=\"node8\" class=\"node\">\n",
       "<title>~_10</title>\n",
       "<ellipse fill=\"none\" stroke=\"#000000\" cx=\"70\" cy=\"-18\" rx=\"27\" ry=\"18\"/>\n",
       "<text text-anchor=\"middle\" x=\"70\" y=\"-14.3\" font-family=\"Times,serif\" font-size=\"14.00\" fill=\"#000000\">~</text>\n",
       "</g>\n",
       "<!-- ~E_9&#45;&gt;~_10 -->\n",
       "<g id=\"edge1\" class=\"edge\">\n",
       "<title>~E_9&#45;&gt;~_10</title>\n",
       "<path fill=\"none\" stroke=\"#000000\" d=\"M97.2854,-72.5708C93.0403,-64.0807 87.8464,-53.6929 83.1337,-44.2674\"/>\n",
       "<polygon fill=\"#000000\" stroke=\"#000000\" points=\"86.237,-42.6477 78.6343,-35.2687 79.976,-45.7782 86.237,-42.6477\"/>\n",
       "</g>\n",
       "<!-- 3_8 -->\n",
       "<g id=\"node9\" class=\"node\">\n",
       "<title>3_8</title>\n",
       "<ellipse fill=\"none\" stroke=\"#000000\" cx=\"142\" cy=\"-18\" rx=\"27\" ry=\"18\"/>\n",
       "<text text-anchor=\"middle\" x=\"142\" y=\"-14.3\" font-family=\"Times,serif\" font-size=\"14.00\" fill=\"#000000\">3</text>\n",
       "</g>\n",
       "<!-- ~E_9&#45;&gt;3_8 -->\n",
       "<g id=\"edge2\" class=\"edge\">\n",
       "<title>~E_9&#45;&gt;3_8</title>\n",
       "<path fill=\"none\" stroke=\"#000000\" d=\"M114.7146,-72.5708C118.9597,-64.0807 124.1536,-53.6929 128.8663,-44.2674\"/>\n",
       "<polygon fill=\"#000000\" stroke=\"#000000\" points=\"132.024,-45.7782 133.3657,-35.2687 125.763,-42.6477 132.024,-45.7782\"/>\n",
       "</g>\n",
       "<!-- ~_13 -->\n",
       "<g id=\"node10\" class=\"node\">\n",
       "<title>~_13</title>\n",
       "<ellipse fill=\"none\" stroke=\"#000000\" cx=\"232\" cy=\"-18\" rx=\"27\" ry=\"18\"/>\n",
       "<text text-anchor=\"middle\" x=\"232\" y=\"-14.3\" font-family=\"Times,serif\" font-size=\"14.00\" fill=\"#000000\">~</text>\n",
       "</g>\n",
       "<!-- ~E_12&#45;&gt;~_13 -->\n",
       "<g id=\"edge3\" class=\"edge\">\n",
       "<title>~E_12&#45;&gt;~_13</title>\n",
       "<path fill=\"none\" stroke=\"#000000\" d=\"M245.5506,-72.2022C243.5602,-64.2406 241.1668,-54.6671 238.9489,-45.7957\"/>\n",
       "<polygon fill=\"#000000\" stroke=\"#000000\" points=\"242.2816,-44.6951 236.4606,-35.8425 235.4906,-46.3929 242.2816,-44.6951\"/>\n",
       "</g>\n",
       "<!-- 4_11 -->\n",
       "<g id=\"node11\" class=\"node\">\n",
       "<title>4_11</title>\n",
       "<ellipse fill=\"none\" stroke=\"#000000\" cx=\"304\" cy=\"-18\" rx=\"27\" ry=\"18\"/>\n",
       "<text text-anchor=\"middle\" x=\"304\" y=\"-14.3\" font-family=\"Times,serif\" font-size=\"14.00\" fill=\"#000000\">4</text>\n",
       "</g>\n",
       "<!-- ~E_12&#45;&gt;4_11 -->\n",
       "<g id=\"edge4\" class=\"edge\">\n",
       "<title>~E_12&#45;&gt;4_11</title>\n",
       "<path fill=\"none\" stroke=\"#000000\" d=\"M262.2534,-73.6621C269.1577,-64.4564 277.9177,-52.7764 285.6285,-42.4953\"/>\n",
       "<polygon fill=\"#000000\" stroke=\"#000000\" points=\"288.595,-44.3733 291.7951,-34.2733 282.995,-40.1733 288.595,-44.3733\"/>\n",
       "</g>\n",
       "</g>\n",
       "</svg>\n"
      ],
      "text/plain": [
       "<graphviz.dot.Digraph at 0x7f46fe7443d0>"
      ]
     },
     "execution_count": 6,
     "metadata": {},
     "output_type": "execute_result"
    }
   ],
   "source": [
    "drawPT(parseExp(\"2^~3^~4\"))"
   ]
  },
  {
   "cell_type": "markdown",
   "metadata": {
    "run_control": {
     "frozen": false,
     "read_only": false
    }
   },
   "source": [
    "** Free answer: ** \n",
    "\n",
    "We see how the tree of **this many nodes** for the above expression 2^~3^~4 is built, where the value of the second \"^\" flows as the EXPONENT of the first \"^\".  Also see that \"~\" (the unary minus) is incorporated before any exponentiation gets done.  "
   ]
  },
  {
   "cell_type": "markdown",
   "metadata": {
    "run_control": {
     "frozen": false,
     "read_only": false
    }
   },
   "source": [
    "## What does ```2**-3**-4``` produce in Python? Is it the same answer?"
   ]
  },
  {
   "cell_type": "code",
   "execution_count": 7,
   "metadata": {
    "run_control": {
     "frozen": false,
     "read_only": false
    }
   },
   "outputs": [
    {
     "data": {
      "text/plain": [
       "0.9914791374956781"
      ]
     },
     "execution_count": 7,
     "metadata": {},
     "output_type": "execute_result"
    }
   ],
   "source": [
    "# The above expression typed into Python in Python's syntax is below, and see what it produces!\n",
    "\n",
    "2**-3**-4"
   ]
  },
  {
   "cell_type": "markdown",
   "metadata": {
    "run_control": {
     "frozen": false,
     "read_only": false
    }
   },
   "source": [
    "** Free answer: ** Python differs from our calculator in how it handles ```2**-3**-4``` versus 2^~3^~4. It yields **this answer**.  "
   ]
  },
  {
   "cell_type": "markdown",
   "metadata": {
    "run_control": {
     "frozen": false,
     "read_only": false
    }
   },
   "source": [
    "## Show by full parenthesization how Python parses 2**-3**-4"
   ]
  },
  {
   "cell_type": "code",
   "execution_count": 8,
   "metadata": {
    "run_control": {
     "frozen": false,
     "read_only": false
    }
   },
   "outputs": [
    {
     "data": {
      "text/plain": [
       "0.9914791374956781"
      ]
     },
     "execution_count": 8,
     "metadata": {},
     "output_type": "execute_result"
    }
   ],
   "source": [
    "2**(-(3**(-4)))"
   ]
  },
  {
   "cell_type": "markdown",
   "metadata": {
    "run_control": {
     "frozen": false,
     "read_only": false
    }
   },
   "source": [
    "** Free answer: ** \n",
    "\n",
    "It parses it as ```2**(-(3**(-4)))```, showing that unary \"-\" does not have the same precedence as exp. However, the exps are processed right-associatively!"
   ]
  },
  {
   "cell_type": "markdown",
   "metadata": {
    "run_control": {
     "frozen": false,
     "read_only": false
    }
   },
   "source": [
    "## Parsing ```6*3/4*~5/(2+3-4-5-6/7*~8)-~9```\n",
    "\n",
    "How many nodes in this parse tree? Same as Python's answer?"
   ]
  },
  {
   "cell_type": "code",
   "execution_count": 9,
   "metadata": {
    "run_control": {
     "frozen": false,
     "read_only": false
    }
   },
   "outputs": [
    {
     "name": "stdout",
     "output_type": "stream",
     "text": [
      "Result calculated =  1.1249999999999991\n",
      "Drawing AST for  ('-', (('/', (('*', (('/', (('*', (('NUMBER', '6'), ('NUMBER', '3'))), ('NUMBER', '4'))), ('~', ('NUMBER', '5')))), ('-', (('-', (('-', (('+', (('NUMBER', '2'), ('NUMBER', '3'))), ('NUMBER', '4'))), ('NUMBER', '5'))), ('*', (('/', (('NUMBER', '6'), ('NUMBER', '7'))), ('~', ('NUMBER', '8')))))))), ('~', ('NUMBER', '9'))))\n"
     ]
    },
    {
     "name": "stderr",
     "output_type": "stream",
     "text": [
      "Generating LALR tables\n"
     ]
    },
    {
     "data": {
      "image/svg+xml": [
       "<?xml version=\"1.0\" encoding=\"UTF-8\" standalone=\"no\"?>\n",
       "<!DOCTYPE svg PUBLIC \"-//W3C//DTD SVG 1.1//EN\"\n",
       " \"http://www.w3.org/Graphics/SVG/1.1/DTD/svg11.dtd\">\n",
       "<!-- Generated by graphviz version 2.40.1 (20161225.0304)\n",
       " -->\n",
       "<!-- Title: PT Pages: 1 -->\n",
       "<svg width=\"856pt\" height=\"548pt\"\n",
       " viewBox=\"0.00 0.00 856.00 548.00\" xmlns=\"http://www.w3.org/2000/svg\" xmlns:xlink=\"http://www.w3.org/1999/xlink\">\n",
       "<g id=\"graph0\" class=\"graph\" transform=\"scale(1 1) rotate(0) translate(4 544)\">\n",
       "<title>PT</title>\n",
       "<polygon fill=\"#ffffff\" stroke=\"transparent\" points=\"-4,4 -4,-544 852,-544 852,4 -4,4\"/>\n",
       "<!-- E1&#45;E2_59 -->\n",
       "<g id=\"node1\" class=\"node\">\n",
       "<title>E1&#45;E2_59</title>\n",
       "<ellipse fill=\"none\" stroke=\"#000000\" cx=\"510\" cy=\"-522\" rx=\"33.2948\" ry=\"18\"/>\n",
       "<text text-anchor=\"middle\" x=\"510\" y=\"-518.3\" font-family=\"Times,serif\" font-size=\"14.00\" fill=\"#000000\">E1&#45;E2</text>\n",
       "</g>\n",
       "<!-- E1/E2_54 -->\n",
       "<g id=\"node2\" class=\"node\">\n",
       "<title>E1/E2_54</title>\n",
       "<ellipse fill=\"none\" stroke=\"#000000\" cx=\"433\" cy=\"-450\" rx=\"32.4942\" ry=\"18\"/>\n",
       "<text text-anchor=\"middle\" x=\"433\" y=\"-446.3\" font-family=\"Times,serif\" font-size=\"14.00\" fill=\"#000000\">E1/E2</text>\n",
       "</g>\n",
       "<!-- E1&#45;E2_59&#45;&gt;E1/E2_54 -->\n",
       "<g id=\"edge40\" class=\"edge\">\n",
       "<title>E1&#45;E2_59&#45;&gt;E1/E2_54</title>\n",
       "<path fill=\"none\" stroke=\"#000000\" d=\"M493.2921,-506.3771C482.6974,-496.4703 468.8198,-483.4938 457.0498,-472.4881\"/>\n",
       "<polygon fill=\"#000000\" stroke=\"#000000\" points=\"459.37,-469.8659 449.6752,-465.5924 454.589,-474.9789 459.37,-469.8659\"/>\n",
       "</g>\n",
       "<!-- &#45;_60 -->\n",
       "<g id=\"node3\" class=\"node\">\n",
       "<title>&#45;_60</title>\n",
       "<ellipse fill=\"none\" stroke=\"#000000\" cx=\"510\" cy=\"-450\" rx=\"27\" ry=\"18\"/>\n",
       "<text text-anchor=\"middle\" x=\"510\" y=\"-446.3\" font-family=\"Times,serif\" font-size=\"14.00\" fill=\"#000000\">&#45;</text>\n",
       "</g>\n",
       "<!-- E1&#45;E2_59&#45;&gt;&#45;_60 -->\n",
       "<g id=\"edge41\" class=\"edge\">\n",
       "<title>E1&#45;E2_59&#45;&gt;&#45;_60</title>\n",
       "<path fill=\"none\" stroke=\"#000000\" d=\"M510,-503.8314C510,-496.131 510,-486.9743 510,-478.4166\"/>\n",
       "<polygon fill=\"#000000\" stroke=\"#000000\" points=\"513.5001,-478.4132 510,-468.4133 506.5001,-478.4133 513.5001,-478.4132\"/>\n",
       "</g>\n",
       "<!-- ~E_57 -->\n",
       "<g id=\"node4\" class=\"node\">\n",
       "<title>~E_57</title>\n",
       "<ellipse fill=\"none\" stroke=\"#000000\" cx=\"582\" cy=\"-450\" rx=\"27\" ry=\"18\"/>\n",
       "<text text-anchor=\"middle\" x=\"582\" y=\"-446.3\" font-family=\"Times,serif\" font-size=\"14.00\" fill=\"#000000\">~E</text>\n",
       "</g>\n",
       "<!-- E1&#45;E2_59&#45;&gt;~E_57 -->\n",
       "<g id=\"edge42\" class=\"edge\">\n",
       "<title>E1&#45;E2_59&#45;&gt;~E_57</title>\n",
       "<path fill=\"none\" stroke=\"#000000\" d=\"M525.9791,-506.0209C535.8082,-496.1918 548.5569,-483.4431 559.409,-472.591\"/>\n",
       "<polygon fill=\"#000000\" stroke=\"#000000\" points=\"561.9635,-474.9863 566.5597,-465.4403 557.0137,-470.0365 561.9635,-474.9863\"/>\n",
       "</g>\n",
       "<!-- E1*E2_28 -->\n",
       "<g id=\"node5\" class=\"node\">\n",
       "<title>E1*E2_28</title>\n",
       "<ellipse fill=\"none\" stroke=\"#000000\" cx=\"338\" cy=\"-378\" rx=\"34.394\" ry=\"18\"/>\n",
       "<text text-anchor=\"middle\" x=\"338\" y=\"-374.3\" font-family=\"Times,serif\" font-size=\"14.00\" fill=\"#000000\">E1*E2</text>\n",
       "</g>\n",
       "<!-- E1/E2_54&#45;&gt;E1*E2_28 -->\n",
       "<g id=\"edge35\" class=\"edge\">\n",
       "<title>E1/E2_54&#45;&gt;E1*E2_28</title>\n",
       "<path fill=\"none\" stroke=\"#000000\" d=\"M413.7753,-435.4297C400.0516,-425.0286 381.3767,-410.875 366.0006,-399.2215\"/>\n",
       "<polygon fill=\"#000000\" stroke=\"#000000\" points=\"367.9338,-396.2951 357.85,-393.0442 363.7057,-401.8739 367.9338,-396.2951\"/>\n",
       "</g>\n",
       "<!-- /_55 -->\n",
       "<g id=\"node6\" class=\"node\">\n",
       "<title>/_55</title>\n",
       "<ellipse fill=\"none\" stroke=\"#000000\" cx=\"433\" cy=\"-378\" rx=\"27\" ry=\"18\"/>\n",
       "<text text-anchor=\"middle\" x=\"433\" y=\"-374.3\" font-family=\"Times,serif\" font-size=\"14.00\" fill=\"#000000\">/</text>\n",
       "</g>\n",
       "<!-- E1/E2_54&#45;&gt;/_55 -->\n",
       "<g id=\"edge36\" class=\"edge\">\n",
       "<title>E1/E2_54&#45;&gt;/_55</title>\n",
       "<path fill=\"none\" stroke=\"#000000\" d=\"M433,-431.8314C433,-424.131 433,-414.9743 433,-406.4166\"/>\n",
       "<polygon fill=\"#000000\" stroke=\"#000000\" points=\"436.5001,-406.4132 433,-396.4133 429.5001,-406.4133 436.5001,-406.4132\"/>\n",
       "</g>\n",
       "<!-- (E)_51 -->\n",
       "<g id=\"node7\" class=\"node\">\n",
       "<title>(E)_51</title>\n",
       "<ellipse fill=\"none\" stroke=\"#000000\" cx=\"507\" cy=\"-378\" rx=\"27\" ry=\"18\"/>\n",
       "<text text-anchor=\"middle\" x=\"507\" y=\"-374.3\" font-family=\"Times,serif\" font-size=\"14.00\" fill=\"#000000\">(E)</text>\n",
       "</g>\n",
       "<!-- E1/E2_54&#45;&gt;(E)_51 -->\n",
       "<g id=\"edge37\" class=\"edge\">\n",
       "<title>E1/E2_54&#45;&gt;(E)_51</title>\n",
       "<path fill=\"none\" stroke=\"#000000\" d=\"M449.423,-434.0209C459.6635,-424.0571 472.9875,-411.0932 484.2387,-400.1461\"/>\n",
       "<polygon fill=\"#000000\" stroke=\"#000000\" points=\"486.9069,-402.4334 491.6335,-392.9512 482.0254,-397.4163 486.9069,-402.4334\"/>\n",
       "</g>\n",
       "<!-- ~_58 -->\n",
       "<g id=\"node42\" class=\"node\">\n",
       "<title>~_58</title>\n",
       "<ellipse fill=\"none\" stroke=\"#000000\" cx=\"581\" cy=\"-378\" rx=\"27\" ry=\"18\"/>\n",
       "<text text-anchor=\"middle\" x=\"581\" y=\"-374.3\" font-family=\"Times,serif\" font-size=\"14.00\" fill=\"#000000\">~</text>\n",
       "</g>\n",
       "<!-- ~E_57&#45;&gt;~_58 -->\n",
       "<g id=\"edge38\" class=\"edge\">\n",
       "<title>~E_57&#45;&gt;~_58</title>\n",
       "<path fill=\"none\" stroke=\"#000000\" d=\"M581.7477,-431.8314C581.6407,-424.131 581.5135,-414.9743 581.3947,-406.4166\"/>\n",
       "<polygon fill=\"#000000\" stroke=\"#000000\" points=\"584.8944,-406.3637 581.2557,-396.4133 577.8951,-406.4609 584.8944,-406.3637\"/>\n",
       "</g>\n",
       "<!-- 9_56 -->\n",
       "<g id=\"node43\" class=\"node\">\n",
       "<title>9_56</title>\n",
       "<ellipse fill=\"none\" stroke=\"#000000\" cx=\"653\" cy=\"-378\" rx=\"27\" ry=\"18\"/>\n",
       "<text text-anchor=\"middle\" x=\"653\" y=\"-374.3\" font-family=\"Times,serif\" font-size=\"14.00\" fill=\"#000000\">9</text>\n",
       "</g>\n",
       "<!-- ~E_57&#45;&gt;9_56 -->\n",
       "<g id=\"edge39\" class=\"edge\">\n",
       "<title>~E_57&#45;&gt;9_56</title>\n",
       "<path fill=\"none\" stroke=\"#000000\" d=\"M597.0573,-434.7307C606.847,-424.803 619.7831,-411.6847 630.7497,-400.5637\"/>\n",
       "<polygon fill=\"#000000\" stroke=\"#000000\" points=\"633.4351,-402.8252 637.9644,-393.2473 628.4508,-397.9102 633.4351,-402.8252\"/>\n",
       "</g>\n",
       "<!-- E1/E2_23 -->\n",
       "<g id=\"node8\" class=\"node\">\n",
       "<title>E1/E2_23</title>\n",
       "<ellipse fill=\"none\" stroke=\"#000000\" cx=\"211\" cy=\"-306\" rx=\"32.4942\" ry=\"18\"/>\n",
       "<text text-anchor=\"middle\" x=\"211\" y=\"-302.3\" font-family=\"Times,serif\" font-size=\"14.00\" fill=\"#000000\">E1/E2</text>\n",
       "</g>\n",
       "<!-- E1*E2_28&#45;&gt;E1/E2_23 -->\n",
       "<g id=\"edge9\" class=\"edge\">\n",
       "<title>E1*E2_28&#45;&gt;E1/E2_23</title>\n",
       "<path fill=\"none\" stroke=\"#000000\" d=\"M314.4099,-364.6261C294.2349,-353.1883 265.021,-336.6261 242.7865,-324.0207\"/>\n",
       "<polygon fill=\"#000000\" stroke=\"#000000\" points=\"244.461,-320.9467 234.0355,-319.0595 241.0086,-327.0362 244.461,-320.9467\"/>\n",
       "</g>\n",
       "<!-- *_29 -->\n",
       "<g id=\"node9\" class=\"node\">\n",
       "<title>*_29</title>\n",
       "<ellipse fill=\"none\" stroke=\"#000000\" cx=\"305\" cy=\"-306\" rx=\"27\" ry=\"18\"/>\n",
       "<text text-anchor=\"middle\" x=\"305\" y=\"-302.3\" font-family=\"Times,serif\" font-size=\"14.00\" fill=\"#000000\">*</text>\n",
       "</g>\n",
       "<!-- E1*E2_28&#45;&gt;*_29 -->\n",
       "<g id=\"edge10\" class=\"edge\">\n",
       "<title>E1*E2_28&#45;&gt;*_29</title>\n",
       "<path fill=\"none\" stroke=\"#000000\" d=\"M329.8427,-360.2022C326.018,-351.8574 321.3816,-341.7417 317.1549,-332.5197\"/>\n",
       "<polygon fill=\"#000000\" stroke=\"#000000\" points=\"320.2979,-330.9769 312.9496,-323.3446 313.9345,-333.8936 320.2979,-330.9769\"/>\n",
       "</g>\n",
       "<!-- ~E_26 -->\n",
       "<g id=\"node10\" class=\"node\">\n",
       "<title>~E_26</title>\n",
       "<ellipse fill=\"none\" stroke=\"#000000\" cx=\"377\" cy=\"-306\" rx=\"27\" ry=\"18\"/>\n",
       "<text text-anchor=\"middle\" x=\"377\" y=\"-302.3\" font-family=\"Times,serif\" font-size=\"14.00\" fill=\"#000000\">~E</text>\n",
       "</g>\n",
       "<!-- E1*E2_28&#45;&gt;~E_26 -->\n",
       "<g id=\"edge11\" class=\"edge\">\n",
       "<title>E1*E2_28&#45;&gt;~E_26</title>\n",
       "<path fill=\"none\" stroke=\"#000000\" d=\"M347.4408,-360.5708C352.0396,-352.0807 357.6664,-341.6929 362.7718,-332.2674\"/>\n",
       "<polygon fill=\"#000000\" stroke=\"#000000\" points=\"365.9608,-333.7286 367.6461,-323.2687 359.8057,-330.3946 365.9608,-333.7286\"/>\n",
       "</g>\n",
       "<!-- (_52 -->\n",
       "<g id=\"node19\" class=\"node\">\n",
       "<title>(_52</title>\n",
       "<ellipse fill=\"none\" stroke=\"#000000\" cx=\"460\" cy=\"-306\" rx=\"27\" ry=\"18\"/>\n",
       "<text text-anchor=\"middle\" x=\"460\" y=\"-302.3\" font-family=\"Times,serif\" font-size=\"14.00\" fill=\"#000000\">(</text>\n",
       "</g>\n",
       "<!-- (E)_51&#45;&gt;(_52 -->\n",
       "<g id=\"edge32\" class=\"edge\">\n",
       "<title>(E)_51&#45;&gt;(_52</title>\n",
       "<path fill=\"none\" stroke=\"#000000\" d=\"M496.0991,-361.3008C490.2264,-352.3043 482.8634,-341.0247 476.3213,-331.0029\"/>\n",
       "<polygon fill=\"#000000\" stroke=\"#000000\" points=\"479.2389,-329.0693 470.8418,-322.6087 473.3772,-332.8957 479.2389,-329.0693\"/>\n",
       "</g>\n",
       "<!-- E1&#45;E2_49 -->\n",
       "<g id=\"node20\" class=\"node\">\n",
       "<title>E1&#45;E2_49</title>\n",
       "<ellipse fill=\"none\" stroke=\"#000000\" cx=\"538\" cy=\"-306\" rx=\"33.2948\" ry=\"18\"/>\n",
       "<text text-anchor=\"middle\" x=\"538\" y=\"-302.3\" font-family=\"Times,serif\" font-size=\"14.00\" fill=\"#000000\">E1&#45;E2</text>\n",
       "</g>\n",
       "<!-- (E)_51&#45;&gt;E1&#45;E2_49 -->\n",
       "<g id=\"edge33\" class=\"edge\">\n",
       "<title>(E)_51&#45;&gt;E1&#45;E2_49</title>\n",
       "<path fill=\"none\" stroke=\"#000000\" d=\"M514.5042,-360.5708C518.0684,-352.2927 522.4094,-342.2104 526.3857,-332.9752\"/>\n",
       "<polygon fill=\"#000000\" stroke=\"#000000\" points=\"529.6096,-334.3379 530.3495,-323.7689 523.1802,-331.5696 529.6096,-334.3379\"/>\n",
       "</g>\n",
       "<!-- )_53 -->\n",
       "<g id=\"node41\" class=\"node\">\n",
       "<title>)_53</title>\n",
       "<ellipse fill=\"none\" stroke=\"#000000\" cx=\"616\" cy=\"-306\" rx=\"27\" ry=\"18\"/>\n",
       "<text text-anchor=\"middle\" x=\"616\" y=\"-302.3\" font-family=\"Times,serif\" font-size=\"14.00\" fill=\"#000000\">)</text>\n",
       "</g>\n",
       "<!-- (E)_51&#45;&gt;)_53 -->\n",
       "<g id=\"edge34\" class=\"edge\">\n",
       "<title>(E)_51&#45;&gt;)_53</title>\n",
       "<path fill=\"none\" stroke=\"#000000\" d=\"M526.2361,-365.2936C543.408,-353.9507 568.7651,-337.201 588.1527,-324.3946\"/>\n",
       "<polygon fill=\"#000000\" stroke=\"#000000\" points=\"590.1746,-327.2536 596.5896,-318.8216 586.3165,-321.4128 590.1746,-327.2536\"/>\n",
       "</g>\n",
       "<!-- E1*E2_20 -->\n",
       "<g id=\"node11\" class=\"node\">\n",
       "<title>E1*E2_20</title>\n",
       "<ellipse fill=\"none\" stroke=\"#000000\" cx=\"99\" cy=\"-234\" rx=\"34.394\" ry=\"18\"/>\n",
       "<text text-anchor=\"middle\" x=\"99\" y=\"-230.3\" font-family=\"Times,serif\" font-size=\"14.00\" fill=\"#000000\">E1*E2</text>\n",
       "</g>\n",
       "<!-- E1/E2_23&#45;&gt;E1*E2_20 -->\n",
       "<g id=\"edge4\" class=\"edge\">\n",
       "<title>E1/E2_23&#45;&gt;E1*E2_20</title>\n",
       "<path fill=\"none\" stroke=\"#000000\" d=\"M189.67,-292.2879C172.6848,-281.3688 148.6841,-265.9398 129.6422,-253.6986\"/>\n",
       "<polygon fill=\"#000000\" stroke=\"#000000\" points=\"131.3203,-250.6165 121.0159,-248.1531 127.535,-256.5048 131.3203,-250.6165\"/>\n",
       "</g>\n",
       "<!-- /_24 -->\n",
       "<g id=\"node12\" class=\"node\">\n",
       "<title>/_24</title>\n",
       "<ellipse fill=\"none\" stroke=\"#000000\" cx=\"178\" cy=\"-234\" rx=\"27\" ry=\"18\"/>\n",
       "<text text-anchor=\"middle\" x=\"178\" y=\"-230.3\" font-family=\"Times,serif\" font-size=\"14.00\" fill=\"#000000\">/</text>\n",
       "</g>\n",
       "<!-- E1/E2_23&#45;&gt;/_24 -->\n",
       "<g id=\"edge5\" class=\"edge\">\n",
       "<title>E1/E2_23&#45;&gt;/_24</title>\n",
       "<path fill=\"none\" stroke=\"#000000\" d=\"M202.8427,-288.2022C199.018,-279.8574 194.3816,-269.7417 190.1549,-260.5197\"/>\n",
       "<polygon fill=\"#000000\" stroke=\"#000000\" points=\"193.2979,-258.9769 185.9496,-251.3446 186.9345,-261.8936 193.2979,-258.9769\"/>\n",
       "</g>\n",
       "<!-- 4_22 -->\n",
       "<g id=\"node13\" class=\"node\">\n",
       "<title>4_22</title>\n",
       "<ellipse fill=\"none\" stroke=\"#000000\" cx=\"250\" cy=\"-234\" rx=\"27\" ry=\"18\"/>\n",
       "<text text-anchor=\"middle\" x=\"250\" y=\"-230.3\" font-family=\"Times,serif\" font-size=\"14.00\" fill=\"#000000\">4</text>\n",
       "</g>\n",
       "<!-- E1/E2_23&#45;&gt;4_22 -->\n",
       "<g id=\"edge6\" class=\"edge\">\n",
       "<title>E1/E2_23&#45;&gt;4_22</title>\n",
       "<path fill=\"none\" stroke=\"#000000\" d=\"M220.4408,-288.5708C225.0396,-280.0807 230.6664,-269.6929 235.7718,-260.2674\"/>\n",
       "<polygon fill=\"#000000\" stroke=\"#000000\" points=\"238.9608,-261.7286 240.6461,-251.2687 232.8057,-258.3946 238.9608,-261.7286\"/>\n",
       "</g>\n",
       "<!-- ~_27 -->\n",
       "<g id=\"node17\" class=\"node\">\n",
       "<title>~_27</title>\n",
       "<ellipse fill=\"none\" stroke=\"#000000\" cx=\"322\" cy=\"-234\" rx=\"27\" ry=\"18\"/>\n",
       "<text text-anchor=\"middle\" x=\"322\" y=\"-230.3\" font-family=\"Times,serif\" font-size=\"14.00\" fill=\"#000000\">~</text>\n",
       "</g>\n",
       "<!-- ~E_26&#45;&gt;~_27 -->\n",
       "<g id=\"edge7\" class=\"edge\">\n",
       "<title>~E_26&#45;&gt;~_27</title>\n",
       "<path fill=\"none\" stroke=\"#000000\" d=\"M364.5196,-289.6621C357.4876,-280.4564 348.5653,-268.7764 340.7117,-258.4953\"/>\n",
       "<polygon fill=\"#000000\" stroke=\"#000000\" points=\"343.2828,-256.0953 334.431,-250.2733 337.72,-260.3446 343.2828,-256.0953\"/>\n",
       "</g>\n",
       "<!-- 5_25 -->\n",
       "<g id=\"node18\" class=\"node\">\n",
       "<title>5_25</title>\n",
       "<ellipse fill=\"none\" stroke=\"#000000\" cx=\"394\" cy=\"-234\" rx=\"27\" ry=\"18\"/>\n",
       "<text text-anchor=\"middle\" x=\"394\" y=\"-230.3\" font-family=\"Times,serif\" font-size=\"14.00\" fill=\"#000000\">5</text>\n",
       "</g>\n",
       "<!-- ~E_26&#45;&gt;5_25 -->\n",
       "<g id=\"edge8\" class=\"edge\">\n",
       "<title>~E_26&#45;&gt;5_25</title>\n",
       "<path fill=\"none\" stroke=\"#000000\" d=\"M381.2022,-288.2022C383.0821,-280.2406 385.3425,-270.6671 387.4371,-261.7957\"/>\n",
       "<polygon fill=\"#000000\" stroke=\"#000000\" points=\"390.8955,-262.3792 389.7872,-251.8425 384.0828,-260.7706 390.8955,-262.3792\"/>\n",
       "</g>\n",
       "<!-- 6_18 -->\n",
       "<g id=\"node14\" class=\"node\">\n",
       "<title>6_18</title>\n",
       "<ellipse fill=\"none\" stroke=\"#000000\" cx=\"27\" cy=\"-162\" rx=\"27\" ry=\"18\"/>\n",
       "<text text-anchor=\"middle\" x=\"27\" y=\"-158.3\" font-family=\"Times,serif\" font-size=\"14.00\" fill=\"#000000\">6</text>\n",
       "</g>\n",
       "<!-- E1*E2_20&#45;&gt;6_18 -->\n",
       "<g id=\"edge1\" class=\"edge\">\n",
       "<title>E1*E2_20&#45;&gt;6_18</title>\n",
       "<path fill=\"none\" stroke=\"#000000\" d=\"M83.0209,-218.0209C73.1918,-208.1918 60.4431,-195.4431 49.591,-184.591\"/>\n",
       "<polygon fill=\"#000000\" stroke=\"#000000\" points=\"51.9863,-182.0365 42.4403,-177.4403 47.0365,-186.9863 51.9863,-182.0365\"/>\n",
       "</g>\n",
       "<!-- *_21 -->\n",
       "<g id=\"node15\" class=\"node\">\n",
       "<title>*_21</title>\n",
       "<ellipse fill=\"none\" stroke=\"#000000\" cx=\"99\" cy=\"-162\" rx=\"27\" ry=\"18\"/>\n",
       "<text text-anchor=\"middle\" x=\"99\" y=\"-158.3\" font-family=\"Times,serif\" font-size=\"14.00\" fill=\"#000000\">*</text>\n",
       "</g>\n",
       "<!-- E1*E2_20&#45;&gt;*_21 -->\n",
       "<g id=\"edge2\" class=\"edge\">\n",
       "<title>E1*E2_20&#45;&gt;*_21</title>\n",
       "<path fill=\"none\" stroke=\"#000000\" d=\"M99,-215.8314C99,-208.131 99,-198.9743 99,-190.4166\"/>\n",
       "<polygon fill=\"#000000\" stroke=\"#000000\" points=\"102.5001,-190.4132 99,-180.4133 95.5001,-190.4133 102.5001,-190.4132\"/>\n",
       "</g>\n",
       "<!-- 3_19 -->\n",
       "<g id=\"node16\" class=\"node\">\n",
       "<title>3_19</title>\n",
       "<ellipse fill=\"none\" stroke=\"#000000\" cx=\"171\" cy=\"-162\" rx=\"27\" ry=\"18\"/>\n",
       "<text text-anchor=\"middle\" x=\"171\" y=\"-158.3\" font-family=\"Times,serif\" font-size=\"14.00\" fill=\"#000000\">3</text>\n",
       "</g>\n",
       "<!-- E1*E2_20&#45;&gt;3_19 -->\n",
       "<g id=\"edge3\" class=\"edge\">\n",
       "<title>E1*E2_20&#45;&gt;3_19</title>\n",
       "<path fill=\"none\" stroke=\"#000000\" d=\"M114.9791,-218.0209C124.8082,-208.1918 137.5569,-195.4431 148.409,-184.591\"/>\n",
       "<polygon fill=\"#000000\" stroke=\"#000000\" points=\"150.9635,-186.9863 155.5597,-177.4403 146.0137,-182.0365 150.9635,-186.9863\"/>\n",
       "</g>\n",
       "<!-- E1&#45;E2_38 -->\n",
       "<g id=\"node21\" class=\"node\">\n",
       "<title>E1&#45;E2_38</title>\n",
       "<ellipse fill=\"none\" stroke=\"#000000\" cx=\"472\" cy=\"-234\" rx=\"33.2948\" ry=\"18\"/>\n",
       "<text text-anchor=\"middle\" x=\"472\" y=\"-230.3\" font-family=\"Times,serif\" font-size=\"14.00\" fill=\"#000000\">E1&#45;E2</text>\n",
       "</g>\n",
       "<!-- E1&#45;E2_49&#45;&gt;E1&#45;E2_38 -->\n",
       "<g id=\"edge29\" class=\"edge\">\n",
       "<title>E1&#45;E2_49&#45;&gt;E1&#45;E2_38</title>\n",
       "<path fill=\"none\" stroke=\"#000000\" d=\"M523.0236,-289.6621C514.4163,-280.2723 503.4492,-268.3082 493.8902,-257.8802\"/>\n",
       "<polygon fill=\"#000000\" stroke=\"#000000\" points=\"496.2545,-255.2798 486.9172,-250.2733 491.0944,-260.0099 496.2545,-255.2798\"/>\n",
       "</g>\n",
       "<!-- &#45;_50 -->\n",
       "<g id=\"node22\" class=\"node\">\n",
       "<title>&#45;_50</title>\n",
       "<ellipse fill=\"none\" stroke=\"#000000\" cx=\"550\" cy=\"-234\" rx=\"27\" ry=\"18\"/>\n",
       "<text text-anchor=\"middle\" x=\"550\" y=\"-230.3\" font-family=\"Times,serif\" font-size=\"14.00\" fill=\"#000000\">&#45;</text>\n",
       "</g>\n",
       "<!-- E1&#45;E2_49&#45;&gt;&#45;_50 -->\n",
       "<g id=\"edge30\" class=\"edge\">\n",
       "<title>E1&#45;E2_49&#45;&gt;&#45;_50</title>\n",
       "<path fill=\"none\" stroke=\"#000000\" d=\"M541.0281,-287.8314C542.3313,-280.0125 543.8846,-270.6923 545.3297,-262.0221\"/>\n",
       "<polygon fill=\"#000000\" stroke=\"#000000\" points=\"548.8227,-262.3528 547.0144,-251.9134 541.918,-261.2019 548.8227,-262.3528\"/>\n",
       "</g>\n",
       "<!-- E1*E2_47 -->\n",
       "<g id=\"node23\" class=\"node\">\n",
       "<title>E1*E2_47</title>\n",
       "<ellipse fill=\"none\" stroke=\"#000000\" cx=\"663\" cy=\"-234\" rx=\"34.394\" ry=\"18\"/>\n",
       "<text text-anchor=\"middle\" x=\"663\" y=\"-230.3\" font-family=\"Times,serif\" font-size=\"14.00\" fill=\"#000000\">E1*E2</text>\n",
       "</g>\n",
       "<!-- E1&#45;E2_49&#45;&gt;E1*E2_47 -->\n",
       "<g id=\"edge31\" class=\"edge\">\n",
       "<title>E1&#45;E2_49&#45;&gt;E1*E2_47</title>\n",
       "<path fill=\"none\" stroke=\"#000000\" d=\"M560.9269,-292.7941C580.5384,-281.4979 608.9807,-265.1151 630.8633,-252.5107\"/>\n",
       "<polygon fill=\"#000000\" stroke=\"#000000\" points=\"632.8767,-255.3902 639.7951,-247.366 629.3828,-249.3244 632.8767,-255.3902\"/>\n",
       "</g>\n",
       "<!-- E1&#45;E2_35 -->\n",
       "<g id=\"node24\" class=\"node\">\n",
       "<title>E1&#45;E2_35</title>\n",
       "<ellipse fill=\"none\" stroke=\"#000000\" cx=\"376\" cy=\"-162\" rx=\"33.2948\" ry=\"18\"/>\n",
       "<text text-anchor=\"middle\" x=\"376\" y=\"-158.3\" font-family=\"Times,serif\" font-size=\"14.00\" fill=\"#000000\">E1&#45;E2</text>\n",
       "</g>\n",
       "<!-- E1&#45;E2_38&#45;&gt;E1&#45;E2_35 -->\n",
       "<g id=\"edge18\" class=\"edge\">\n",
       "<title>E1&#45;E2_38&#45;&gt;E1&#45;E2_35</title>\n",
       "<path fill=\"none\" stroke=\"#000000\" d=\"M452.1087,-219.0816C438.1145,-208.5858 419.1985,-194.3989 403.7258,-182.7944\"/>\n",
       "<polygon fill=\"#000000\" stroke=\"#000000\" points=\"405.6373,-179.853 395.5373,-176.653 401.4373,-185.453 405.6373,-179.853\"/>\n",
       "</g>\n",
       "<!-- &#45;_39 -->\n",
       "<g id=\"node25\" class=\"node\">\n",
       "<title>&#45;_39</title>\n",
       "<ellipse fill=\"none\" stroke=\"#000000\" cx=\"454\" cy=\"-162\" rx=\"27\" ry=\"18\"/>\n",
       "<text text-anchor=\"middle\" x=\"454\" y=\"-158.3\" font-family=\"Times,serif\" font-size=\"14.00\" fill=\"#000000\">&#45;</text>\n",
       "</g>\n",
       "<!-- E1&#45;E2_38&#45;&gt;&#45;_39 -->\n",
       "<g id=\"edge19\" class=\"edge\">\n",
       "<title>E1&#45;E2_38&#45;&gt;&#45;_39</title>\n",
       "<path fill=\"none\" stroke=\"#000000\" d=\"M467.4578,-215.8314C465.4816,-207.9266 463.1218,-198.4872 460.9341,-189.7365\"/>\n",
       "<polygon fill=\"#000000\" stroke=\"#000000\" points=\"464.2993,-188.7659 458.4784,-179.9134 457.5083,-190.4637 464.2993,-188.7659\"/>\n",
       "</g>\n",
       "<!-- 5_37 -->\n",
       "<g id=\"node26\" class=\"node\">\n",
       "<title>5_37</title>\n",
       "<ellipse fill=\"none\" stroke=\"#000000\" cx=\"526\" cy=\"-162\" rx=\"27\" ry=\"18\"/>\n",
       "<text text-anchor=\"middle\" x=\"526\" y=\"-158.3\" font-family=\"Times,serif\" font-size=\"14.00\" fill=\"#000000\">5</text>\n",
       "</g>\n",
       "<!-- E1&#45;E2_38&#45;&gt;5_37 -->\n",
       "<g id=\"edge20\" class=\"edge\">\n",
       "<title>E1&#45;E2_38&#45;&gt;5_37</title>\n",
       "<path fill=\"none\" stroke=\"#000000\" d=\"M484.5244,-217.3008C491.4373,-208.0836 500.1475,-196.4699 507.7992,-186.2677\"/>\n",
       "<polygon fill=\"#000000\" stroke=\"#000000\" points=\"510.7149,-188.2134 513.915,-178.1134 505.1149,-184.0134 510.7149,-188.2134\"/>\n",
       "</g>\n",
       "<!-- E1/E2_42 -->\n",
       "<g id=\"node33\" class=\"node\">\n",
       "<title>E1/E2_42</title>\n",
       "<ellipse fill=\"none\" stroke=\"#000000\" cx=\"603\" cy=\"-162\" rx=\"32.4942\" ry=\"18\"/>\n",
       "<text text-anchor=\"middle\" x=\"603\" y=\"-158.3\" font-family=\"Times,serif\" font-size=\"14.00\" fill=\"#000000\">E1/E2</text>\n",
       "</g>\n",
       "<!-- E1*E2_47&#45;&gt;E1/E2_42 -->\n",
       "<g id=\"edge26\" class=\"edge\">\n",
       "<title>E1*E2_47&#45;&gt;E1/E2_42</title>\n",
       "<path fill=\"none\" stroke=\"#000000\" d=\"M649.084,-217.3008C641.4355,-208.1226 631.8067,-196.568 623.3309,-186.3971\"/>\n",
       "<polygon fill=\"#000000\" stroke=\"#000000\" points=\"625.9312,-184.0502 616.8405,-178.6087 620.5536,-188.5316 625.9312,-184.0502\"/>\n",
       "</g>\n",
       "<!-- *_48 -->\n",
       "<g id=\"node34\" class=\"node\">\n",
       "<title>*_48</title>\n",
       "<ellipse fill=\"none\" stroke=\"#000000\" cx=\"680\" cy=\"-162\" rx=\"27\" ry=\"18\"/>\n",
       "<text text-anchor=\"middle\" x=\"680\" y=\"-158.3\" font-family=\"Times,serif\" font-size=\"14.00\" fill=\"#000000\">*</text>\n",
       "</g>\n",
       "<!-- E1*E2_47&#45;&gt;*_48 -->\n",
       "<g id=\"edge27\" class=\"edge\">\n",
       "<title>E1*E2_47&#45;&gt;*_48</title>\n",
       "<path fill=\"none\" stroke=\"#000000\" d=\"M667.2898,-215.8314C669.1562,-207.9266 671.385,-198.4872 673.4511,-189.7365\"/>\n",
       "<polygon fill=\"#000000\" stroke=\"#000000\" points=\"676.8788,-190.4501 675.7704,-179.9134 670.0661,-188.8415 676.8788,-190.4501\"/>\n",
       "</g>\n",
       "<!-- ~E_45 -->\n",
       "<g id=\"node35\" class=\"node\">\n",
       "<title>~E_45</title>\n",
       "<ellipse fill=\"none\" stroke=\"#000000\" cx=\"752\" cy=\"-162\" rx=\"27\" ry=\"18\"/>\n",
       "<text text-anchor=\"middle\" x=\"752\" y=\"-158.3\" font-family=\"Times,serif\" font-size=\"14.00\" fill=\"#000000\">~E</text>\n",
       "</g>\n",
       "<!-- E1*E2_47&#45;&gt;~E_45 -->\n",
       "<g id=\"edge28\" class=\"edge\">\n",
       "<title>E1*E2_47&#45;&gt;~E_45</title>\n",
       "<path fill=\"none\" stroke=\"#000000\" d=\"M681.8746,-218.7307C694.9268,-208.1716 712.4407,-194.003 726.7003,-182.4672\"/>\n",
       "<polygon fill=\"#000000\" stroke=\"#000000\" points=\"729.0885,-185.0371 734.6617,-176.0265 724.6859,-179.5949 729.0885,-185.0371\"/>\n",
       "</g>\n",
       "<!-- E1+E2_32 -->\n",
       "<g id=\"node27\" class=\"node\">\n",
       "<title>E1+E2_32</title>\n",
       "<ellipse fill=\"none\" stroke=\"#000000\" cx=\"295\" cy=\"-90\" rx=\"35.9954\" ry=\"18\"/>\n",
       "<text text-anchor=\"middle\" x=\"295\" y=\"-86.3\" font-family=\"Times,serif\" font-size=\"14.00\" fill=\"#000000\">E1+E2</text>\n",
       "</g>\n",
       "<!-- E1&#45;E2_35&#45;&gt;E1+E2_32 -->\n",
       "<g id=\"edge15\" class=\"edge\">\n",
       "<title>E1&#45;E2_35&#45;&gt;E1+E2_32</title>\n",
       "<path fill=\"none\" stroke=\"#000000\" d=\"M358.4242,-146.3771C347.3554,-136.5382 332.8803,-123.6714 320.5538,-112.7145\"/>\n",
       "<polygon fill=\"#000000\" stroke=\"#000000\" points=\"322.6206,-109.8688 312.8212,-105.8411 317.97,-115.1007 322.6206,-109.8688\"/>\n",
       "</g>\n",
       "<!-- &#45;_36 -->\n",
       "<g id=\"node28\" class=\"node\">\n",
       "<title>&#45;_36</title>\n",
       "<ellipse fill=\"none\" stroke=\"#000000\" cx=\"376\" cy=\"-90\" rx=\"27\" ry=\"18\"/>\n",
       "<text text-anchor=\"middle\" x=\"376\" y=\"-86.3\" font-family=\"Times,serif\" font-size=\"14.00\" fill=\"#000000\">&#45;</text>\n",
       "</g>\n",
       "<!-- E1&#45;E2_35&#45;&gt;&#45;_36 -->\n",
       "<g id=\"edge16\" class=\"edge\">\n",
       "<title>E1&#45;E2_35&#45;&gt;&#45;_36</title>\n",
       "<path fill=\"none\" stroke=\"#000000\" d=\"M376,-143.8314C376,-136.131 376,-126.9743 376,-118.4166\"/>\n",
       "<polygon fill=\"#000000\" stroke=\"#000000\" points=\"379.5001,-118.4132 376,-108.4133 372.5001,-118.4133 379.5001,-118.4132\"/>\n",
       "</g>\n",
       "<!-- 4_34 -->\n",
       "<g id=\"node29\" class=\"node\">\n",
       "<title>4_34</title>\n",
       "<ellipse fill=\"none\" stroke=\"#000000\" cx=\"448\" cy=\"-90\" rx=\"27\" ry=\"18\"/>\n",
       "<text text-anchor=\"middle\" x=\"448\" y=\"-86.3\" font-family=\"Times,serif\" font-size=\"14.00\" fill=\"#000000\">4</text>\n",
       "</g>\n",
       "<!-- E1&#45;E2_35&#45;&gt;4_34 -->\n",
       "<g id=\"edge17\" class=\"edge\">\n",
       "<title>E1&#45;E2_35&#45;&gt;4_34</title>\n",
       "<path fill=\"none\" stroke=\"#000000\" d=\"M391.9791,-146.0209C401.8082,-136.1918 414.5569,-123.4431 425.409,-112.591\"/>\n",
       "<polygon fill=\"#000000\" stroke=\"#000000\" points=\"427.9635,-114.9863 432.5597,-105.4403 423.0137,-110.0365 427.9635,-114.9863\"/>\n",
       "</g>\n",
       "<!-- 2_30 -->\n",
       "<g id=\"node30\" class=\"node\">\n",
       "<title>2_30</title>\n",
       "<ellipse fill=\"none\" stroke=\"#000000\" cx=\"223\" cy=\"-18\" rx=\"27\" ry=\"18\"/>\n",
       "<text text-anchor=\"middle\" x=\"223\" y=\"-14.3\" font-family=\"Times,serif\" font-size=\"14.00\" fill=\"#000000\">2</text>\n",
       "</g>\n",
       "<!-- E1+E2_32&#45;&gt;2_30 -->\n",
       "<g id=\"edge12\" class=\"edge\">\n",
       "<title>E1+E2_32&#45;&gt;2_30</title>\n",
       "<path fill=\"none\" stroke=\"#000000\" d=\"M278.6621,-73.6621C268.8185,-63.8185 256.1458,-51.1458 245.3795,-40.3795\"/>\n",
       "<polygon fill=\"#000000\" stroke=\"#000000\" points=\"247.8346,-37.8848 238.2886,-33.2886 242.8848,-42.8346 247.8346,-37.8848\"/>\n",
       "</g>\n",
       "<!-- +_33 -->\n",
       "<g id=\"node31\" class=\"node\">\n",
       "<title>+_33</title>\n",
       "<ellipse fill=\"none\" stroke=\"#000000\" cx=\"295\" cy=\"-18\" rx=\"27\" ry=\"18\"/>\n",
       "<text text-anchor=\"middle\" x=\"295\" y=\"-14.3\" font-family=\"Times,serif\" font-size=\"14.00\" fill=\"#000000\">+</text>\n",
       "</g>\n",
       "<!-- E1+E2_32&#45;&gt;+_33 -->\n",
       "<g id=\"edge13\" class=\"edge\">\n",
       "<title>E1+E2_32&#45;&gt;+_33</title>\n",
       "<path fill=\"none\" stroke=\"#000000\" d=\"M295,-71.8314C295,-64.131 295,-54.9743 295,-46.4166\"/>\n",
       "<polygon fill=\"#000000\" stroke=\"#000000\" points=\"298.5001,-46.4132 295,-36.4133 291.5001,-46.4133 298.5001,-46.4132\"/>\n",
       "</g>\n",
       "<!-- 3_31 -->\n",
       "<g id=\"node32\" class=\"node\">\n",
       "<title>3_31</title>\n",
       "<ellipse fill=\"none\" stroke=\"#000000\" cx=\"367\" cy=\"-18\" rx=\"27\" ry=\"18\"/>\n",
       "<text text-anchor=\"middle\" x=\"367\" y=\"-14.3\" font-family=\"Times,serif\" font-size=\"14.00\" fill=\"#000000\">3</text>\n",
       "</g>\n",
       "<!-- E1+E2_32&#45;&gt;3_31 -->\n",
       "<g id=\"edge14\" class=\"edge\">\n",
       "<title>E1+E2_32&#45;&gt;3_31</title>\n",
       "<path fill=\"none\" stroke=\"#000000\" d=\"M311.3379,-73.6621C321.1815,-63.8185 333.8542,-51.1458 344.6205,-40.3795\"/>\n",
       "<polygon fill=\"#000000\" stroke=\"#000000\" points=\"347.1152,-42.8346 351.7114,-33.2886 342.1654,-37.8848 347.1152,-42.8346\"/>\n",
       "</g>\n",
       "<!-- 6_40 -->\n",
       "<g id=\"node36\" class=\"node\">\n",
       "<title>6_40</title>\n",
       "<ellipse fill=\"none\" stroke=\"#000000\" cx=\"531\" cy=\"-90\" rx=\"27\" ry=\"18\"/>\n",
       "<text text-anchor=\"middle\" x=\"531\" y=\"-86.3\" font-family=\"Times,serif\" font-size=\"14.00\" fill=\"#000000\">6</text>\n",
       "</g>\n",
       "<!-- E1/E2_42&#45;&gt;6_40 -->\n",
       "<g id=\"edge21\" class=\"edge\">\n",
       "<title>E1/E2_42&#45;&gt;6_40</title>\n",
       "<path fill=\"none\" stroke=\"#000000\" d=\"M587.0209,-146.0209C577.1918,-136.1918 564.4431,-123.4431 553.591,-112.591\"/>\n",
       "<polygon fill=\"#000000\" stroke=\"#000000\" points=\"555.9863,-110.0365 546.4403,-105.4403 551.0365,-114.9863 555.9863,-110.0365\"/>\n",
       "</g>\n",
       "<!-- /_43 -->\n",
       "<g id=\"node37\" class=\"node\">\n",
       "<title>/_43</title>\n",
       "<ellipse fill=\"none\" stroke=\"#000000\" cx=\"603\" cy=\"-90\" rx=\"27\" ry=\"18\"/>\n",
       "<text text-anchor=\"middle\" x=\"603\" y=\"-86.3\" font-family=\"Times,serif\" font-size=\"14.00\" fill=\"#000000\">/</text>\n",
       "</g>\n",
       "<!-- E1/E2_42&#45;&gt;/_43 -->\n",
       "<g id=\"edge22\" class=\"edge\">\n",
       "<title>E1/E2_42&#45;&gt;/_43</title>\n",
       "<path fill=\"none\" stroke=\"#000000\" d=\"M603,-143.8314C603,-136.131 603,-126.9743 603,-118.4166\"/>\n",
       "<polygon fill=\"#000000\" stroke=\"#000000\" points=\"606.5001,-118.4132 603,-108.4133 599.5001,-118.4133 606.5001,-118.4132\"/>\n",
       "</g>\n",
       "<!-- 7_41 -->\n",
       "<g id=\"node38\" class=\"node\">\n",
       "<title>7_41</title>\n",
       "<ellipse fill=\"none\" stroke=\"#000000\" cx=\"675\" cy=\"-90\" rx=\"27\" ry=\"18\"/>\n",
       "<text text-anchor=\"middle\" x=\"675\" y=\"-86.3\" font-family=\"Times,serif\" font-size=\"14.00\" fill=\"#000000\">7</text>\n",
       "</g>\n",
       "<!-- E1/E2_42&#45;&gt;7_41 -->\n",
       "<g id=\"edge23\" class=\"edge\">\n",
       "<title>E1/E2_42&#45;&gt;7_41</title>\n",
       "<path fill=\"none\" stroke=\"#000000\" d=\"M618.9791,-146.0209C628.8082,-136.1918 641.5569,-123.4431 652.409,-112.591\"/>\n",
       "<polygon fill=\"#000000\" stroke=\"#000000\" points=\"654.9635,-114.9863 659.5597,-105.4403 650.0137,-110.0365 654.9635,-114.9863\"/>\n",
       "</g>\n",
       "<!-- ~_46 -->\n",
       "<g id=\"node39\" class=\"node\">\n",
       "<title>~_46</title>\n",
       "<ellipse fill=\"none\" stroke=\"#000000\" cx=\"749\" cy=\"-90\" rx=\"27\" ry=\"18\"/>\n",
       "<text text-anchor=\"middle\" x=\"749\" y=\"-86.3\" font-family=\"Times,serif\" font-size=\"14.00\" fill=\"#000000\">~</text>\n",
       "</g>\n",
       "<!-- ~E_45&#45;&gt;~_46 -->\n",
       "<g id=\"edge24\" class=\"edge\">\n",
       "<title>~E_45&#45;&gt;~_46</title>\n",
       "<path fill=\"none\" stroke=\"#000000\" d=\"M751.243,-143.8314C750.9221,-136.131 750.5406,-126.9743 750.184,-118.4166\"/>\n",
       "<polygon fill=\"#000000\" stroke=\"#000000\" points=\"753.6806,-118.2589 749.7672,-108.4133 746.6867,-118.5503 753.6806,-118.2589\"/>\n",
       "</g>\n",
       "<!-- 8_44 -->\n",
       "<g id=\"node40\" class=\"node\">\n",
       "<title>8_44</title>\n",
       "<ellipse fill=\"none\" stroke=\"#000000\" cx=\"821\" cy=\"-90\" rx=\"27\" ry=\"18\"/>\n",
       "<text text-anchor=\"middle\" x=\"821\" y=\"-86.3\" font-family=\"Times,serif\" font-size=\"14.00\" fill=\"#000000\">8</text>\n",
       "</g>\n",
       "<!-- ~E_45&#45;&gt;8_44 -->\n",
       "<g id=\"edge25\" class=\"edge\">\n",
       "<title>~E_45&#45;&gt;8_44</title>\n",
       "<path fill=\"none\" stroke=\"#000000\" d=\"M766.6331,-146.7307C776.1471,-136.803 788.7188,-123.6847 799.3765,-112.5637\"/>\n",
       "<polygon fill=\"#000000\" stroke=\"#000000\" points=\"801.9959,-114.8889 806.388,-105.2473 796.9419,-110.0456 801.9959,-114.8889\"/>\n",
       "</g>\n",
       "</g>\n",
       "</svg>\n"
      ],
      "text/plain": [
       "<graphviz.dot.Digraph at 0x7f46fe75c090>"
      ]
     },
     "execution_count": 9,
     "metadata": {},
     "output_type": "execute_result"
    }
   ],
   "source": [
    "drawPT(parseExp(\"6*3/4*~5/(2+3-4-5-6/7*~8)-~9\"))"
   ]
  },
  {
   "cell_type": "code",
   "execution_count": 10,
   "metadata": {
    "run_control": {
     "frozen": false,
     "read_only": false
    }
   },
   "outputs": [
    {
     "data": {
      "text/plain": [
       "1.1249999999999991"
      ]
     },
     "execution_count": 10,
     "metadata": {},
     "output_type": "execute_result"
    }
   ],
   "source": [
    "# Check against Python!\n",
    "6*3/4*-5/(2+3-4-5-6/7*-8)--9"
   ]
  },
  {
   "cell_type": "markdown",
   "metadata": {
    "run_control": {
     "frozen": false,
     "read_only": false
    }
   },
   "source": [
    "** Free Answer: **\n",
    "\n",
    "* Yes, same answer as Python, which is **this answer**.  \n",
    "* Over **this many** nodes and below **this many nodes** in the parse tree! "
   ]
  },
  {
   "cell_type": "markdown",
   "metadata": {
    "run_control": {
     "frozen": false,
     "read_only": false
    }
   },
   "source": [
    "## How does Python differ from Google Sheets?"
   ]
  },
  {
   "cell_type": "markdown",
   "metadata": {
    "run_control": {
     "frozen": false,
     "read_only": false
    }
   },
   "source": [
    "With respect to Ref-2,\n",
    "Point out the similarities and differences between C++, Python, and \n",
    "Google Sheets when it comes to handling. Just a few sentences talkingvabout similarities and a few sentences about the differences.\n",
    "    \n",
    "- Associativity of exponentiation\n",
    "- Whether negation or exponentiation is handled first"
   ]
  },
  {
   "cell_type": "markdown",
   "metadata": {
    "run_control": {
     "frozen": false,
     "read_only": false
    }
   },
   "source": [
    "** Free answer: **\n",
    "\n",
    "<span style=\"color: blue\">\n",
    "In `python` and `google-sheets`, the associativity of exponentiation\n",
    "is **right-associative** and in `c++` its **left associative**\n",
    "</span>\n",
    "\n",
    "<span style=\"color: blue\">\n",
    "**negation** is handled first by `c++` and `google-sheets`\n",
    "and **exponentiation** is handled first in `python`\n",
    "</span>"
   ]
  },
  {
   "cell_type": "code",
   "execution_count": null,
   "metadata": {
    "run_control": {
     "frozen": false,
     "read_only": false
    }
   },
   "outputs": [],
   "source": []
  },
  {
   "cell_type": "code",
   "execution_count": null,
   "metadata": {},
   "outputs": [],
   "source": []
  }
 ],
 "metadata": {
  "kernelspec": {
   "display_name": "Python 3",
   "language": "python",
   "name": "python3"
  },
  "language_info": {
   "codemirror_mode": {
    "name": "ipython",
    "version": 3
   },
   "file_extension": ".py",
   "mimetype": "text/x-python",
   "name": "python",
   "nbconvert_exporter": "python",
   "pygments_lexer": "ipython3",
   "version": "3.7.6"
  },
  "toc": {
   "colors": {
    "hover_highlight": "#DAA520",
    "running_highlight": "#FF0000",
    "selected_highlight": "#FFD700"
   },
   "moveMenuLeft": true,
   "nav_menu": {
    "height": "12px",
    "width": "252px"
   },
   "navigate_menu": true,
   "number_sections": true,
   "sideBar": true,
   "threshold": 4,
   "toc_cell": false,
   "toc_section_display": "block",
   "toc_window_display": false,
   "widenNotebook": false
  }
 },
 "nbformat": 4,
 "nbformat_minor": 2
}
