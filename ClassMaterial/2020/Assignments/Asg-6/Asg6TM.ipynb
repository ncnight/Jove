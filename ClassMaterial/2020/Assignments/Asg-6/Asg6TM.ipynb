{
 "cells": [
  {
   "cell_type": "markdown",
   "metadata": {
    "run_control": {
     "frozen": false,
     "read_only": false
    }
   },
   "source": [
    "# Turing Machines"
   ]
  },
  {
   "cell_type": "code",
   "execution_count": null,
   "metadata": {
    "run_control": {
     "frozen": false,
     "read_only": false
    }
   },
   "outputs": [],
   "source": [
    "import sys\n",
    " \n",
    "\n",
    "#----TURN THESE ON IF RUNNING ON JOVE ON COLAB by removing the triple quotes\n",
    "\n",
    "'''\n",
    "! if [ ! -d Jove ]; then git clone https://github.com/ganeshutah/Jove Jove; fi\n",
    "import sys\n",
    "sys.path.append('./Jove')\n",
    "sys.path.append('./Jove/jove')\n",
    "from jove.Def_TM     import *\n",
    "from jove.Def_md2mc  import *\n",
    "from jove.DotBashers import *\n",
    "from jove.JoveEditor import *\n",
    "from jove.AnimateTM import * #-- usage: AnimateTM(whas101DTM, FuseEdges=True)\n",
    " \n",
    "#---- ALWAYS INCLUDE BEFORE ANY call such as AnimateNFA, AnimateDFA, etc ----\n",
    "# Unfortunately this has to be within EACH iframe... so can't hard-wire\n",
    "# into the Animate... functions\n",
    "display(HTML('<link rel=\"stylesheet\" href=\"//stackpath.bootstrapcdn.com/font-awesome/4.7.0/css/font-awesome.min.css\"/>'))\n",
    "'''\n",
    "\n",
    "#----TURN THESE ON IF RUNNING ON OWN INSTALLATION (default turned-on)\n",
    "\n",
    "sys.path[0:0] = ['../..','../../3rdparty',\n",
    "                 '../../..','../../../3rdparty',\n",
    "                 '../../../..','../../../../3rdparty',\n",
    "                ] # Put these at the head of the search path\n",
    "from jove.Def_TM     import *\n",
    "from jove.Def_md2mc  import *\n",
    "from jove.DotBashers import *\n",
    "from jove.JoveEditor import *\n",
    "from jove.AnimateTM import * #-- usage: AnimateTM(whas101DTM, FuseEdges=True)\n",
    "\n",
    "\n",
    "#---- COMMON IMPORTS BELOW : Add more/less imports as needed/tolerable ---\n",
    "\n",
    "# EMPTY imports for TM..."
   ]
  },
  {
   "cell_type": "markdown",
   "metadata": {
    "run_control": {
     "frozen": false,
     "read_only": false
    }
   },
   "source": [
    "# DTM: accepts \"a#x\" where a is a substring of x"
   ]
  },
  {
   "cell_type": "code",
   "execution_count": null,
   "metadata": {
    "run_control": {
     "frozen": false,
     "read_only": false
    }
   },
   "outputs": [],
   "source": [
    "help(explore_tm)"
   ]
  },
  {
   "cell_type": "code",
   "execution_count": null,
   "metadata": {},
   "outputs": [],
   "source": [
    "Asg6DTM = md2mc('''\n",
    " \n",
    "!! Your TM here!\n",
    "\n",
    "''')"
   ]
  },
  {
   "cell_type": "code",
   "execution_count": null,
   "metadata": {
    "scrolled": true
   },
   "outputs": [],
   "source": [
    "explore_tm(Asg6DTM, \"aba#aba\",110)"
   ]
  },
  {
   "cell_type": "code",
   "execution_count": null,
   "metadata": {},
   "outputs": [],
   "source": [
    "explore_tm(Asg6DTM, \"aba#ab\",110)"
   ]
  },
  {
   "cell_type": "code",
   "execution_count": null,
   "metadata": {},
   "outputs": [],
   "source": [
    "explore_tm(Asg6DTM, \"aba#baba\",110)"
   ]
  },
  {
   "cell_type": "code",
   "execution_count": null,
   "metadata": {},
   "outputs": [],
   "source": [
    "explore_tm(Asg6DTM, \"aba#babba\",110)"
   ]
  },
  {
   "cell_type": "code",
   "execution_count": null,
   "metadata": {},
   "outputs": [],
   "source": [
    "explore_tm(Asg6DTM, \"bba#bbabba\",110)"
   ]
  },
  {
   "cell_type": "code",
   "execution_count": null,
   "metadata": {},
   "outputs": [],
   "source": [
    "explore_tm(Asg6DTM, \"aba#bbabba\",240)"
   ]
  },
  {
   "cell_type": "code",
   "execution_count": null,
   "metadata": {},
   "outputs": [],
   "source": []
  },
  {
   "cell_type": "code",
   "execution_count": null,
   "metadata": {},
   "outputs": [],
   "source": []
  },
  {
   "cell_type": "code",
   "execution_count": null,
   "metadata": {},
   "outputs": [],
   "source": [
    "dotObj_tm(Asg6DTM, FuseEdges=True)"
   ]
  },
  {
   "cell_type": "code",
   "execution_count": null,
   "metadata": {},
   "outputs": [],
   "source": [
    "# *** MAKE SURE TO SET FUEL TO 100 OR SO ***\n",
    "AnimateTM(Asg6DTM, FuseEdges=True)\n"
   ]
  },
  {
   "cell_type": "code",
   "execution_count": null,
   "metadata": {},
   "outputs": [],
   "source": [
    "Asg6NDTM = md2mc('''TM\n",
    "!! Your TM here\n",
    "''')"
   ]
  },
  {
   "cell_type": "code",
   "execution_count": null,
   "metadata": {
    "run_control": {
     "frozen": false,
     "read_only": false
    }
   },
   "outputs": [],
   "source": [
    "explore_tm(Asg6NDTM, \"ab#bab\", 100)"
   ]
  },
  {
   "cell_type": "code",
   "execution_count": null,
   "metadata": {},
   "outputs": [],
   "source": [
    "# *** MAKE SURE TO SET FUEL TO 100 OR SO ***\n",
    "AnimateTM(Asg6NDTM, FuseEdges=True)\n"
   ]
  }
 ],
 "metadata": {
  "kernelspec": {
   "display_name": "Python 3",
   "language": "python",
   "name": "python3"
  },
  "language_info": {
   "codemirror_mode": {
    "name": "ipython",
    "version": 3
   },
   "file_extension": ".py",
   "mimetype": "text/x-python",
   "name": "python",
   "nbconvert_exporter": "python",
   "pygments_lexer": "ipython3",
   "version": "3.7.3"
  },
  "toc": {
   "colors": {
    "hover_highlight": "#DAA520",
    "running_highlight": "#FF0000",
    "selected_highlight": "#FFD700"
   },
   "moveMenuLeft": true,
   "nav_menu": {
    "height": "318px",
    "width": "252px"
   },
   "navigate_menu": true,
   "number_sections": true,
   "sideBar": true,
   "threshold": 4,
   "toc_cell": false,
   "toc_section_display": "block",
   "toc_window_display": false,
   "widenNotebook": false
  }
 },
 "nbformat": 4,
 "nbformat_minor": 1
}
