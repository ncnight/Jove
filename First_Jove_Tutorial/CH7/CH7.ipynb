{
 "cells": [
  {
   "cell_type": "markdown",
   "metadata": {
    "run_control": {
     "frozen": false,
     "read_only": false
    }
   },
   "source": [
    "# Exercises on NFA\n",
    "\n",
    "You may wish to watch my lecture on NFA a little, then play with the\n",
    "code below, and then finish watching."
   ]
  },
  {
   "cell_type": "code",
   "execution_count": 1,
   "metadata": {
    "run_control": {
     "frozen": false,
     "read_only": false
    }
   },
   "outputs": [
    {
     "data": {
      "image/jpeg": "[encoded data removed]",
      "text/html": [
       "\n",
       "        <iframe\n",
       "            width=\"400\"\n",
       "            height=\"300\"\n",
       "            src=\"https://www.youtube.com/embed/xjFtLF95uBc\"\n",
       "            frameborder=\"0\"\n",
       "            allowfullscreen\n",
       "        ></iframe>\n",
       "        "
      ],
      "text/plain": [
       "<IPython.lib.display.YouTubeVideo at 0x7f289c3b8310>"
      ]
     },
     "execution_count": 1,
     "metadata": {},
     "output_type": "execute_result"
    }
   ],
   "source": [
    "# This Youtube video walks through this notebook\n",
    "from IPython.display import YouTubeVideo\n",
    "YouTubeVideo('xjFtLF95uBc')"
   ]
  },
  {
   "cell_type": "code",
   "execution_count": 2,
   "metadata": {
    "run_control": {
     "frozen": false,
     "read_only": false
    }
   },
   "outputs": [
    {
     "name": "stdout",
     "output_type": "stream",
     "text": [
      "You may use any of these help commands:\n",
      "help(ResetStNum)\n",
      "help(NxtStateStr)\n",
      "\n",
      "You may use any of these help commands:\n",
      "help(md2mc)\n",
      ".. and if you want to dig more, then ..\n",
      "help(default_line_attr)\n",
      "help(length_ok_input_items)\n",
      "help(union_line_attr_list_fld)\n",
      "help(extend_rsltdict)\n",
      "help(form_delta)\n",
      "help(get_machine_components)\n",
      "\n",
      "You may use any of these help commands:\n",
      "help(mkp_dfa)\n",
      "help(mk_dfa)\n",
      "help(totalize_dfa)\n",
      "help(addtosigma_delta)\n",
      "help(step_dfa)\n",
      "help(run_dfa)\n",
      "help(accepts_dfa)\n",
      "help(comp_dfa)\n",
      "help(union_dfa)\n",
      "help(intersect_dfa)\n",
      "help(pruneUnreach)\n",
      "help(iso_dfa)\n",
      "help(langeq_dfa)\n",
      "help(same_status)\n",
      "help(h_langeq_dfa)\n",
      "help(fixptDist)\n",
      "help(min_dfa)\n",
      "help(pairFR)\n",
      "help(state_combos)\n",
      "help(sepFinNonFin)\n",
      "help(bash_eql_classes)\n",
      "help(listminus)\n",
      "help(bash_1)\n",
      "help(mk_rep_eqc)\n",
      "help(F_of)\n",
      "help(rep_of_s)\n",
      "help(q0_of)\n",
      "help(Delta_of)\n",
      "help(mk_state_eqc_name)\n",
      "\n",
      "You may use any of these help commands:\n",
      "help(mk_nfa)\n",
      "help(totalize_nfa)\n",
      "help(step_nfa)\n",
      "help(run_nfa)\n",
      "help(ec_step_nfa)\n",
      "help(Eclosure)\n",
      "help(Echelp)\n",
      "help(accepts_nfa)\n",
      "help(nfa2dfa)\n",
      "help(n2d)\n",
      "help(inSets)\n",
      "help(rev_dfa)\n",
      "help(min_dfa_brz)\n",
      "\n"
     ]
    }
   ],
   "source": [
    "import sys\n",
    "sys.path[0:0] = ['../..','../../3rdparty'] # Put these at the head of the search path\n",
    "from jove.DotBashers import *\n",
    "from jove.Def_md2mc  import *\n",
    "from jove.Def_NFA    import *\n",
    "from jove.Def_DFA    import *\n",
    "from jove.AnimateNFA import *"
   ]
  },
  {
   "cell_type": "markdown",
   "metadata": {},
   "source": [
    "# This NFA checks whether a string has \"01\" in it"
   ]
  },
  {
   "cell_type": "code",
   "execution_count": 9,
   "metadata": {},
   "outputs": [],
   "source": [
    "nfahas01 = md2mc('''\n",
    "NFA \n",
    "I : 0 | 1 -> I\n",
    "I : '' -> A\n",
    "A : 0  -> B\n",
    "B : 1  -> C\n",
    "C : 0 | 1 -> C\n",
    "C : '' -> F\n",
    "''')"
   ]
  },
  {
   "cell_type": "code",
   "execution_count": 11,
   "metadata": {
    "scrolled": true
   },
   "outputs": [
    {
     "data": {
      "image/svg+xml": [
       "<?xml version=\"1.0\" encoding=\"UTF-8\" standalone=\"no\"?>\n",
       "<!DOCTYPE svg PUBLIC \"-//W3C//DTD SVG 1.1//EN\"\n",
       " \"http://www.w3.org/Graphics/SVG/1.1/DTD/svg11.dtd\">\n",
       "<!-- Generated by graphviz version 2.40.1 (20161225.0304)\n",
       " -->\n",
       "<!-- Title: %3 Pages: 1 -->\n",
       "<svg width=\"471pt\" height=\"114pt\"\n",
       " viewBox=\"0.00 0.00 471.00 114.00\" xmlns=\"http://www.w3.org/2000/svg\" xmlns:xlink=\"http://www.w3.org/1999/xlink\">\n",
       "<g id=\"graph0\" class=\"graph\" transform=\"scale(1 1) rotate(0) translate(4 110)\">\n",
       "<title>%3</title>\n",
       "<polygon fill=\"#ffffff\" stroke=\"transparent\" points=\"-4,4 -4,-110 467,-110 467,4 -4,4\"/>\n",
       "<!-- EMPTY -->\n",
       "<g id=\"node1\" class=\"node\">\n",
       "<title>EMPTY</title>\n",
       "</g>\n",
       "<!-- I -->\n",
       "<g id=\"node5\" class=\"node\">\n",
       "<title>I</title>\n",
       "<ellipse fill=\"none\" stroke=\"#000000\" cx=\"109\" cy=\"-22\" rx=\"18\" ry=\"18\"/>\n",
       "<text text-anchor=\"middle\" x=\"109\" y=\"-18.3\" font-family=\"Times,serif\" font-size=\"14.00\" fill=\"#000000\">I</text>\n",
       "</g>\n",
       "<!-- EMPTY&#45;&gt;I -->\n",
       "<g id=\"edge1\" class=\"edge\">\n",
       "<title>EMPTY&#45;&gt;I</title>\n",
       "<path fill=\"none\" stroke=\"#000000\" d=\"M54.3048,-22C62.6909,-22 71.9407,-22 80.4103,-22\"/>\n",
       "<polygon fill=\"#000000\" stroke=\"#000000\" points=\"80.5976,-25.5001 90.5976,-22 80.5976,-18.5001 80.5976,-25.5001\"/>\n",
       "</g>\n",
       "<!-- A -->\n",
       "<g id=\"node2\" class=\"node\">\n",
       "<title>A</title>\n",
       "<ellipse fill=\"none\" stroke=\"#000000\" cx=\"190\" cy=\"-22\" rx=\"18\" ry=\"18\"/>\n",
       "<text text-anchor=\"middle\" x=\"190\" y=\"-18.3\" font-family=\"Times,serif\" font-size=\"14.00\" fill=\"#000000\">A</text>\n",
       "</g>\n",
       "<!-- B -->\n",
       "<g id=\"node3\" class=\"node\">\n",
       "<title>B</title>\n",
       "<ellipse fill=\"none\" stroke=\"#000000\" cx=\"273\" cy=\"-22\" rx=\"18\" ry=\"18\"/>\n",
       "<text text-anchor=\"middle\" x=\"273\" y=\"-18.3\" font-family=\"Times,serif\" font-size=\"14.00\" fill=\"#000000\">B</text>\n",
       "</g>\n",
       "<!-- A&#45;&gt;B -->\n",
       "<g id=\"edge5\" class=\"edge\">\n",
       "<title>A&#45;&gt;B</title>\n",
       "<path fill=\"none\" stroke=\"#000000\" d=\"M208.0098,-22C218.7037,-22 232.5006,-22 244.6294,-22\"/>\n",
       "<polygon fill=\"#000000\" stroke=\"#000000\" points=\"244.7388,-25.5001 254.7388,-22 244.7387,-18.5001 244.7388,-25.5001\"/>\n",
       "<text text-anchor=\"middle\" x=\"231.5\" y=\"-25.8\" font-family=\"Times,serif\" font-size=\"14.00\" fill=\"#000000\">0 </text>\n",
       "</g>\n",
       "<!-- C -->\n",
       "<g id=\"node4\" class=\"node\">\n",
       "<title>C</title>\n",
       "<ellipse fill=\"none\" stroke=\"#000000\" cx=\"356\" cy=\"-22\" rx=\"18\" ry=\"18\"/>\n",
       "<text text-anchor=\"middle\" x=\"356\" y=\"-18.3\" font-family=\"Times,serif\" font-size=\"14.00\" fill=\"#000000\">C</text>\n",
       "</g>\n",
       "<!-- B&#45;&gt;C -->\n",
       "<g id=\"edge6\" class=\"edge\">\n",
       "<title>B&#45;&gt;C</title>\n",
       "<path fill=\"none\" stroke=\"#000000\" d=\"M291.0098,-22C301.7037,-22 315.5006,-22 327.6294,-22\"/>\n",
       "<polygon fill=\"#000000\" stroke=\"#000000\" points=\"327.7388,-25.5001 337.7388,-22 327.7387,-18.5001 327.7388,-25.5001\"/>\n",
       "<text text-anchor=\"middle\" x=\"314.5\" y=\"-25.8\" font-family=\"Times,serif\" font-size=\"14.00\" fill=\"#000000\">1 </text>\n",
       "</g>\n",
       "<!-- C&#45;&gt;C -->\n",
       "<g id=\"edge7\" class=\"edge\">\n",
       "<title>C&#45;&gt;C</title>\n",
       "<path fill=\"none\" stroke=\"#000000\" d=\"M352.4047,-39.7817C351.7938,-49.3149 352.9922,-58 356,-58 357.8329,-58 358.9939,-54.7749 359.483,-50.0981\"/>\n",
       "<polygon fill=\"#000000\" stroke=\"#000000\" points=\"362.9861,-49.8193 359.5953,-39.7817 355.9865,-49.743 362.9861,-49.8193\"/>\n",
       "<text text-anchor=\"middle\" x=\"356\" y=\"-61.8\" font-family=\"Times,serif\" font-size=\"14.00\" fill=\"#000000\">0 </text>\n",
       "</g>\n",
       "<!-- C&#45;&gt;C -->\n",
       "<g id=\"edge8\" class=\"edge\">\n",
       "<title>C&#45;&gt;C</title>\n",
       "<path fill=\"none\" stroke=\"#000000\" d=\"M350.1479,-39.1418C346.7056,-56.585 348.6563,-76 356,-76 361.9094,-76 364.3267,-63.4283 363.2519,-49.4287\"/>\n",
       "<polygon fill=\"#000000\" stroke=\"#000000\" points=\"366.6685,-48.5785 361.8521,-39.1418 359.7325,-49.5224 366.6685,-48.5785\"/>\n",
       "<text text-anchor=\"middle\" x=\"356\" y=\"-79.8\" font-family=\"Times,serif\" font-size=\"14.00\" fill=\"#000000\">1 </text>\n",
       "</g>\n",
       "<!-- F -->\n",
       "<g id=\"node6\" class=\"node\">\n",
       "<title>F</title>\n",
       "<ellipse fill=\"none\" stroke=\"#000000\" cx=\"441\" cy=\"-22\" rx=\"18\" ry=\"18\"/>\n",
       "<ellipse fill=\"none\" stroke=\"#000000\" cx=\"441\" cy=\"-22\" rx=\"22\" ry=\"22\"/>\n",
       "<text text-anchor=\"middle\" x=\"441\" y=\"-18.3\" font-family=\"Times,serif\" font-size=\"14.00\" fill=\"#000000\">F</text>\n",
       "</g>\n",
       "<!-- C&#45;&gt;F -->\n",
       "<g id=\"edge9\" class=\"edge\">\n",
       "<title>C&#45;&gt;F</title>\n",
       "<path fill=\"none\" stroke=\"#000000\" d=\"M374.0263,-22C384.0256,-22 396.7667,-22 408.4461,-22\"/>\n",
       "<polygon fill=\"#000000\" stroke=\"#000000\" points=\"408.7644,-25.5001 418.7644,-22 408.7644,-18.5001 408.7644,-25.5001\"/>\n",
       "<text text-anchor=\"middle\" x=\"396.5\" y=\"-25.8\" font-family=\"Times,serif\" font-size=\"14.00\" fill=\"#000000\">&#39;&#39; </text>\n",
       "</g>\n",
       "<!-- I&#45;&gt;A -->\n",
       "<g id=\"edge4\" class=\"edge\">\n",
       "<title>I&#45;&gt;A</title>\n",
       "<path fill=\"none\" stroke=\"#000000\" d=\"M127.3802,-22C137.4966,-22 150.2691,-22 161.6363,-22\"/>\n",
       "<polygon fill=\"#000000\" stroke=\"#000000\" points=\"161.9716,-25.5001 171.9716,-22 161.9716,-18.5001 161.9716,-25.5001\"/>\n",
       "<text text-anchor=\"middle\" x=\"149.5\" y=\"-25.8\" font-family=\"Times,serif\" font-size=\"14.00\" fill=\"#000000\">&#39;&#39; </text>\n",
       "</g>\n",
       "<!-- I&#45;&gt;I -->\n",
       "<g id=\"edge2\" class=\"edge\">\n",
       "<title>I&#45;&gt;I</title>\n",
       "<path fill=\"none\" stroke=\"#000000\" d=\"M105.7643,-39.7817C105.2144,-49.3149 106.293,-58 109,-58 110.6496,-58 111.6945,-54.7749 112.1347,-50.0981\"/>\n",
       "<polygon fill=\"#000000\" stroke=\"#000000\" points=\"115.6375,-49.8156 112.2357,-39.7817 108.6379,-49.7469 115.6375,-49.8156\"/>\n",
       "<text text-anchor=\"middle\" x=\"109\" y=\"-61.8\" font-family=\"Times,serif\" font-size=\"14.00\" fill=\"#000000\">0 </text>\n",
       "</g>\n",
       "<!-- I&#45;&gt;I -->\n",
       "<g id=\"edge3\" class=\"edge\">\n",
       "<title>I&#45;&gt;I</title>\n",
       "<path fill=\"none\" stroke=\"#000000\" d=\"M103.6841,-39.4203C100.6538,-56.791 102.4258,-76 109,-76 114.2902,-76 116.4708,-63.5617 115.5419,-49.652\"/>\n",
       "<polygon fill=\"#000000\" stroke=\"#000000\" points=\"118.9808,-48.9328 114.3159,-39.4203 112.0305,-49.7657 118.9808,-48.9328\"/>\n",
       "<text text-anchor=\"middle\" x=\"109\" y=\"-79.8\" font-family=\"Times,serif\" font-size=\"14.00\" fill=\"#000000\">1 </text>\n",
       "</g>\n",
       "</g>\n",
       "</svg>\n"
      ],
      "text/plain": [
       "<graphviz.dot.Digraph at 0x7f289c418f50>"
      ]
     },
     "execution_count": 11,
     "metadata": {},
     "output_type": "execute_result"
    }
   ],
   "source": [
    "dotObj_nfa(nfahas01)"
   ]
  },
  {
   "cell_type": "code",
   "execution_count": 20,
   "metadata": {},
   "outputs": [],
   "source": [
    "baba = md2mc('''\n",
    "NFA \n",
    "I : a|b -> I\n",
    "I : b -> B\n",
    "B : a -> BA\n",
    "BA : b -> BAB\n",
    "BAB : a -> FBABA\n",
    "FBABA : a|b -> FBABA\n",
    "''')"
   ]
  },
  {
   "cell_type": "markdown",
   "metadata": {},
   "source": [
    "## This example is highly worth studying via animations\n",
    "\n",
    "Put it in animate mode, and then single-step to see the EClosure of states"
   ]
  },
  {
   "cell_type": "code",
   "execution_count": 19,
   "metadata": {},
   "outputs": [
    {
     "data": {
      "application/vnd.jupyter.widget-view+json": {
       "model_id": "4abc4347301b46769282bcee3ef4d718",
       "version_major": 2,
       "version_minor": 0
      },
      "text/plain": [
       "VBox(children=(HBox(children=(Text(value='', description='Input:', layout=Layout(width='500px'), placeholder='…"
      ]
     },
     "metadata": {},
     "output_type": "display_data"
    },
    {
     "data": {
      "text/plain": [
       "<jove.AnimateNFA.AnimateNFA at 0x7f28871d3590>"
      ]
     },
     "execution_count": 19,
     "metadata": {},
     "output_type": "execute_result"
    }
   ],
   "source": [
    "AnimateNFA(baba, FuseEdges=False)"
   ]
  },
  {
   "cell_type": "markdown",
   "metadata": {},
   "source": [
    "# This is an example from Figure 7.7 of the book\n",
    "\n",
    "I am choosing to type it in two different ways: one with a single initial state, and \n",
    "another with multiple initial states. Fig77 is the single initial state version, and\n",
    "Fig77a is with multiple initial states"
   ]
  },
  {
   "cell_type": "code",
   "execution_count": 5,
   "metadata": {},
   "outputs": [],
   "source": [
    "Fig77 = md2mc('''NFA\n",
    "I : '' -> A, G\n",
    "A : '' -> B, C\n",
    "G : 1  -> F\n",
    "B : 1  -> D\n",
    "C : 0  -> E\n",
    "D : '' -> A, G\n",
    "E : '' -> A, G\n",
    "''')"
   ]
  },
  {
   "cell_type": "code",
   "execution_count": 6,
   "metadata": {
    "scrolled": true
   },
   "outputs": [
    {
     "data": {
      "application/vnd.jupyter.widget-view+json": {
       "model_id": "79faf5f74a2d4cb19af86636e0277f47",
       "version_major": 2,
       "version_minor": 0
      },
      "text/plain": [
       "VBox(children=(HBox(children=(Text(value='', description='Input:', layout=Layout(width='500px'), placeholder='…"
      ]
     },
     "metadata": {},
     "output_type": "display_data"
    },
    {
     "data": {
      "text/plain": [
       "<jove.AnimateNFA.AnimateNFA at 0x10ec8d160>"
      ]
     },
     "execution_count": 6,
     "metadata": {},
     "output_type": "execute_result"
    }
   ],
   "source": [
    "AnimateNFA(Fig77, FuseEdges=False)"
   ]
  },
  {
   "cell_type": "code",
   "execution_count": 7,
   "metadata": {},
   "outputs": [
    {
     "name": "stdout",
     "output_type": "stream",
     "text": [
      "Help on function nfa2dfa in module jove.Def_NFA:\n",
      "\n",
      "nfa2dfa(N, STATENAME_MAXSIZE=20)\n",
      "    In : N (consistent NFA), and optional STATENAME_MAXSIZE\n",
      "         for the generated DFA states\n",
      "    Out: A consistent DFA that is language-equivalent to N.\n",
      "\n"
     ]
    }
   ],
   "source": [
    "help(nfa2dfa)"
   ]
  },
  {
   "cell_type": "code",
   "execution_count": 8,
   "metadata": {},
   "outputs": [
    {
     "data": {
      "image/svg+xml": [
       "<?xml version=\"1.0\" encoding=\"UTF-8\" standalone=\"no\"?>\n",
       "<!DOCTYPE svg PUBLIC \"-//W3C//DTD SVG 1.1//EN\"\n",
       " \"http://www.w3.org/Graphics/SVG/1.1/DTD/svg11.dtd\">\n",
       "<!-- Generated by graphviz version 2.40.1 (20161225.0304)\n",
       " -->\n",
       "<!-- Title: %3 Pages: 1 -->\n",
       "<svg width=\"575pt\" height=\"235pt\"\n",
       " viewBox=\"0.00 0.00 575.37 234.99\" xmlns=\"http://www.w3.org/2000/svg\" xmlns:xlink=\"http://www.w3.org/1999/xlink\">\n",
       "<g id=\"graph0\" class=\"graph\" transform=\"scale(1 1) rotate(0) translate(4 230.9896)\">\n",
       "<title>%3</title>\n",
       "<polygon fill=\"#ffffff\" stroke=\"transparent\" points=\"-4,4 -4,-230.9896 571.3668,-230.9896 571.3668,4 -4,4\"/>\n",
       "<!-- EMPTY -->\n",
       "<g id=\"node1\" class=\"node\">\n",
       "<title>EMPTY</title>\n",
       "</g>\n",
       "<!-- A_B_C_G_I -->\n",
       "<g id=\"node2\" class=\"node\">\n",
       "<title>A_B_C_G_I</title>\n",
       "<ellipse fill=\"none\" stroke=\"#000000\" cx=\"148.1949\" cy=\"-57.1949\" rx=\"57.3905\" ry=\"57.3905\"/>\n",
       "<text text-anchor=\"middle\" x=\"148.1949\" y=\"-53.4949\" font-family=\"Times,serif\" font-size=\"14.00\" fill=\"#000000\">A_B_C_G_I</text>\n",
       "</g>\n",
       "<!-- EMPTY&#45;&gt;A_B_C_G_I -->\n",
       "<g id=\"edge1\" class=\"edge\">\n",
       "<title>EMPTY&#45;&gt;A_B_C_G_I</title>\n",
       "<path fill=\"none\" stroke=\"#000000\" d=\"M54.1985,-57.1949C62.1938,-57.1949 71.3171,-57.1949 80.6635,-57.1949\"/>\n",
       "<polygon fill=\"#000000\" stroke=\"#000000\" points=\"80.8499,-60.695 90.8499,-57.1949 80.8499,-53.695 80.8499,-60.695\"/>\n",
       "</g>\n",
       "<!-- A_B_C_E_G -->\n",
       "<g id=\"node3\" class=\"node\">\n",
       "<title>A_B_C_E_G</title>\n",
       "<ellipse fill=\"none\" stroke=\"#000000\" cx=\"312.1845\" cy=\"-134.1949\" rx=\"59.5901\" ry=\"59.5901\"/>\n",
       "<text text-anchor=\"middle\" x=\"312.1845\" y=\"-130.4949\" font-family=\"Times,serif\" font-size=\"14.00\" fill=\"#000000\">A_B_C_E_G</text>\n",
       "</g>\n",
       "<!-- A_B_C_G_I&#45;&gt;A_B_C_E_G -->\n",
       "<g id=\"edge2\" class=\"edge\">\n",
       "<title>A_B_C_G_I&#45;&gt;A_B_C_E_G</title>\n",
       "<path fill=\"none\" stroke=\"#000000\" d=\"M200.0823,-81.5582C215.4566,-88.7771 232.471,-96.7661 248.5013,-104.293\"/>\n",
       "<polygon fill=\"#000000\" stroke=\"#000000\" points=\"247.2667,-107.5799 257.8062,-108.662 250.2419,-101.2436 247.2667,-107.5799\"/>\n",
       "<text text-anchor=\"middle\" x=\"228.8899\" y=\"-99.9949\" font-family=\"Times,serif\" font-size=\"14.00\" fill=\"#000000\">0 </text>\n",
       "</g>\n",
       "<!-- A_B_C_D_F_G -->\n",
       "<g id=\"node4\" class=\"node\">\n",
       "<title>A_B_C_D_F_G</title>\n",
       "<ellipse fill=\"none\" stroke=\"#000000\" cx=\"493.173\" cy=\"-96.1949\" rx=\"70.3776\" ry=\"70.3776\"/>\n",
       "<ellipse fill=\"none\" stroke=\"#000000\" cx=\"493.173\" cy=\"-96.1949\" rx=\"74.3881\" ry=\"74.3881\"/>\n",
       "<text text-anchor=\"middle\" x=\"493.173\" y=\"-92.4949\" font-family=\"Times,serif\" font-size=\"14.00\" fill=\"#000000\">A_B_C_D_F_G</text>\n",
       "</g>\n",
       "<!-- A_B_C_G_I&#45;&gt;A_B_C_D_F_G -->\n",
       "<g id=\"edge3\" class=\"edge\">\n",
       "<title>A_B_C_G_I&#45;&gt;A_B_C_D_F_G</title>\n",
       "<path fill=\"none\" stroke=\"#000000\" d=\"M204.7899,-48.8627C250.3318,-43.7258 315.777,-39.8877 371.9792,-50.1949 386.4576,-52.8502 401.4488,-57.1514 415.7458,-62.0841\"/>\n",
       "<polygon fill=\"#000000\" stroke=\"#000000\" points=\"414.9234,-65.5074 425.5179,-65.5875 417.2858,-58.918 414.9234,-65.5074\"/>\n",
       "<text text-anchor=\"middle\" x=\"312.1845\" y=\"-53.9949\" font-family=\"Times,serif\" font-size=\"14.00\" fill=\"#000000\">1 </text>\n",
       "</g>\n",
       "<!-- A_B_C_E_G&#45;&gt;A_B_C_E_G -->\n",
       "<g id=\"edge4\" class=\"edge\">\n",
       "<title>A_B_C_E_G&#45;&gt;A_B_C_E_G</title>\n",
       "<path fill=\"none\" stroke=\"#000000\" d=\"M297.4439,-192.2102C299.103,-203.7562 304.0166,-211.9896 312.1845,-211.9896 317.8,-211.9896 321.8773,-208.0981 324.4163,-201.9139\"/>\n",
       "<polygon fill=\"#000000\" stroke=\"#000000\" points=\"327.8105,-202.7679 326.9252,-192.2102 321.0334,-201.0157 327.8105,-202.7679\"/>\n",
       "<text text-anchor=\"middle\" x=\"312.1845\" y=\"-215.7896\" font-family=\"Times,serif\" font-size=\"14.00\" fill=\"#000000\">0 </text>\n",
       "</g>\n",
       "<!-- A_B_C_E_G&#45;&gt;A_B_C_D_F_G -->\n",
       "<g id=\"edge5\" class=\"edge\">\n",
       "<title>A_B_C_E_G&#45;&gt;A_B_C_D_F_G</title>\n",
       "<path fill=\"none\" stroke=\"#000000\" d=\"M370.9463,-121.8574C383.5308,-119.2152 397.0527,-116.3762 410.352,-113.5839\"/>\n",
       "<polygon fill=\"#000000\" stroke=\"#000000\" points=\"411.3921,-116.9419 420.4595,-111.4617 409.9537,-110.0913 411.3921,-116.9419\"/>\n",
       "<text text-anchor=\"middle\" x=\"395.4792\" y=\"-121.9949\" font-family=\"Times,serif\" font-size=\"14.00\" fill=\"#000000\">1 </text>\n",
       "</g>\n",
       "<!-- A_B_C_D_F_G&#45;&gt;A_B_C_E_G -->\n",
       "<g id=\"edge6\" class=\"edge\">\n",
       "<title>A_B_C_D_F_G&#45;&gt;A_B_C_E_G</title>\n",
       "<path fill=\"none\" stroke=\"#000000\" d=\"M418.8751,-93.9519C409.0797,-94.7284 399.2339,-96.0632 389.9792,-98.1949 384.942,-99.3552 379.8395,-100.8634 374.7822,-102.6037\"/>\n",
       "<polygon fill=\"#000000\" stroke=\"#000000\" points=\"373.2837,-99.4272 365.1414,-106.2061 375.7339,-105.9844 373.2837,-99.4272\"/>\n",
       "<text text-anchor=\"middle\" x=\"395.4792\" y=\"-101.9949\" font-family=\"Times,serif\" font-size=\"14.00\" fill=\"#000000\">0 </text>\n",
       "</g>\n",
       "<!-- A_B_C_D_F_G&#45;&gt;A_B_C_D_F_G -->\n",
       "<g id=\"edge7\" class=\"edge\">\n",
       "<title>A_B_C_D_F_G&#45;&gt;A_B_C_D_F_G</title>\n",
       "<path fill=\"none\" stroke=\"#000000\" d=\"M476.5968,-168.854C479.0226,-180.4508 484.548,-188.3887 493.173,-188.3887 499.1027,-188.3887 503.5673,-184.6368 506.5669,-178.5235\"/>\n",
       "<polygon fill=\"#000000\" stroke=\"#000000\" points=\"509.9476,-179.447 509.7492,-168.854 503.2984,-177.2587 509.9476,-179.447\"/>\n",
       "<text text-anchor=\"middle\" x=\"493.173\" y=\"-192.1887\" font-family=\"Times,serif\" font-size=\"14.00\" fill=\"#000000\">1 </text>\n",
       "</g>\n",
       "</g>\n",
       "</svg>\n"
      ],
      "text/plain": [
       "<graphviz.dot.Digraph at 0x10eca37f0>"
      ]
     },
     "execution_count": 8,
     "metadata": {},
     "output_type": "execute_result"
    }
   ],
   "source": [
    "dotObj_dfa(nfa2dfa(Fig77, STATENAME_MAXSIZE=50), STATENAME_MAXSIZE=50)"
   ]
  },
  {
   "cell_type": "markdown",
   "metadata": {},
   "source": [
    "# Now for the Book's Figure 7.7 done with two initial states"
   ]
  },
  {
   "cell_type": "code",
   "execution_count": 9,
   "metadata": {},
   "outputs": [],
   "source": [
    "Fig77a = md2mc('''NFA\n",
    "IA : '' -> B, C\n",
    "IG : 1  -> F\n",
    "B : 1  -> D\n",
    "C : 0  -> E\n",
    "D : '' -> IA, IG\n",
    "E : '' -> IA, IG\n",
    "''')"
   ]
  },
  {
   "cell_type": "code",
   "execution_count": 10,
   "metadata": {},
   "outputs": [
    {
     "data": {
      "image/svg+xml": [
       "<?xml version=\"1.0\" encoding=\"UTF-8\" standalone=\"no\"?>\n",
       "<!DOCTYPE svg PUBLIC \"-//W3C//DTD SVG 1.1//EN\"\n",
       " \"http://www.w3.org/Graphics/SVG/1.1/DTD/svg11.dtd\">\n",
       "<!-- Generated by graphviz version 2.40.1 (20161225.0304)\n",
       " -->\n",
       "<!-- Title: %3 Pages: 1 -->\n",
       "<svg width=\"480pt\" height=\"211pt\"\n",
       " viewBox=\"0.00 0.00 479.59 211.00\" xmlns=\"http://www.w3.org/2000/svg\" xmlns:xlink=\"http://www.w3.org/1999/xlink\">\n",
       "<g id=\"graph0\" class=\"graph\" transform=\"scale(1 1) rotate(0) translate(4 207)\">\n",
       "<title>%3</title>\n",
       "<polygon fill=\"#ffffff\" stroke=\"transparent\" points=\"-4,4 -4,-207 475.5928,-207 475.5928,4 -4,4\"/>\n",
       "<!-- EMPTY -->\n",
       "<g id=\"node1\" class=\"node\">\n",
       "<title>EMPTY</title>\n",
       "</g>\n",
       "<!-- IA -->\n",
       "<g id=\"node2\" class=\"node\">\n",
       "<title>IA</title>\n",
       "<ellipse fill=\"none\" stroke=\"#000000\" cx=\"111.1482\" cy=\"-103\" rx=\"20.2975\" ry=\"20.2975\"/>\n",
       "<text text-anchor=\"middle\" x=\"111.1482\" y=\"-99.3\" font-family=\"Times,serif\" font-size=\"14.00\" fill=\"#000000\">IA</text>\n",
       "</g>\n",
       "<!-- EMPTY&#45;&gt;IA -->\n",
       "<g id=\"edge1\" class=\"edge\">\n",
       "<title>EMPTY&#45;&gt;IA</title>\n",
       "<path fill=\"none\" stroke=\"#000000\" d=\"M44.8457,-36.0263C57.953,-49.2663 75.8191,-67.3133 89.7029,-81.3376\"/>\n",
       "<polygon fill=\"#000000\" stroke=\"#000000\" points=\"87.4282,-84.0148 96.9509,-88.659 92.4029,-79.09 87.4282,-84.0148\"/>\n",
       "</g>\n",
       "<!-- IG -->\n",
       "<g id=\"node3\" class=\"node\">\n",
       "<title>IG</title>\n",
       "<ellipse fill=\"none\" stroke=\"#000000\" cx=\"360.4446\" cy=\"-69\" rx=\"20.2975\" ry=\"20.2975\"/>\n",
       "<text text-anchor=\"middle\" x=\"360.4446\" y=\"-65.3\" font-family=\"Times,serif\" font-size=\"14.00\" fill=\"#000000\">IG</text>\n",
       "</g>\n",
       "<!-- EMPTY&#45;&gt;IG -->\n",
       "<g id=\"edge2\" class=\"edge\">\n",
       "<title>EMPTY&#45;&gt;IG</title>\n",
       "<path fill=\"none\" stroke=\"#000000\" d=\"M54.1462,-12.1406C70.5644,-9.0945 91.9643,-6 111.1482,-6 111.1482,-6 111.1482,-6 277.2964,-6 303.8391,-6 327.2419,-26.6471 342.4009,-44.3013\"/>\n",
       "<polygon fill=\"#000000\" stroke=\"#000000\" points=\"339.7382,-46.5743 348.7674,-52.1172 345.1655,-42.1534 339.7382,-46.5743\"/>\n",
       "</g>\n",
       "<!-- B -->\n",
       "<g id=\"node4\" class=\"node\">\n",
       "<title>B</title>\n",
       "<ellipse fill=\"none\" stroke=\"#000000\" cx=\"194.2964\" cy=\"-157\" rx=\"18\" ry=\"18\"/>\n",
       "<text text-anchor=\"middle\" x=\"194.2964\" y=\"-153.3\" font-family=\"Times,serif\" font-size=\"14.00\" fill=\"#000000\">B</text>\n",
       "</g>\n",
       "<!-- IA&#45;&gt;B -->\n",
       "<g id=\"edge4\" class=\"edge\">\n",
       "<title>IA&#45;&gt;B</title>\n",
       "<path fill=\"none\" stroke=\"#000000\" d=\"M128.3766,-114.1888C140.5123,-122.0703 156.9212,-132.727 170.3316,-141.4362\"/>\n",
       "<polygon fill=\"#000000\" stroke=\"#000000\" points=\"168.7544,-144.5852 179.0473,-147.0965 172.567,-138.7146 168.7544,-144.5852\"/>\n",
       "<text text-anchor=\"middle\" x=\"153.7964\" y=\"-136.8\" font-family=\"Times,serif\" font-size=\"14.00\" fill=\"#000000\">&#39;&#39; </text>\n",
       "</g>\n",
       "<!-- C -->\n",
       "<g id=\"node6\" class=\"node\">\n",
       "<title>C</title>\n",
       "<ellipse fill=\"none\" stroke=\"#000000\" cx=\"194.2964\" cy=\"-103\" rx=\"18\" ry=\"18\"/>\n",
       "<text text-anchor=\"middle\" x=\"194.2964\" y=\"-99.3\" font-family=\"Times,serif\" font-size=\"14.00\" fill=\"#000000\">C</text>\n",
       "</g>\n",
       "<!-- IA&#45;&gt;C -->\n",
       "<g id=\"edge3\" class=\"edge\">\n",
       "<title>IA&#45;&gt;C</title>\n",
       "<path fill=\"none\" stroke=\"#000000\" d=\"M131.7017,-103C142.0518,-103 154.7606,-103 166.0165,-103\"/>\n",
       "<polygon fill=\"#000000\" stroke=\"#000000\" points=\"166.2385,-106.5001 176.2385,-103 166.2385,-99.5001 166.2385,-106.5001\"/>\n",
       "<text text-anchor=\"middle\" x=\"153.7964\" y=\"-106.8\" font-family=\"Times,serif\" font-size=\"14.00\" fill=\"#000000\">&#39;&#39; </text>\n",
       "</g>\n",
       "<!-- F -->\n",
       "<g id=\"node8\" class=\"node\">\n",
       "<title>F</title>\n",
       "<ellipse fill=\"none\" stroke=\"#000000\" cx=\"449.5928\" cy=\"-69\" rx=\"18\" ry=\"18\"/>\n",
       "<ellipse fill=\"none\" stroke=\"#000000\" cx=\"449.5928\" cy=\"-69\" rx=\"22\" ry=\"22\"/>\n",
       "<text text-anchor=\"middle\" x=\"449.5928\" y=\"-65.3\" font-family=\"Times,serif\" font-size=\"14.00\" fill=\"#000000\">F</text>\n",
       "</g>\n",
       "<!-- IG&#45;&gt;F -->\n",
       "<g id=\"edge5\" class=\"edge\">\n",
       "<title>IG&#45;&gt;F</title>\n",
       "<path fill=\"none\" stroke=\"#000000\" d=\"M380.6737,-69C391.4811,-69 405.0428,-69 417.2708,-69\"/>\n",
       "<polygon fill=\"#000000\" stroke=\"#000000\" points=\"417.5705,-72.5001 427.5705,-69 417.5705,-65.5001 417.5705,-72.5001\"/>\n",
       "<text text-anchor=\"middle\" x=\"404.0928\" y=\"-72.8\" font-family=\"Times,serif\" font-size=\"14.00\" fill=\"#000000\">1 </text>\n",
       "</g>\n",
       "<!-- D -->\n",
       "<g id=\"node7\" class=\"node\">\n",
       "<title>D</title>\n",
       "<ellipse fill=\"none\" stroke=\"#000000\" cx=\"277.2964\" cy=\"-157\" rx=\"18\" ry=\"18\"/>\n",
       "<text text-anchor=\"middle\" x=\"277.2964\" y=\"-153.3\" font-family=\"Times,serif\" font-size=\"14.00\" fill=\"#000000\">D</text>\n",
       "</g>\n",
       "<!-- B&#45;&gt;D -->\n",
       "<g id=\"edge6\" class=\"edge\">\n",
       "<title>B&#45;&gt;D</title>\n",
       "<path fill=\"none\" stroke=\"#000000\" d=\"M212.3062,-157C223.0001,-157 236.797,-157 248.9258,-157\"/>\n",
       "<polygon fill=\"#000000\" stroke=\"#000000\" points=\"249.0352,-160.5001 259.0352,-157 249.0352,-153.5001 249.0352,-160.5001\"/>\n",
       "<text text-anchor=\"middle\" x=\"235.7964\" y=\"-160.8\" font-family=\"Times,serif\" font-size=\"14.00\" fill=\"#000000\">1 </text>\n",
       "</g>\n",
       "<!-- E -->\n",
       "<g id=\"node5\" class=\"node\">\n",
       "<title>E</title>\n",
       "<ellipse fill=\"none\" stroke=\"#000000\" cx=\"277.2964\" cy=\"-69\" rx=\"18\" ry=\"18\"/>\n",
       "<text text-anchor=\"middle\" x=\"277.2964\" y=\"-65.3\" font-family=\"Times,serif\" font-size=\"14.00\" fill=\"#000000\">E</text>\n",
       "</g>\n",
       "<!-- E&#45;&gt;IA -->\n",
       "<g id=\"edge10\" class=\"edge\">\n",
       "<title>E&#45;&gt;IA</title>\n",
       "<path fill=\"none\" stroke=\"#000000\" d=\"M259.7467,-63.8555C239.2825,-58.7077 204.6441,-52.6544 176.2964,-61 161.13,-65.4651 146.1631,-74.6775 134.4068,-83.3396\"/>\n",
       "<polygon fill=\"#000000\" stroke=\"#000000\" points=\"132.2359,-80.5939 126.4569,-89.4739 136.5122,-86.1359 132.2359,-80.5939\"/>\n",
       "<text text-anchor=\"middle\" x=\"194.2964\" y=\"-64.8\" font-family=\"Times,serif\" font-size=\"14.00\" fill=\"#000000\">&#39;&#39; </text>\n",
       "</g>\n",
       "<!-- E&#45;&gt;IG -->\n",
       "<g id=\"edge11\" class=\"edge\">\n",
       "<title>E&#45;&gt;IG</title>\n",
       "<path fill=\"none\" stroke=\"#000000\" d=\"M295.3383,-69C305.4312,-69 318.2831,-69 329.8974,-69\"/>\n",
       "<polygon fill=\"#000000\" stroke=\"#000000\" points=\"330.101,-72.5001 340.101,-69 330.1009,-65.5001 330.101,-72.5001\"/>\n",
       "<text text-anchor=\"middle\" x=\"317.7964\" y=\"-72.8\" font-family=\"Times,serif\" font-size=\"14.00\" fill=\"#000000\">&#39;&#39; </text>\n",
       "</g>\n",
       "<!-- C&#45;&gt;E -->\n",
       "<g id=\"edge7\" class=\"edge\">\n",
       "<title>C&#45;&gt;E</title>\n",
       "<path fill=\"none\" stroke=\"#000000\" d=\"M211.0927,-96.1196C222.5678,-91.4189 238.0049,-85.0953 251.0859,-79.7368\"/>\n",
       "<polygon fill=\"#000000\" stroke=\"#000000\" points=\"252.5982,-82.8997 260.5251,-75.8702 249.9447,-76.4221 252.5982,-82.8997\"/>\n",
       "<text text-anchor=\"middle\" x=\"235.7964\" y=\"-91.8\" font-family=\"Times,serif\" font-size=\"14.00\" fill=\"#000000\">0 </text>\n",
       "</g>\n",
       "<!-- D&#45;&gt;IA -->\n",
       "<g id=\"edge8\" class=\"edge\">\n",
       "<title>D&#45;&gt;IA</title>\n",
       "<path fill=\"none\" stroke=\"#000000\" d=\"M262.3585,-167.2059C242.1411,-179.6514 205.2666,-197.461 176.2964,-184 152.9491,-173.1516 135.392,-149.241 124.422,-130.1947\"/>\n",
       "<polygon fill=\"#000000\" stroke=\"#000000\" points=\"127.4358,-128.4111 119.5693,-121.314 121.2931,-131.7677 127.4358,-128.4111\"/>\n",
       "<text text-anchor=\"middle\" x=\"194.2964\" y=\"-191.8\" font-family=\"Times,serif\" font-size=\"14.00\" fill=\"#000000\">&#39;&#39; </text>\n",
       "</g>\n",
       "<!-- D&#45;&gt;IG -->\n",
       "<g id=\"edge9\" class=\"edge\">\n",
       "<title>D&#45;&gt;IG</title>\n",
       "<path fill=\"none\" stroke=\"#000000\" d=\"M289.9248,-143.6347C303.0429,-129.7512 323.794,-107.7892 339.3963,-91.2765\"/>\n",
       "<polygon fill=\"#000000\" stroke=\"#000000\" points=\"342.2621,-93.3397 346.586,-83.6673 337.1741,-88.5322 342.2621,-93.3397\"/>\n",
       "<text text-anchor=\"middle\" x=\"317.7964\" y=\"-121.8\" font-family=\"Times,serif\" font-size=\"14.00\" fill=\"#000000\">&#39;&#39; </text>\n",
       "</g>\n",
       "</g>\n",
       "</svg>\n"
      ],
      "text/plain": [
       "<graphviz.dot.Digraph at 0x10eca33c8>"
      ]
     },
     "execution_count": 10,
     "metadata": {},
     "output_type": "execute_result"
    }
   ],
   "source": [
    "dotObj_nfa(Fig77a)"
   ]
  },
  {
   "cell_type": "code",
   "execution_count": 11,
   "metadata": {},
   "outputs": [
    {
     "data": {
      "image/svg+xml": [
       "<?xml version=\"1.0\" encoding=\"UTF-8\" standalone=\"no\"?>\n",
       "<!DOCTYPE svg PUBLIC \"-//W3C//DTD SVG 1.1//EN\"\n",
       " \"http://www.w3.org/Graphics/SVG/1.1/DTD/svg11.dtd\">\n",
       "<!-- Generated by graphviz version 2.40.1 (20161225.0304)\n",
       " -->\n",
       "<!-- Title: %3 Pages: 1 -->\n",
       "<svg width=\"597pt\" height=\"246pt\"\n",
       " viewBox=\"0.00 0.00 597.46 245.54\" xmlns=\"http://www.w3.org/2000/svg\" xmlns:xlink=\"http://www.w3.org/1999/xlink\">\n",
       "<g id=\"graph0\" class=\"graph\" transform=\"scale(1 1) rotate(0) translate(4 241.5392)\">\n",
       "<title>%3</title>\n",
       "<polygon fill=\"#ffffff\" stroke=\"transparent\" points=\"-4,4 -4,-241.5392 593.4648,-241.5392 593.4648,4 -4,4\"/>\n",
       "<!-- EMPTY -->\n",
       "<g id=\"node1\" class=\"node\">\n",
       "<title>EMPTY</title>\n",
       "</g>\n",
       "<!-- B_C_IA_IG -->\n",
       "<g id=\"node3\" class=\"node\">\n",
       "<title>B_C_IA_IG</title>\n",
       "<ellipse fill=\"none\" stroke=\"#000000\" cx=\"146.895\" cy=\"-55.895\" rx=\"55.7903\" ry=\"55.7903\"/>\n",
       "<text text-anchor=\"middle\" x=\"146.895\" y=\"-52.195\" font-family=\"Times,serif\" font-size=\"14.00\" fill=\"#000000\">B_C_IA_IG</text>\n",
       "</g>\n",
       "<!-- EMPTY&#45;&gt;B_C_IA_IG -->\n",
       "<g id=\"edge1\" class=\"edge\">\n",
       "<title>EMPTY&#45;&gt;B_C_IA_IG</title>\n",
       "<path fill=\"none\" stroke=\"#000000\" d=\"M54.206,-55.895C62.2226,-55.895 71.3661,-55.895 80.7139,-55.895\"/>\n",
       "<polygon fill=\"#000000\" stroke=\"#000000\" points=\"80.8939,-59.3951 90.8939,-55.895 80.8938,-52.3951 80.8939,-59.3951\"/>\n",
       "</g>\n",
       "<!-- B_C_E_IA_IG -->\n",
       "<g id=\"node2\" class=\"node\">\n",
       "<title>B_C_E_IA_IG</title>\n",
       "<ellipse fill=\"none\" stroke=\"#000000\" cx=\"315.4343\" cy=\"-138.895\" rx=\"65.7887\" ry=\"65.7887\"/>\n",
       "<text text-anchor=\"middle\" x=\"315.4343\" y=\"-135.195\" font-family=\"Times,serif\" font-size=\"14.00\" fill=\"#000000\">B_C_E_IA_IG</text>\n",
       "</g>\n",
       "<!-- B_C_E_IA_IG&#45;&gt;B_C_E_IA_IG -->\n",
       "<g id=\"edge4\" class=\"edge\">\n",
       "<title>B_C_E_IA_IG&#45;&gt;B_C_E_IA_IG</title>\n",
       "<path fill=\"none\" stroke=\"#000000\" d=\"M299.8406,-202.7163C301.8145,-214.3674 307.0124,-222.5392 315.4343,-222.5392 321.2243,-222.5392 325.4905,-218.6768 328.2328,-212.4767\"/>\n",
       "<polygon fill=\"#000000\" stroke=\"#000000\" points=\"331.6396,-213.2934 331.0279,-202.7163 324.9101,-211.3663 331.6396,-213.2934\"/>\n",
       "<text text-anchor=\"middle\" x=\"315.4343\" y=\"-226.3392\" font-family=\"Times,serif\" font-size=\"14.00\" fill=\"#000000\">0 </text>\n",
       "</g>\n",
       "<!-- B_C_D_F_IA_IG -->\n",
       "<g id=\"node4\" class=\"node\">\n",
       "<title>B_C_D_F_IA_IG</title>\n",
       "<ellipse fill=\"none\" stroke=\"#000000\" cx=\"508.7716\" cy=\"-100.895\" rx=\"76.8773\" ry=\"76.8773\"/>\n",
       "<ellipse fill=\"none\" stroke=\"#000000\" cx=\"508.7716\" cy=\"-100.895\" rx=\"80.8869\" ry=\"80.8869\"/>\n",
       "<text text-anchor=\"middle\" x=\"508.7716\" y=\"-97.195\" font-family=\"Times,serif\" font-size=\"14.00\" fill=\"#000000\">B_C_D_F_IA_IG</text>\n",
       "</g>\n",
       "<!-- B_C_E_IA_IG&#45;&gt;B_C_D_F_IA_IG -->\n",
       "<g id=\"edge5\" class=\"edge\">\n",
       "<title>B_C_E_IA_IG&#45;&gt;B_C_D_F_IA_IG</title>\n",
       "<path fill=\"none\" stroke=\"#000000\" d=\"M380.0816,-126.1888C392.6782,-123.7129 406.0926,-121.0763 419.3256,-118.4755\"/>\n",
       "<polygon fill=\"#000000\" stroke=\"#000000\" points=\"420.2557,-121.8597 429.3929,-116.4967 418.9056,-114.9911 420.2557,-121.8597\"/>\n",
       "<text text-anchor=\"middle\" x=\"404.5784\" y=\"-126.695\" font-family=\"Times,serif\" font-size=\"14.00\" fill=\"#000000\">1 </text>\n",
       "</g>\n",
       "<!-- B_C_IA_IG&#45;&gt;B_C_E_IA_IG -->\n",
       "<g id=\"edge2\" class=\"edge\">\n",
       "<title>B_C_IA_IG&#45;&gt;B_C_E_IA_IG</title>\n",
       "<path fill=\"none\" stroke=\"#000000\" d=\"M197.4624,-80.7978C213.0883,-88.493 230.5653,-97.0999 247.1799,-105.282\"/>\n",
       "<polygon fill=\"#000000\" stroke=\"#000000\" points=\"245.7868,-108.4973 256.3043,-109.7755 248.8795,-102.2175 245.7868,-108.4973\"/>\n",
       "<text text-anchor=\"middle\" x=\"226.2901\" y=\"-101.695\" font-family=\"Times,serif\" font-size=\"14.00\" fill=\"#000000\">0 </text>\n",
       "</g>\n",
       "<!-- B_C_IA_IG&#45;&gt;B_C_D_F_IA_IG -->\n",
       "<g id=\"edge3\" class=\"edge\">\n",
       "<title>B_C_IA_IG&#45;&gt;B_C_D_F_IA_IG</title>\n",
       "<path fill=\"none\" stroke=\"#000000\" d=\"M202.3469,-47.3719C250.1583,-41.649 320.8038,-37.0929 381.0784,-48.895 396.1087,-51.8381 411.6026,-56.5584 426.3895,-61.9836\"/>\n",
       "<polygon fill=\"#000000\" stroke=\"#000000\" points=\"425.4015,-65.3525 435.9925,-65.639 427.8918,-58.8104 425.4015,-65.3525\"/>\n",
       "<text text-anchor=\"middle\" x=\"315.4343\" y=\"-52.695\" font-family=\"Times,serif\" font-size=\"14.00\" fill=\"#000000\">1 </text>\n",
       "</g>\n",
       "<!-- B_C_D_F_IA_IG&#45;&gt;B_C_E_IA_IG -->\n",
       "<g id=\"edge6\" class=\"edge\">\n",
       "<title>B_C_D_F_IA_IG&#45;&gt;B_C_E_IA_IG</title>\n",
       "<path fill=\"none\" stroke=\"#000000\" d=\"M428.0819,-98.7973C418.2457,-99.5888 408.3881,-100.8881 399.0784,-102.895 394.3069,-103.9237 389.4696,-105.2279 384.6519,-106.7261\"/>\n",
       "<polygon fill=\"#000000\" stroke=\"#000000\" points=\"383.1717,-103.5318 374.8177,-110.0481 385.4119,-110.1637 383.1717,-103.5318\"/>\n",
       "<text text-anchor=\"middle\" x=\"404.5784\" y=\"-106.695\" font-family=\"Times,serif\" font-size=\"14.00\" fill=\"#000000\">0 </text>\n",
       "</g>\n",
       "<!-- B_C_D_F_IA_IG&#45;&gt;B_C_D_F_IA_IG -->\n",
       "<g id=\"edge7\" class=\"edge\">\n",
       "<title>B_C_D_F_IA_IG&#45;&gt;B_C_D_F_IA_IG</title>\n",
       "<path fill=\"none\" stroke=\"#000000\" d=\"M491.0819,-179.8782C493.836,-191.6359 499.7326,-199.5882 508.7716,-199.5882 514.986,-199.5882 519.715,-195.8295 522.9587,-189.6596\"/>\n",
       "<polygon fill=\"#000000\" stroke=\"#000000\" points=\"526.3852,-190.4728 526.4614,-179.8782 519.7949,-188.1128 526.3852,-190.4728\"/>\n",
       "<text text-anchor=\"middle\" x=\"508.7716\" y=\"-203.3882\" font-family=\"Times,serif\" font-size=\"14.00\" fill=\"#000000\">1 </text>\n",
       "</g>\n",
       "</g>\n",
       "</svg>\n"
      ],
      "text/plain": [
       "<graphviz.dot.Digraph at 0x10eca3b70>"
      ]
     },
     "execution_count": 11,
     "metadata": {},
     "output_type": "execute_result"
    }
   ],
   "source": [
    "dotObj_dfa(nfa2dfa(Fig77a, STATENAME_MAXSIZE=50), STATENAME_MAXSIZE=50)"
   ]
  },
  {
   "cell_type": "code",
   "execution_count": 12,
   "metadata": {
    "run_control": {
     "frozen": false,
     "read_only": false
    }
   },
   "outputs": [],
   "source": [
    "# Our automd markdown works for NFA also. Here is the NFA for\n",
    "# the language \"ends in 0101\"\n",
    "\n",
    "NFA_ends0101 = md2mc(''' \n",
    "!!---------------------------------------------------------------------------\n",
    "!! This NFA looks for patterns of the form \n",
    "!!\n",
    "!!     ......<some 0's and 1's>.....0101\n",
    "!!\n",
    "!! i.e., all strings that end in 0101.\n",
    "!!\n",
    "!! This example (over and above thirdlastis1.nfa) also illustrates\n",
    "!! the power of nondeterminism. Anytime we see a 0 from state I, we\n",
    "!! can have the NFA speculate that it is seeing the beginning of a\n",
    "!! 0101 pattern! If the NFA fails in its guess, it pays no price\n",
    "!! (because another guess is soon coming from behind).\n",
    "!!\n",
    "!! * We take 4 states in the NFA solution. The DFA solution takes\n",
    "!!   5 states.\n",
    "!!\n",
    "!! * This shows how burden is shifted from the\n",
    "!!   human to the computer doing the NFA simulation.\n",
    "!!   Even though the savings in states is not dramatic,\n",
    "!!   the effort to build this NFA is much lower than building\n",
    "!!   the corresponding DFA.\n",
    "!! \n",
    "!!-----------------------------------------------------------------\n",
    "!! For NFA, each line can be as follows:\n",
    "!!\n",
    "!! State : in1 | in2 ...  ->  COmma, Separated, State, List  !! comment\n",
    "!!-----------------------------------------------------------------\n",
    "\n",
    "NFA\n",
    "\n",
    "I    : 1   -> I      !! I goes to I upon 1\n",
    "\n",
    "I    : 0   -> S0, I  !! I goes to S0 and I upon 0\n",
    "\n",
    "S0   : 1   -> S01    !! S0 goes to S01 upon 1\n",
    "\n",
    "S01  : 0   -> S010   !! S01 goes to S010 upon 0\n",
    "\n",
    "S010 : 1   -> F      !! S010 goes to F upon F\n",
    "\n",
    "!!---\n",
    "''')"
   ]
  },
  {
   "cell_type": "code",
   "execution_count": 13,
   "metadata": {
    "run_control": {
     "frozen": false,
     "read_only": false
    }
   },
   "outputs": [
    {
     "data": {
      "text/plain": [
       "{'Q': {'F', 'I', 'S0', 'S01', 'S010'},\n",
       " 'Sigma': {'0', '1'},\n",
       " 'Delta': {('I', '1'): {'I'},\n",
       "  ('I', '0'): {'I', 'S0'},\n",
       "  ('S0', '1'): {'S01'},\n",
       "  ('S01', '0'): {'S010'},\n",
       "  ('S010', '1'): {'F'}},\n",
       " 'Q0': {'I'},\n",
       " 'F': {'F'}}"
      ]
     },
     "execution_count": 13,
     "metadata": {},
     "output_type": "execute_result"
    }
   ],
   "source": [
    "# Now let us see the dict version of the NFA\n",
    "NFA_ends0101 "
   ]
  },
  {
   "cell_type": "code",
   "execution_count": 14,
   "metadata": {
    "run_control": {
     "frozen": false,
     "read_only": false
    }
   },
   "outputs": [
    {
     "data": {
      "image/svg+xml": [
       "<?xml version=\"1.0\" encoding=\"UTF-8\" standalone=\"no\"?>\n",
       "<!DOCTYPE svg PUBLIC \"-//W3C//DTD SVG 1.1//EN\"\n",
       " \"http://www.w3.org/Graphics/SVG/1.1/DTD/svg11.dtd\">\n",
       "<!-- Generated by graphviz version 2.40.1 (20161225.0304)\n",
       " -->\n",
       "<!-- Title: %3 Pages: 1 -->\n",
       "<svg width=\"515pt\" height=\"121pt\"\n",
       " viewBox=\"0.00 0.00 515.19 121.25\" xmlns=\"http://www.w3.org/2000/svg\" xmlns:xlink=\"http://www.w3.org/1999/xlink\">\n",
       "<g id=\"graph0\" class=\"graph\" transform=\"scale(1 1) rotate(0) translate(4 117.2474)\">\n",
       "<title>%3</title>\n",
       "<polygon fill=\"#ffffff\" stroke=\"transparent\" points=\"-4,4 -4,-117.2474 511.1869,-117.2474 511.1869,4 -4,4\"/>\n",
       "<!-- EMPTY -->\n",
       "<g id=\"node1\" class=\"node\">\n",
       "<title>EMPTY</title>\n",
       "</g>\n",
       "<!-- I -->\n",
       "<g id=\"node5\" class=\"node\">\n",
       "<title>I</title>\n",
       "<ellipse fill=\"none\" stroke=\"#000000\" cx=\"109\" cy=\"-29.2474\" rx=\"18\" ry=\"18\"/>\n",
       "<text text-anchor=\"middle\" x=\"109\" y=\"-25.5474\" font-family=\"Times,serif\" font-size=\"14.00\" fill=\"#000000\">I</text>\n",
       "</g>\n",
       "<!-- EMPTY&#45;&gt;I -->\n",
       "<g id=\"edge1\" class=\"edge\">\n",
       "<title>EMPTY&#45;&gt;I</title>\n",
       "<path fill=\"none\" stroke=\"#000000\" d=\"M54.3048,-29.2474C62.6909,-29.2474 71.9407,-29.2474 80.4103,-29.2474\"/>\n",
       "<polygon fill=\"#000000\" stroke=\"#000000\" points=\"80.5976,-32.7475 90.5976,-29.2474 80.5976,-25.7475 80.5976,-32.7475\"/>\n",
       "</g>\n",
       "<!-- S0 -->\n",
       "<g id=\"node2\" class=\"node\">\n",
       "<title>S0</title>\n",
       "<ellipse fill=\"none\" stroke=\"#000000\" cx=\"194.1482\" cy=\"-29.2474\" rx=\"20.2975\" ry=\"20.2975\"/>\n",
       "<text text-anchor=\"middle\" x=\"194.1482\" y=\"-25.5474\" font-family=\"Times,serif\" font-size=\"14.00\" fill=\"#000000\">S0</text>\n",
       "</g>\n",
       "<!-- S01 -->\n",
       "<g id=\"node3\" class=\"node\">\n",
       "<title>S01</title>\n",
       "<ellipse fill=\"none\" stroke=\"#000000\" cx=\"285.9942\" cy=\"-29.2474\" rx=\"24.8972\" ry=\"24.8972\"/>\n",
       "<text text-anchor=\"middle\" x=\"285.9942\" y=\"-25.5474\" font-family=\"Times,serif\" font-size=\"14.00\" fill=\"#000000\">S01</text>\n",
       "</g>\n",
       "<!-- S0&#45;&gt;S01 -->\n",
       "<g id=\"edge5\" class=\"edge\">\n",
       "<title>S0&#45;&gt;S01</title>\n",
       "<path fill=\"none\" stroke=\"#000000\" d=\"M214.5318,-29.2474C225.2667,-29.2474 238.7317,-29.2474 251.0709,-29.2474\"/>\n",
       "<polygon fill=\"#000000\" stroke=\"#000000\" points=\"251.0864,-32.7475 261.0864,-29.2474 251.0864,-25.7475 251.0864,-32.7475\"/>\n",
       "<text text-anchor=\"middle\" x=\"237.7964\" y=\"-33.0474\" font-family=\"Times,serif\" font-size=\"14.00\" fill=\"#000000\">1 </text>\n",
       "</g>\n",
       "<!-- S010 -->\n",
       "<g id=\"node4\" class=\"node\">\n",
       "<title>S010</title>\n",
       "<ellipse fill=\"none\" stroke=\"#000000\" cx=\"386.9394\" cy=\"-29.2474\" rx=\"29.4969\" ry=\"29.4969\"/>\n",
       "<text text-anchor=\"middle\" x=\"386.9394\" y=\"-25.5474\" font-family=\"Times,serif\" font-size=\"14.00\" fill=\"#000000\">S010</text>\n",
       "</g>\n",
       "<!-- S01&#45;&gt;S010 -->\n",
       "<g id=\"edge6\" class=\"edge\">\n",
       "<title>S01&#45;&gt;S010</title>\n",
       "<path fill=\"none\" stroke=\"#000000\" d=\"M310.947,-29.2474C321.9853,-29.2474 335.2335,-29.2474 347.5543,-29.2474\"/>\n",
       "<polygon fill=\"#000000\" stroke=\"#000000\" points=\"347.6169,-32.7475 357.6169,-29.2474 347.6169,-25.7475 347.6169,-32.7475\"/>\n",
       "<text text-anchor=\"middle\" x=\"334.192\" y=\"-33.0474\" font-family=\"Times,serif\" font-size=\"14.00\" fill=\"#000000\">0 </text>\n",
       "</g>\n",
       "<!-- F -->\n",
       "<g id=\"node6\" class=\"node\">\n",
       "<title>F</title>\n",
       "<ellipse fill=\"none\" stroke=\"#000000\" cx=\"485.1869\" cy=\"-29.2474\" rx=\"18\" ry=\"18\"/>\n",
       "<ellipse fill=\"none\" stroke=\"#000000\" cx=\"485.1869\" cy=\"-29.2474\" rx=\"22\" ry=\"22\"/>\n",
       "<text text-anchor=\"middle\" x=\"485.1869\" y=\"-25.5474\" font-family=\"Times,serif\" font-size=\"14.00\" fill=\"#000000\">F</text>\n",
       "</g>\n",
       "<!-- S010&#45;&gt;F -->\n",
       "<g id=\"edge7\" class=\"edge\">\n",
       "<title>S010&#45;&gt;F</title>\n",
       "<path fill=\"none\" stroke=\"#000000\" d=\"M416.4169,-29.2474C427.8415,-29.2474 440.9634,-29.2474 452.662,-29.2474\"/>\n",
       "<polygon fill=\"#000000\" stroke=\"#000000\" points=\"452.9161,-32.7475 462.916,-29.2474 452.916,-25.7475 452.9161,-32.7475\"/>\n",
       "<text text-anchor=\"middle\" x=\"439.6869\" y=\"-33.0474\" font-family=\"Times,serif\" font-size=\"14.00\" fill=\"#000000\">1 </text>\n",
       "</g>\n",
       "<!-- I&#45;&gt;S0 -->\n",
       "<g id=\"edge3\" class=\"edge\">\n",
       "<title>I&#45;&gt;S0</title>\n",
       "<path fill=\"none\" stroke=\"#000000\" d=\"M127.0577,-29.2474C137.6298,-29.2474 151.2613,-29.2474 163.4728,-29.2474\"/>\n",
       "<polygon fill=\"#000000\" stroke=\"#000000\" points=\"163.7261,-32.7475 173.726,-29.2474 163.726,-25.7475 163.7261,-32.7475\"/>\n",
       "<text text-anchor=\"middle\" x=\"150.5\" y=\"-33.0474\" font-family=\"Times,serif\" font-size=\"14.00\" fill=\"#000000\">0 </text>\n",
       "</g>\n",
       "<!-- I&#45;&gt;I -->\n",
       "<g id=\"edge2\" class=\"edge\">\n",
       "<title>I&#45;&gt;I</title>\n",
       "<path fill=\"none\" stroke=\"#000000\" d=\"M105.7643,-47.0291C105.2144,-56.5623 106.293,-65.2474 109,-65.2474 110.6496,-65.2474 111.6945,-62.0223 112.1347,-57.3455\"/>\n",
       "<polygon fill=\"#000000\" stroke=\"#000000\" points=\"115.6375,-57.063 112.2357,-47.0291 108.6379,-56.9943 115.6375,-57.063\"/>\n",
       "<text text-anchor=\"middle\" x=\"109\" y=\"-69.0474\" font-family=\"Times,serif\" font-size=\"14.00\" fill=\"#000000\">1 </text>\n",
       "</g>\n",
       "<!-- I&#45;&gt;I -->\n",
       "<g id=\"edge4\" class=\"edge\">\n",
       "<title>I&#45;&gt;I</title>\n",
       "<path fill=\"none\" stroke=\"#000000\" d=\"M103.6841,-46.6677C100.6538,-64.0384 102.4258,-83.2474 109,-83.2474 114.2902,-83.2474 116.4708,-70.8091 115.5419,-56.8994\"/>\n",
       "<polygon fill=\"#000000\" stroke=\"#000000\" points=\"118.9808,-56.1802 114.3159,-46.6677 112.0305,-57.0131 118.9808,-56.1802\"/>\n",
       "<text text-anchor=\"middle\" x=\"109\" y=\"-87.0474\" font-family=\"Times,serif\" font-size=\"14.00\" fill=\"#000000\">0 </text>\n",
       "</g>\n",
       "</g>\n",
       "</svg>\n"
      ],
      "text/plain": [
       "<graphviz.dot.Digraph at 0x10eca3898>"
      ]
     },
     "execution_count": 14,
     "metadata": {},
     "output_type": "execute_result"
    }
   ],
   "source": [
    "# Let's see the drawing of this NFA\n",
    "\n",
    "dotObj_nfa(NFA_ends0101)  "
   ]
  },
  {
   "cell_type": "code",
   "execution_count": 15,
   "metadata": {
    "run_control": {
     "frozen": false,
     "read_only": false
    }
   },
   "outputs": [
    {
     "data": {
      "image/svg+xml": [
       "<?xml version=\"1.0\" encoding=\"UTF-8\" standalone=\"no\"?>\n",
       "<!DOCTYPE svg PUBLIC \"-//W3C//DTD SVG 1.1//EN\"\n",
       " \"http://www.w3.org/Graphics/SVG/1.1/DTD/svg11.dtd\">\n",
       "<!-- Generated by graphviz version 2.40.1 (20161225.0304)\n",
       " -->\n",
       "<!-- Title: %3 Pages: 1 -->\n",
       "<svg width=\"515pt\" height=\"103pt\"\n",
       " viewBox=\"0.00 0.00 515.19 103.25\" xmlns=\"http://www.w3.org/2000/svg\" xmlns:xlink=\"http://www.w3.org/1999/xlink\">\n",
       "<g id=\"graph0\" class=\"graph\" transform=\"scale(1 1) rotate(0) translate(4 99.2474)\">\n",
       "<title>%3</title>\n",
       "<polygon fill=\"#ffffff\" stroke=\"transparent\" points=\"-4,4 -4,-99.2474 511.1869,-99.2474 511.1869,4 -4,4\"/>\n",
       "<!-- EMPTY -->\n",
       "<g id=\"node1\" class=\"node\">\n",
       "<title>EMPTY</title>\n",
       "</g>\n",
       "<!-- I -->\n",
       "<g id=\"node5\" class=\"node\">\n",
       "<title>I</title>\n",
       "<ellipse fill=\"none\" stroke=\"#000000\" cx=\"109\" cy=\"-29.2474\" rx=\"18\" ry=\"18\"/>\n",
       "<text text-anchor=\"middle\" x=\"109\" y=\"-25.5474\" font-family=\"Times,serif\" font-size=\"14.00\" fill=\"#000000\">I</text>\n",
       "</g>\n",
       "<!-- EMPTY&#45;&gt;I -->\n",
       "<g id=\"edge1\" class=\"edge\">\n",
       "<title>EMPTY&#45;&gt;I</title>\n",
       "<path fill=\"none\" stroke=\"#000000\" d=\"M54.3048,-29.2474C62.6909,-29.2474 71.9407,-29.2474 80.4103,-29.2474\"/>\n",
       "<polygon fill=\"#000000\" stroke=\"#000000\" points=\"80.5976,-32.7475 90.5976,-29.2474 80.5976,-25.7475 80.5976,-32.7475\"/>\n",
       "</g>\n",
       "<!-- S0 -->\n",
       "<g id=\"node2\" class=\"node\">\n",
       "<title>S0</title>\n",
       "<ellipse fill=\"none\" stroke=\"#000000\" cx=\"194.1482\" cy=\"-29.2474\" rx=\"20.2975\" ry=\"20.2975\"/>\n",
       "<text text-anchor=\"middle\" x=\"194.1482\" y=\"-25.5474\" font-family=\"Times,serif\" font-size=\"14.00\" fill=\"#000000\">S0</text>\n",
       "</g>\n",
       "<!-- S01 -->\n",
       "<g id=\"node3\" class=\"node\">\n",
       "<title>S01</title>\n",
       "<ellipse fill=\"none\" stroke=\"#000000\" cx=\"285.9942\" cy=\"-29.2474\" rx=\"24.8972\" ry=\"24.8972\"/>\n",
       "<text text-anchor=\"middle\" x=\"285.9942\" y=\"-25.5474\" font-family=\"Times,serif\" font-size=\"14.00\" fill=\"#000000\">S01</text>\n",
       "</g>\n",
       "<!-- S0&#45;&gt;S01 -->\n",
       "<g id=\"edge4\" class=\"edge\">\n",
       "<title>S0&#45;&gt;S01</title>\n",
       "<path fill=\"none\" stroke=\"#000000\" d=\"M214.5318,-29.2474C225.2667,-29.2474 238.7317,-29.2474 251.0709,-29.2474\"/>\n",
       "<polygon fill=\"#000000\" stroke=\"#000000\" points=\"251.0864,-32.7475 261.0864,-29.2474 251.0864,-25.7475 251.0864,-32.7475\"/>\n",
       "<text text-anchor=\"middle\" x=\"237.7964\" y=\"-33.0474\" font-family=\"Times,serif\" font-size=\"14.00\" fill=\"#000000\">1 </text>\n",
       "</g>\n",
       "<!-- S010 -->\n",
       "<g id=\"node4\" class=\"node\">\n",
       "<title>S010</title>\n",
       "<ellipse fill=\"none\" stroke=\"#000000\" cx=\"386.9394\" cy=\"-29.2474\" rx=\"29.4969\" ry=\"29.4969\"/>\n",
       "<text text-anchor=\"middle\" x=\"386.9394\" y=\"-25.5474\" font-family=\"Times,serif\" font-size=\"14.00\" fill=\"#000000\">S010</text>\n",
       "</g>\n",
       "<!-- S01&#45;&gt;S010 -->\n",
       "<g id=\"edge5\" class=\"edge\">\n",
       "<title>S01&#45;&gt;S010</title>\n",
       "<path fill=\"none\" stroke=\"#000000\" d=\"M310.947,-29.2474C321.9853,-29.2474 335.2335,-29.2474 347.5543,-29.2474\"/>\n",
       "<polygon fill=\"#000000\" stroke=\"#000000\" points=\"347.6169,-32.7475 357.6169,-29.2474 347.6169,-25.7475 347.6169,-32.7475\"/>\n",
       "<text text-anchor=\"middle\" x=\"334.192\" y=\"-33.0474\" font-family=\"Times,serif\" font-size=\"14.00\" fill=\"#000000\">0 </text>\n",
       "</g>\n",
       "<!-- F -->\n",
       "<g id=\"node6\" class=\"node\">\n",
       "<title>F</title>\n",
       "<ellipse fill=\"none\" stroke=\"#000000\" cx=\"485.1869\" cy=\"-29.2474\" rx=\"18\" ry=\"18\"/>\n",
       "<ellipse fill=\"none\" stroke=\"#000000\" cx=\"485.1869\" cy=\"-29.2474\" rx=\"22\" ry=\"22\"/>\n",
       "<text text-anchor=\"middle\" x=\"485.1869\" y=\"-25.5474\" font-family=\"Times,serif\" font-size=\"14.00\" fill=\"#000000\">F</text>\n",
       "</g>\n",
       "<!-- S010&#45;&gt;F -->\n",
       "<g id=\"edge6\" class=\"edge\">\n",
       "<title>S010&#45;&gt;F</title>\n",
       "<path fill=\"none\" stroke=\"#000000\" d=\"M416.4169,-29.2474C427.8415,-29.2474 440.9634,-29.2474 452.662,-29.2474\"/>\n",
       "<polygon fill=\"#000000\" stroke=\"#000000\" points=\"452.9161,-32.7475 462.916,-29.2474 452.916,-25.7475 452.9161,-32.7475\"/>\n",
       "<text text-anchor=\"middle\" x=\"439.6869\" y=\"-33.0474\" font-family=\"Times,serif\" font-size=\"14.00\" fill=\"#000000\">1 </text>\n",
       "</g>\n",
       "<!-- I&#45;&gt;S0 -->\n",
       "<g id=\"edge3\" class=\"edge\">\n",
       "<title>I&#45;&gt;S0</title>\n",
       "<path fill=\"none\" stroke=\"#000000\" d=\"M127.0577,-29.2474C137.6298,-29.2474 151.2613,-29.2474 163.4728,-29.2474\"/>\n",
       "<polygon fill=\"#000000\" stroke=\"#000000\" points=\"163.7261,-32.7475 173.726,-29.2474 163.726,-25.7475 163.7261,-32.7475\"/>\n",
       "<text text-anchor=\"middle\" x=\"150.5\" y=\"-33.0474\" font-family=\"Times,serif\" font-size=\"14.00\" fill=\"#000000\">0 </text>\n",
       "</g>\n",
       "<!-- I&#45;&gt;I -->\n",
       "<g id=\"edge2\" class=\"edge\">\n",
       "<title>I&#45;&gt;I</title>\n",
       "<path fill=\"none\" stroke=\"#000000\" d=\"M102.6208,-46.2847C101.3189,-56.1053 103.4453,-65.2474 109,-65.2474 112.4717,-65.2474 114.6042,-61.6763 115.3975,-56.6003\"/>\n",
       "<polygon fill=\"#000000\" stroke=\"#000000\" points=\"118.8971,-56.2784 115.3792,-46.2847 111.8971,-56.2909 118.8971,-56.2784\"/>\n",
       "<text text-anchor=\"middle\" x=\"109\" y=\"-84.0474\" font-family=\"Times,serif\" font-size=\"14.00\" fill=\"#000000\">0 </text>\n",
       "<text text-anchor=\"middle\" x=\"109\" y=\"-69.0474\" font-family=\"Times,serif\" font-size=\"14.00\" fill=\"#000000\"> 1 </text>\n",
       "</g>\n",
       "</g>\n",
       "</svg>\n"
      ],
      "text/plain": [
       "<graphviz.dot.Digraph at 0x10eccb550>"
      ]
     },
     "execution_count": 15,
     "metadata": {},
     "output_type": "execute_result"
    }
   ],
   "source": [
    "# The drawing produces separated self-loops. Let's fuse 'em\n",
    "\n",
    "# Now we are going to fuse the separate self-loops into one\n",
    "\n",
    "dotObj_nfa(NFA_ends0101, FuseEdges=True) "
   ]
  },
  {
   "cell_type": "markdown",
   "metadata": {
    "run_control": {
     "frozen": false,
     "read_only": false
    }
   },
   "source": [
    "# NFA for 3rd-last is 1"
   ]
  },
  {
   "cell_type": "code",
   "execution_count": 16,
   "metadata": {
    "run_control": {
     "frozen": false,
     "read_only": false
    }
   },
   "outputs": [],
   "source": [
    "# Here is the automd (markdown) for an NF whose third-last symbol is a 1\n",
    "\n",
    "NFA_3rdlast_1 = md2mc('''\n",
    "NFA\n",
    "\n",
    "I : 0  | 1  -> I  !! Upon a 0 or a 1, continue to stay in state I\n",
    "\n",
    "I : ''      -> S0 !! Nondeterministically transition to state S0\n",
    "\n",
    "S0 : 1      -> S1 !! This is the key \"1\" (third-last being 1) seen\n",
    "\n",
    "S1 : 0 | 1  -> S2 !! One 0/1 takes the NFA to S2\n",
    "\n",
    "S2 : 0 | 1  -> F  !! One more 0/1 takes the NFA to F\n",
    "\n",
    "''')"
   ]
  },
  {
   "cell_type": "code",
   "execution_count": 17,
   "metadata": {
    "run_control": {
     "frozen": false,
     "read_only": false
    }
   },
   "outputs": [
    {
     "data": {
      "text/plain": [
       "{'Q': {'F', 'I', 'S0', 'S1', 'S2'},\n",
       " 'Sigma': {'0', '1'},\n",
       " 'Delta': {('I', '0'): {'I'},\n",
       "  ('I', '1'): {'I'},\n",
       "  ('I', ''): {'S0'},\n",
       "  ('S0', '1'): {'S1'},\n",
       "  ('S1', '0'): {'S2'},\n",
       "  ('S1', '1'): {'S2'},\n",
       "  ('S2', '0'): {'F'},\n",
       "  ('S2', '1'): {'F'}},\n",
       " 'Q0': {'I'},\n",
       " 'F': {'F'}}"
      ]
     },
     "execution_count": 17,
     "metadata": {},
     "output_type": "execute_result"
    }
   ],
   "source": [
    "# Let us see its internal representation\n",
    "\n",
    "NFA_3rdlast_1"
   ]
  },
  {
   "cell_type": "code",
   "execution_count": 18,
   "metadata": {
    "run_control": {
     "frozen": false,
     "read_only": false
    }
   },
   "outputs": [
    {
     "data": {
      "image/svg+xml": [
       "<?xml version=\"1.0\" encoding=\"UTF-8\" standalone=\"no\"?>\n",
       "<!DOCTYPE svg PUBLIC \"-//W3C//DTD SVG 1.1//EN\"\n",
       " \"http://www.w3.org/Graphics/SVG/1.1/DTD/svg11.dtd\">\n",
       "<!-- Generated by graphviz version 2.40.1 (20161225.0304)\n",
       " -->\n",
       "<!-- Title: %3 Pages: 1 -->\n",
       "<svg width=\"494pt\" height=\"96pt\"\n",
       " viewBox=\"0.00 0.00 493.89 96.00\" xmlns=\"http://www.w3.org/2000/svg\" xmlns:xlink=\"http://www.w3.org/1999/xlink\">\n",
       "<g id=\"graph0\" class=\"graph\" transform=\"scale(1 1) rotate(0) translate(4 92)\">\n",
       "<title>%3</title>\n",
       "<polygon fill=\"#ffffff\" stroke=\"transparent\" points=\"-4,4 -4,-92 489.8893,-92 489.8893,4 -4,4\"/>\n",
       "<!-- EMPTY -->\n",
       "<g id=\"node1\" class=\"node\">\n",
       "<title>EMPTY</title>\n",
       "</g>\n",
       "<!-- I -->\n",
       "<g id=\"node5\" class=\"node\">\n",
       "<title>I</title>\n",
       "<ellipse fill=\"none\" stroke=\"#000000\" cx=\"109\" cy=\"-22\" rx=\"18\" ry=\"18\"/>\n",
       "<text text-anchor=\"middle\" x=\"109\" y=\"-18.3\" font-family=\"Times,serif\" font-size=\"14.00\" fill=\"#000000\">I</text>\n",
       "</g>\n",
       "<!-- EMPTY&#45;&gt;I -->\n",
       "<g id=\"edge1\" class=\"edge\">\n",
       "<title>EMPTY&#45;&gt;I</title>\n",
       "<path fill=\"none\" stroke=\"#000000\" d=\"M54.3048,-22C62.6909,-22 71.9407,-22 80.4103,-22\"/>\n",
       "<polygon fill=\"#000000\" stroke=\"#000000\" points=\"80.5976,-25.5001 90.5976,-22 80.5976,-18.5001 80.5976,-25.5001\"/>\n",
       "</g>\n",
       "<!-- S0 -->\n",
       "<g id=\"node2\" class=\"node\">\n",
       "<title>S0</title>\n",
       "<ellipse fill=\"none\" stroke=\"#000000\" cx=\"192.1482\" cy=\"-22\" rx=\"20.2975\" ry=\"20.2975\"/>\n",
       "<text text-anchor=\"middle\" x=\"192.1482\" y=\"-18.3\" font-family=\"Times,serif\" font-size=\"14.00\" fill=\"#000000\">S0</text>\n",
       "</g>\n",
       "<!-- S1 -->\n",
       "<g id=\"node4\" class=\"node\">\n",
       "<title>S1</title>\n",
       "<ellipse fill=\"none\" stroke=\"#000000\" cx=\"279.4446\" cy=\"-22\" rx=\"20.2975\" ry=\"20.2975\"/>\n",
       "<text text-anchor=\"middle\" x=\"279.4446\" y=\"-18.3\" font-family=\"Times,serif\" font-size=\"14.00\" fill=\"#000000\">S1</text>\n",
       "</g>\n",
       "<!-- S0&#45;&gt;S1 -->\n",
       "<g id=\"edge4\" class=\"edge\">\n",
       "<title>S0&#45;&gt;S1</title>\n",
       "<path fill=\"none\" stroke=\"#000000\" d=\"M212.3952,-22C223.225,-22 236.7837,-22 248.8692,-22\"/>\n",
       "<polygon fill=\"#000000\" stroke=\"#000000\" points=\"249.0051,-25.5001 259.0051,-22 249.005,-18.5001 249.0051,-25.5001\"/>\n",
       "<text text-anchor=\"middle\" x=\"235.7964\" y=\"-25.8\" font-family=\"Times,serif\" font-size=\"14.00\" fill=\"#000000\">1 </text>\n",
       "</g>\n",
       "<!-- S2 -->\n",
       "<g id=\"node3\" class=\"node\">\n",
       "<title>S2</title>\n",
       "<ellipse fill=\"none\" stroke=\"#000000\" cx=\"370.7411\" cy=\"-22\" rx=\"20.2975\" ry=\"20.2975\"/>\n",
       "<text text-anchor=\"middle\" x=\"370.7411\" y=\"-18.3\" font-family=\"Times,serif\" font-size=\"14.00\" fill=\"#000000\">S2</text>\n",
       "</g>\n",
       "<!-- F -->\n",
       "<g id=\"node6\" class=\"node\">\n",
       "<title>F</title>\n",
       "<ellipse fill=\"none\" stroke=\"#000000\" cx=\"463.8893\" cy=\"-22\" rx=\"18\" ry=\"18\"/>\n",
       "<ellipse fill=\"none\" stroke=\"#000000\" cx=\"463.8893\" cy=\"-22\" rx=\"22\" ry=\"22\"/>\n",
       "<text text-anchor=\"middle\" x=\"463.8893\" y=\"-18.3\" font-family=\"Times,serif\" font-size=\"14.00\" fill=\"#000000\">F</text>\n",
       "</g>\n",
       "<!-- S2&#45;&gt;F -->\n",
       "<g id=\"edge6\" class=\"edge\">\n",
       "<title>S2&#45;&gt;F</title>\n",
       "<path fill=\"none\" stroke=\"#000000\" d=\"M390.9528,-22C402.7746,-22 417.9751,-22 431.437,-22\"/>\n",
       "<polygon fill=\"#000000\" stroke=\"#000000\" points=\"431.7628,-25.5001 441.7628,-22 431.7627,-18.5001 431.7628,-25.5001\"/>\n",
       "<text text-anchor=\"middle\" x=\"416.3893\" y=\"-40.8\" font-family=\"Times,serif\" font-size=\"14.00\" fill=\"#000000\">0 </text>\n",
       "<text text-anchor=\"middle\" x=\"416.3893\" y=\"-25.8\" font-family=\"Times,serif\" font-size=\"14.00\" fill=\"#000000\"> 1 </text>\n",
       "</g>\n",
       "<!-- S1&#45;&gt;S2 -->\n",
       "<g id=\"edge5\" class=\"edge\">\n",
       "<title>S1&#45;&gt;S2</title>\n",
       "<path fill=\"none\" stroke=\"#000000\" d=\"M299.7063,-22C311.6443,-22 326.9789,-22 340.3432,-22\"/>\n",
       "<polygon fill=\"#000000\" stroke=\"#000000\" points=\"340.5361,-25.5001 350.5361,-22 340.536,-18.5001 340.5361,-25.5001\"/>\n",
       "<text text-anchor=\"middle\" x=\"325.0928\" y=\"-40.8\" font-family=\"Times,serif\" font-size=\"14.00\" fill=\"#000000\">0 </text>\n",
       "<text text-anchor=\"middle\" x=\"325.0928\" y=\"-25.8\" font-family=\"Times,serif\" font-size=\"14.00\" fill=\"#000000\"> 1 </text>\n",
       "</g>\n",
       "<!-- I&#45;&gt;S0 -->\n",
       "<g id=\"edge3\" class=\"edge\">\n",
       "<title>I&#45;&gt;S0</title>\n",
       "<path fill=\"none\" stroke=\"#000000\" d=\"M127.0419,-22C137.1348,-22 149.9867,-22 161.6009,-22\"/>\n",
       "<polygon fill=\"#000000\" stroke=\"#000000\" points=\"161.8046,-25.5001 171.8045,-22 161.8045,-18.5001 161.8046,-25.5001\"/>\n",
       "<text text-anchor=\"middle\" x=\"149.5\" y=\"-25.8\" font-family=\"Times,serif\" font-size=\"14.00\" fill=\"#000000\">&#39;&#39; </text>\n",
       "</g>\n",
       "<!-- I&#45;&gt;I -->\n",
       "<g id=\"edge2\" class=\"edge\">\n",
       "<title>I&#45;&gt;I</title>\n",
       "<path fill=\"none\" stroke=\"#000000\" d=\"M102.6208,-39.0373C101.3189,-48.8579 103.4453,-58 109,-58 112.4717,-58 114.6042,-54.4289 115.3975,-49.3529\"/>\n",
       "<polygon fill=\"#000000\" stroke=\"#000000\" points=\"118.8971,-49.031 115.3792,-39.0373 111.8971,-49.0435 118.8971,-49.031\"/>\n",
       "<text text-anchor=\"middle\" x=\"109\" y=\"-76.8\" font-family=\"Times,serif\" font-size=\"14.00\" fill=\"#000000\">0 </text>\n",
       "<text text-anchor=\"middle\" x=\"109\" y=\"-61.8\" font-family=\"Times,serif\" font-size=\"14.00\" fill=\"#000000\"> 1 </text>\n",
       "</g>\n",
       "</g>\n",
       "</svg>\n"
      ],
      "text/plain": [
       "<graphviz.dot.Digraph at 0x10ecdd2b0>"
      ]
     },
     "execution_count": 18,
     "metadata": {},
     "output_type": "execute_result"
    }
   ],
   "source": [
    "# Let us see this NFA drawn out\n",
    "\n",
    "dotObj_nfa(NFA_3rdlast_1, FuseEdges=True)"
   ]
  },
  {
   "cell_type": "code",
   "execution_count": 19,
   "metadata": {
    "run_control": {
     "frozen": false,
     "read_only": false
    }
   },
   "outputs": [
    {
     "data": {
      "text/plain": [
       "{'S0'}"
      ]
     },
     "execution_count": 19,
     "metadata": {},
     "output_type": "execute_result"
    }
   ],
   "source": [
    "# Let's step the NFA on epsilon   \n",
    "step_nfa(NFA_3rdlast_1, \"I\", \"\")"
   ]
  },
  {
   "cell_type": "code",
   "execution_count": 20,
   "metadata": {
    "run_control": {
     "frozen": false,
     "read_only": false
    }
   },
   "outputs": [
    {
     "data": {
      "text/plain": [
       "{'I'}"
      ]
     },
     "execution_count": 20,
     "metadata": {},
     "output_type": "execute_result"
    }
   ],
   "source": [
    "# Let's step it on '0'  \n",
    "step_nfa(NFA_3rdlast_1, \"I\", \"0\")"
   ]
  },
  {
   "cell_type": "code",
   "execution_count": 21,
   "metadata": {
    "run_control": {
     "frozen": false,
     "read_only": false
    }
   },
   "outputs": [
    {
     "data": {
      "text/plain": [
       "{'I'}"
      ]
     },
     "execution_count": 21,
     "metadata": {},
     "output_type": "execute_result"
    }
   ],
   "source": [
    "# Step it on a \"1\" to see two next states. That shows nondeterminism!\n",
    "\n",
    "step_nfa(NFA_3rdlast_1, \"I\", \"1\")  "
   ]
  },
  {
   "cell_type": "code",
   "execution_count": 22,
   "metadata": {
    "run_control": {
     "frozen": false,
     "read_only": false
    }
   },
   "outputs": [
    {
     "data": {
      "text/plain": [
       "{'I', 'S0'}"
      ]
     },
     "execution_count": 22,
     "metadata": {},
     "output_type": "execute_result"
    }
   ],
   "source": [
    "# What is the Eclosure of the set of states {I} ?\n",
    "\n",
    "Eclosure(NFA_3rdlast_1, {\"I\"})"
   ]
  },
  {
   "cell_type": "code",
   "execution_count": 23,
   "metadata": {
    "run_control": {
     "frozen": false,
     "read_only": false
    }
   },
   "outputs": [
    {
     "name": "stdout",
     "output_type": "stream",
     "text": [
      "Help on function accepts_nfa in module jove.Def_NFA:\n",
      "\n",
      "accepts_nfa(N, s, chatty=False)\n",
      "    NFA acceptance.\n",
      "    Input : N : given NFA\n",
      "            s : given string\n",
      "            chatty : Boolean (prints accepting path,\n",
      "                     which is the state-sets encountered).\n",
      "\n"
     ]
    }
   ],
   "source": [
    "help(accepts_nfa)"
   ]
  },
  {
   "cell_type": "code",
   "execution_count": 24,
   "metadata": {
    "run_control": {
     "frozen": false,
     "read_only": false
    }
   },
   "outputs": [
    {
     "name": "stdout",
     "output_type": "stream",
     "text": [
      "States reached =  {'S0', 'I'}\n",
      "States reached =  {'S0', 'S1', 'I'}\n",
      "States reached =  {'S0', 'S2', 'I'}\n",
      "States reached =  {'F', 'S0', 'I'}\n",
      "States reached =  {'S0', 'S1', 'I'}\n",
      "States reached =  {'S0', 'S2', 'I'}\n",
      "States reached =  {'F', 'S0', 'I'}\n",
      "NFA accepts '0100100' by reaching {'I', 'S0', 'F'}\n"
     ]
    },
    {
     "data": {
      "text/plain": [
       "True"
      ]
     },
     "execution_count": 24,
     "metadata": {},
     "output_type": "execute_result"
    }
   ],
   "source": [
    "accepts_nfa(NFA_3rdlast_1, \"0100100\", chatty=True)"
   ]
  },
  {
   "cell_type": "markdown",
   "metadata": {
    "run_control": {
     "frozen": false,
     "read_only": false
    }
   },
   "source": [
    "# Let us run NFA interactively via widgets\n",
    "\n",
    "We have two NFA to play with, namely nfa_ends0101 and NFA_3rdlast_1\n"
   ]
  },
  {
   "cell_type": "code",
   "execution_count": 25,
   "metadata": {
    "run_control": {
     "frozen": false,
     "read_only": false
    }
   },
   "outputs": [],
   "source": [
    "import ipywidgets as wdg\n",
    "def run_nfa_slider(N, s, n):\n",
    "    \"\"\"Run NFA N from N[\"Q0\"] (which is a set..) on substring s[0:n]\n",
    "    \"\"\"\n",
    "    S = N[\"Q0\"] \n",
    "    if (n > len(s)):\n",
    "        n = len(s)\n",
    "    print(\"string = \", s[0:n])\n",
    "    run_nfa(N, S, s[0:n], True)\n",
    "    \n",
    "def run_nfa_int(N1, N2):\n",
    "    \"\"\"Run interactively from the given NFA .. from {q0} \n",
    "       on input string's substring\n",
    "       as picked by slider.\n",
    "    \"\"\"\n",
    "    inp = input(\"Please provide string: \")\n",
    "    wdg.interact(run_nfa_slider, N = {'N1': N1, 'N2': N2}, \n",
    "                 s = inp, n=(0,32))\n",
    "    \n",
    "def test_run_nfa_int(N1, N2):\n",
    "    \"\"\"Test the interactive run of NFA.\n",
    "    \"\"\"\n",
    "    run_nfa_int(N1, N2)\n",
    "\n",
    "#-- enable this later. test_run_nfa_int()"
   ]
  },
  {
   "cell_type": "markdown",
   "metadata": {
    "run_control": {
     "frozen": false,
     "read_only": false
    }
   },
   "source": [
    "## Once you run the command below, provide a string\n",
    "\n",
    "Provide a string of 0's and 1's. Then you can use the pull-down to pick the NFA\n",
    "to test, and the slider to incrementally consume more of the input string\n"
   ]
  },
  {
   "cell_type": "code",
   "execution_count": 26,
   "metadata": {
    "run_control": {
     "frozen": false,
     "read_only": false
    }
   },
   "outputs": [
    {
     "name": "stdout",
     "output_type": "stream",
     "text": [
      "Please provide string: 0101\n"
     ]
    },
    {
     "data": {
      "application/vnd.jupyter.widget-view+json": {
       "model_id": "c74a82765bbd4fdd8025266fb60ca6d3",
       "version_major": 2,
       "version_minor": 0
      },
      "text/plain": [
       "interactive(children=(Dropdown(description='N', options={'N1': {'Q': {'S01', 'F', 'S010', 'S0', 'I'}, 'Sigma':…"
      ]
     },
     "metadata": {},
     "output_type": "display_data"
    }
   ],
   "source": [
    "test_run_nfa_int(NFA_ends0101, NFA_3rdlast_1)"
   ]
  },
  {
   "cell_type": "markdown",
   "metadata": {
    "run_control": {
     "frozen": false,
     "read_only": false
    }
   },
   "source": [
    "# NFA to DFA conversion\n",
    "\n",
    "Let's do the NFA to DFA conversion on two NFA, one being 3rd-last is 1\n",
    "and another being fourth-last is 1. You'll see the state explosion\n"
   ]
  },
  {
   "cell_type": "code",
   "execution_count": 27,
   "metadata": {
    "run_control": {
     "frozen": false,
     "read_only": false
    }
   },
   "outputs": [],
   "source": [
    "# Here is the automd (markdown) for an NF whose third-last symbol is a 1\n",
    "\n",
    "NFA_4thlast_1 = md2mc('''\n",
    "NFA\n",
    "\n",
    "I : 0  | 1  -> I  !! Upon a 0 or a 1, continue to stay in state I\n",
    "\n",
    "I : ''      -> S0 !! Nondeterministically transition to state S0\n",
    "\n",
    "S0 : 1      -> S1 !! This is the key \"1\" (third-last being 1) seen\n",
    "\n",
    "S1 : 0 | 1  -> S2 !! One 0/1 takes the NFA to S2\n",
    "\n",
    "S2 : 0 | 1  -> S3 !! One more 0/1 takes the NFA to S3\n",
    "\n",
    "S3 : 0 | 1  -> F  !! Now we are at the final state\n",
    "\n",
    "''')"
   ]
  },
  {
   "cell_type": "code",
   "execution_count": 28,
   "metadata": {
    "run_control": {
     "frozen": false,
     "read_only": false
    }
   },
   "outputs": [
    {
     "data": {
      "image/svg+xml": [
       "<?xml version=\"1.0\" encoding=\"UTF-8\" standalone=\"no\"?>\n",
       "<!DOCTYPE svg PUBLIC \"-//W3C//DTD SVG 1.1//EN\"\n",
       " \"http://www.w3.org/Graphics/SVG/1.1/DTD/svg11.dtd\">\n",
       "<!-- Generated by graphviz version 2.40.1 (20161225.0304)\n",
       " -->\n",
       "<!-- Title: %3 Pages: 1 -->\n",
       "<svg width=\"824pt\" height=\"292pt\"\n",
       " viewBox=\"0.00 0.00 823.97 291.75\" xmlns=\"http://www.w3.org/2000/svg\" xmlns:xlink=\"http://www.w3.org/1999/xlink\">\n",
       "<g id=\"graph0\" class=\"graph\" transform=\"scale(1 1) rotate(0) translate(4 287.748)\">\n",
       "<title>%3</title>\n",
       "<polygon fill=\"#ffffff\" stroke=\"transparent\" points=\"-4,4 -4,-287.748 819.9677,-287.748 819.9677,4 -4,4\"/>\n",
       "<!-- EMPTY -->\n",
       "<g id=\"node1\" class=\"node\">\n",
       "<title>EMPTY</title>\n",
       "</g>\n",
       "<!-- St7 -->\n",
       "<g id=\"node3\" class=\"node\">\n",
       "<title>St7</title>\n",
       "<ellipse fill=\"none\" stroke=\"#000000\" cx=\"113.748\" cy=\"-22.748\" rx=\"22.9987\" ry=\"22.9987\"/>\n",
       "<text text-anchor=\"middle\" x=\"113.748\" y=\"-19.048\" font-family=\"Times,serif\" font-size=\"14.00\" fill=\"#000000\">St7</text>\n",
       "</g>\n",
       "<!-- EMPTY&#45;&gt;St7 -->\n",
       "<g id=\"edge1\" class=\"edge\">\n",
       "<title>EMPTY&#45;&gt;St7</title>\n",
       "<path fill=\"none\" stroke=\"#000000\" d=\"M54.4476,-22.748C62.7759,-22.748 72.0138,-22.748 80.671,-22.748\"/>\n",
       "<polygon fill=\"#000000\" stroke=\"#000000\" points=\"80.8425,-26.2481 90.8425,-22.748 80.8425,-19.2481 80.8425,-26.2481\"/>\n",
       "</g>\n",
       "<!-- St4 -->\n",
       "<g id=\"node2\" class=\"node\">\n",
       "<title>St4</title>\n",
       "<ellipse fill=\"none\" stroke=\"#000000\" cx=\"298.7399\" cy=\"-170.748\" rx=\"22.9987\" ry=\"22.9987\"/>\n",
       "<text text-anchor=\"middle\" x=\"298.7399\" y=\"-167.048\" font-family=\"Times,serif\" font-size=\"14.00\" fill=\"#000000\">St4</text>\n",
       "</g>\n",
       "<!-- St2 -->\n",
       "<g id=\"node6\" class=\"node\">\n",
       "<title>St2</title>\n",
       "<ellipse fill=\"none\" stroke=\"#000000\" cx=\"495.7318\" cy=\"-199.748\" rx=\"22.9609\" ry=\"22.9609\"/>\n",
       "<ellipse fill=\"none\" stroke=\"#000000\" cx=\"495.7318\" cy=\"-199.748\" rx=\"26.9983\" ry=\"26.9983\"/>\n",
       "<text text-anchor=\"middle\" x=\"495.7318\" y=\"-196.048\" font-family=\"Times,serif\" font-size=\"14.00\" fill=\"#000000\">St2</text>\n",
       "</g>\n",
       "<!-- St4&#45;&gt;St2 -->\n",
       "<g id=\"edge8\" class=\"edge\">\n",
       "<title>St4&#45;&gt;St2</title>\n",
       "<path fill=\"none\" stroke=\"#000000\" d=\"M307.947,-191.9615C318.8224,-214.0182 339.2136,-247.3016 368.4879,-261.748 389.8091,-272.2696 399.6456,-269.8903 421.9839,-261.748 440.77,-254.9004 458.0919,-240.9292 471.2209,-227.9801\"/>\n",
       "<polygon fill=\"#000000\" stroke=\"#000000\" points=\"473.993,-230.1493 478.4459,-220.5356 468.9697,-225.2741 473.993,-230.1493\"/>\n",
       "<text text-anchor=\"middle\" x=\"395.2359\" y=\"-272.548\" font-family=\"Times,serif\" font-size=\"14.00\" fill=\"#000000\">0 </text>\n",
       "</g>\n",
       "<!-- St0 -->\n",
       "<g id=\"node7\" class=\"node\">\n",
       "<title>St0</title>\n",
       "<ellipse fill=\"none\" stroke=\"#000000\" cx=\"395.2359\" cy=\"-192.748\" rx=\"22.9609\" ry=\"22.9609\"/>\n",
       "<ellipse fill=\"none\" stroke=\"#000000\" cx=\"395.2359\" cy=\"-192.748\" rx=\"26.9983\" ry=\"26.9983\"/>\n",
       "<text text-anchor=\"middle\" x=\"395.2359\" y=\"-189.048\" font-family=\"Times,serif\" font-size=\"14.00\" fill=\"#000000\">St0</text>\n",
       "</g>\n",
       "<!-- St4&#45;&gt;St0 -->\n",
       "<g id=\"edge9\" class=\"edge\">\n",
       "<title>St4&#45;&gt;St0</title>\n",
       "<path fill=\"none\" stroke=\"#000000\" d=\"M321.1206,-175.8505C332.367,-178.4146 346.2757,-181.5856 358.9955,-184.4856\"/>\n",
       "<polygon fill=\"#000000\" stroke=\"#000000\" points=\"358.3401,-187.9259 368.8679,-186.7364 359.8961,-181.101 358.3401,-187.9259\"/>\n",
       "<text text-anchor=\"middle\" x=\"344.9879\" y=\"-186.548\" font-family=\"Times,serif\" font-size=\"14.00\" fill=\"#000000\">1 </text>\n",
       "</g>\n",
       "<!-- St7&#45;&gt;St7 -->\n",
       "<g id=\"edge2\" class=\"edge\">\n",
       "<title>St7&#45;&gt;St7</title>\n",
       "<path fill=\"none\" stroke=\"#000000\" d=\"M106.3963,-44.5475C105.5943,-54.6603 108.0449,-63.496 113.748,-63.496 117.4015,-63.496 119.7203,-59.8698 120.7041,-54.6047\"/>\n",
       "<polygon fill=\"#000000\" stroke=\"#000000\" points=\"124.2039,-54.6774 121.0997,-44.5475 117.2093,-54.4022 124.2039,-54.6774\"/>\n",
       "<text text-anchor=\"middle\" x=\"113.748\" y=\"-67.296\" font-family=\"Times,serif\" font-size=\"14.00\" fill=\"#000000\">0 </text>\n",
       "</g>\n",
       "<!-- St5 -->\n",
       "<g id=\"node4\" class=\"node\">\n",
       "<title>St5</title>\n",
       "<ellipse fill=\"none\" stroke=\"#000000\" cx=\"206.2439\" cy=\"-81.748\" rx=\"22.9987\" ry=\"22.9987\"/>\n",
       "<text text-anchor=\"middle\" x=\"206.2439\" y=\"-78.048\" font-family=\"Times,serif\" font-size=\"14.00\" fill=\"#000000\">St5</text>\n",
       "</g>\n",
       "<!-- St7&#45;&gt;St5 -->\n",
       "<g id=\"edge3\" class=\"edge\">\n",
       "<title>St7&#45;&gt;St5</title>\n",
       "<path fill=\"none\" stroke=\"#000000\" d=\"M133.364,-35.2604C146.4508,-43.608 163.8535,-54.7085 178.3712,-63.9689\"/>\n",
       "<polygon fill=\"#000000\" stroke=\"#000000\" points=\"176.6603,-67.029 186.9734,-69.4559 180.4247,-61.1273 176.6603,-67.029\"/>\n",
       "<text text-anchor=\"middle\" x=\"159.996\" y=\"-58.548\" font-family=\"Times,serif\" font-size=\"14.00\" fill=\"#000000\">1 </text>\n",
       "</g>\n",
       "<!-- St5&#45;&gt;St4 -->\n",
       "<g id=\"edge5\" class=\"edge\">\n",
       "<title>St5&#45;&gt;St4</title>\n",
       "<path fill=\"none\" stroke=\"#000000\" d=\"M222.7804,-97.6594C237.2489,-111.581 258.4453,-131.9763 274.7731,-147.687\"/>\n",
       "<polygon fill=\"#000000\" stroke=\"#000000\" points=\"272.7139,-150.5628 282.3466,-154.9743 277.5675,-145.5186 272.7139,-150.5628\"/>\n",
       "<text text-anchor=\"middle\" x=\"252.4919\" y=\"-133.548\" font-family=\"Times,serif\" font-size=\"14.00\" fill=\"#000000\">1 </text>\n",
       "</g>\n",
       "<!-- St6 -->\n",
       "<g id=\"node5\" class=\"node\">\n",
       "<title>St6</title>\n",
       "<ellipse fill=\"none\" stroke=\"#000000\" cx=\"692.7238\" cy=\"-119.748\" rx=\"22.9987\" ry=\"22.9987\"/>\n",
       "<text text-anchor=\"middle\" x=\"692.7238\" y=\"-116.048\" font-family=\"Times,serif\" font-size=\"14.00\" fill=\"#000000\">St6</text>\n",
       "</g>\n",
       "<!-- St5&#45;&gt;St6 -->\n",
       "<g id=\"edge4\" class=\"edge\">\n",
       "<title>St5&#45;&gt;St6</title>\n",
       "<path fill=\"none\" stroke=\"#000000\" d=\"M228.5299,-87.0408C247.1767,-91.0053 274.5405,-95.748 298.7399,-95.748 298.7399,-95.748 298.7399,-95.748 596.2278,-95.748 618.6166,-95.748 643.0865,-101.9076 661.7828,-107.9858\"/>\n",
       "<polygon fill=\"#000000\" stroke=\"#000000\" points=\"660.6637,-111.3021 671.2583,-111.2189 662.9243,-104.6771 660.6637,-111.3021\"/>\n",
       "<text text-anchor=\"middle\" x=\"445.4839\" y=\"-99.548\" font-family=\"Times,serif\" font-size=\"14.00\" fill=\"#000000\">0 </text>\n",
       "</g>\n",
       "<!-- St3 -->\n",
       "<g id=\"node8\" class=\"node\">\n",
       "<title>St3</title>\n",
       "<ellipse fill=\"none\" stroke=\"#000000\" cx=\"789.2197\" cy=\"-90.748\" rx=\"22.9609\" ry=\"22.9609\"/>\n",
       "<ellipse fill=\"none\" stroke=\"#000000\" cx=\"789.2197\" cy=\"-90.748\" rx=\"26.9983\" ry=\"26.9983\"/>\n",
       "<text text-anchor=\"middle\" x=\"789.2197\" y=\"-87.048\" font-family=\"Times,serif\" font-size=\"14.00\" fill=\"#000000\">St3</text>\n",
       "</g>\n",
       "<!-- St6&#45;&gt;St3 -->\n",
       "<g id=\"edge6\" class=\"edge\">\n",
       "<title>St6&#45;&gt;St3</title>\n",
       "<path fill=\"none\" stroke=\"#000000\" d=\"M714.6202,-113.1674C726.1411,-109.705 740.5537,-105.3736 753.631,-101.4435\"/>\n",
       "<polygon fill=\"#000000\" stroke=\"#000000\" points=\"754.7316,-104.7674 763.3011,-98.5373 752.7169,-98.0636 754.7316,-104.7674\"/>\n",
       "<text text-anchor=\"middle\" x=\"738.9717\" y=\"-111.548\" font-family=\"Times,serif\" font-size=\"14.00\" fill=\"#000000\">0 </text>\n",
       "</g>\n",
       "<!-- St1 -->\n",
       "<g id=\"node9\" class=\"node\">\n",
       "<title>St1</title>\n",
       "<ellipse fill=\"none\" stroke=\"#000000\" cx=\"596.2278\" cy=\"-150.748\" rx=\"22.9609\" ry=\"22.9609\"/>\n",
       "<ellipse fill=\"none\" stroke=\"#000000\" cx=\"596.2278\" cy=\"-150.748\" rx=\"26.9983\" ry=\"26.9983\"/>\n",
       "<text text-anchor=\"middle\" x=\"596.2278\" y=\"-147.048\" font-family=\"Times,serif\" font-size=\"14.00\" fill=\"#000000\">St1</text>\n",
       "</g>\n",
       "<!-- St6&#45;&gt;St1 -->\n",
       "<g id=\"edge7\" class=\"edge\">\n",
       "<title>St6&#45;&gt;St1</title>\n",
       "<path fill=\"none\" stroke=\"#000000\" d=\"M670.0005,-122.8862C660.8529,-124.4718 650.2853,-126.7162 640.9758,-129.748 637.1381,-130.9978 633.2002,-132.4972 629.3284,-134.1122\"/>\n",
       "<polygon fill=\"#000000\" stroke=\"#000000\" points=\"627.6505,-131.0278 619.9351,-138.2889 630.4946,-137.4241 627.6505,-131.0278\"/>\n",
       "<text text-anchor=\"middle\" x=\"646.4758\" y=\"-133.548\" font-family=\"Times,serif\" font-size=\"14.00\" fill=\"#000000\">1 </text>\n",
       "</g>\n",
       "<!-- St2&#45;&gt;St3 -->\n",
       "<g id=\"edge14\" class=\"edge\">\n",
       "<title>St2&#45;&gt;St3</title>\n",
       "<path fill=\"none\" stroke=\"#000000\" d=\"M522.8789,-199.0122C548.874,-197.8315 589.0447,-194.7564 622.9758,-186.748 665.7544,-176.6514 677.4684,-173.8318 715.4717,-151.748 732.2847,-141.9779 749.138,-128.3923 762.481,-116.5216\"/>\n",
       "<polygon fill=\"#000000\" stroke=\"#000000\" points=\"764.86,-119.0891 769.9047,-109.7723 760.1511,-113.9097 764.86,-119.0891\"/>\n",
       "<text text-anchor=\"middle\" x=\"646.4758\" y=\"-186.548\" font-family=\"Times,serif\" font-size=\"14.00\" fill=\"#000000\">0 </text>\n",
       "</g>\n",
       "<!-- St2&#45;&gt;St1 -->\n",
       "<g id=\"edge15\" class=\"edge\">\n",
       "<title>St2&#45;&gt;St1</title>\n",
       "<path fill=\"none\" stroke=\"#000000\" d=\"M519.7986,-187.1635C526.4706,-183.7333 533.734,-180.0532 540.4798,-176.748 547.4686,-173.3237 554.996,-169.7421 562.189,-166.3702\"/>\n",
       "<polygon fill=\"#000000\" stroke=\"#000000\" points=\"564.1211,-169.3314 571.7084,-161.9366 561.1657,-162.9859 564.1211,-169.3314\"/>\n",
       "<text text-anchor=\"middle\" x=\"545.9798\" y=\"-180.548\" font-family=\"Times,serif\" font-size=\"14.00\" fill=\"#000000\">1 </text>\n",
       "</g>\n",
       "<!-- St0&#45;&gt;St2 -->\n",
       "<g id=\"edge16\" class=\"edge\">\n",
       "<title>St0&#45;&gt;St2</title>\n",
       "<path fill=\"none\" stroke=\"#000000\" d=\"M422.1669,-194.6239C433.3191,-195.4007 446.4402,-196.3146 458.4897,-197.1539\"/>\n",
       "<polygon fill=\"#000000\" stroke=\"#000000\" points=\"458.5074,-200.6635 468.7264,-197.8669 458.9938,-193.6804 458.5074,-200.6635\"/>\n",
       "<text text-anchor=\"middle\" x=\"445.4839\" y=\"-200.548\" font-family=\"Times,serif\" font-size=\"14.00\" fill=\"#000000\">0 </text>\n",
       "</g>\n",
       "<!-- St0&#45;&gt;St0 -->\n",
       "<g id=\"edge17\" class=\"edge\">\n",
       "<title>St0&#45;&gt;St0</title>\n",
       "<path fill=\"none\" stroke=\"#000000\" d=\"M385.9433,-218.049C385.3024,-228.574 388.3999,-237.496 395.2359,-237.496 399.722,-237.496 402.598,-233.6536 403.8641,-228.0374\"/>\n",
       "<polygon fill=\"#000000\" stroke=\"#000000\" points=\"407.357,-228.2592 404.5285,-218.049 400.3725,-227.7946 407.357,-228.2592\"/>\n",
       "<text text-anchor=\"middle\" x=\"395.2359\" y=\"-241.296\" font-family=\"Times,serif\" font-size=\"14.00\" fill=\"#000000\">1 </text>\n",
       "</g>\n",
       "<!-- St3&#45;&gt;St7 -->\n",
       "<g id=\"edge10\" class=\"edge\">\n",
       "<title>St3&#45;&gt;St7</title>\n",
       "<path fill=\"none\" stroke=\"#000000\" d=\"M775.7897,-67.3493C759.5786,-42.4944 729.8161,-6.748 692.7238,-6.748 206.2439,-6.748 206.2439,-6.748 206.2439,-6.748 185.9455,-6.748 163.5032,-10.5355 145.8084,-14.4251\"/>\n",
       "<polygon fill=\"#000000\" stroke=\"#000000\" points=\"144.9429,-11.0328 135.9906,-16.6991 146.5225,-17.8523 144.9429,-11.0328\"/>\n",
       "<text text-anchor=\"middle\" x=\"445.4839\" y=\"-10.548\" font-family=\"Times,serif\" font-size=\"14.00\" fill=\"#000000\">0 </text>\n",
       "</g>\n",
       "<!-- St3&#45;&gt;St5 -->\n",
       "<g id=\"edge11\" class=\"edge\">\n",
       "<title>St3&#45;&gt;St5</title>\n",
       "<path fill=\"none\" stroke=\"#000000\" d=\"M766.4158,-76.1649C747.4592,-65.4487 719.3711,-52.748 692.7238,-52.748 298.7399,-52.748 298.7399,-52.748 298.7399,-52.748 277.0146,-52.748 253.6794,-60.1224 235.8825,-67.4338\"/>\n",
       "<polygon fill=\"#000000\" stroke=\"#000000\" points=\"234.4007,-64.2613 226.6105,-71.442 237.1783,-70.6866 234.4007,-64.2613\"/>\n",
       "<text text-anchor=\"middle\" x=\"495.7318\" y=\"-56.548\" font-family=\"Times,serif\" font-size=\"14.00\" fill=\"#000000\">1 </text>\n",
       "</g>\n",
       "<!-- St1&#45;&gt;St4 -->\n",
       "<g id=\"edge13\" class=\"edge\">\n",
       "<title>St1&#45;&gt;St4</title>\n",
       "<path fill=\"none\" stroke=\"#000000\" d=\"M569.4786,-149.971C526.8174,-149.0643 440.8057,-148.5986 368.4879,-156.748 356.053,-158.1493 342.5355,-160.6343 330.7403,-163.1258\"/>\n",
       "<polygon fill=\"#000000\" stroke=\"#000000\" points=\"329.9048,-159.7258 320.8886,-165.2899 331.4067,-166.5628 329.9048,-159.7258\"/>\n",
       "<text text-anchor=\"middle\" x=\"445.4839\" y=\"-155.548\" font-family=\"Times,serif\" font-size=\"14.00\" fill=\"#000000\">1 </text>\n",
       "</g>\n",
       "<!-- St1&#45;&gt;St6 -->\n",
       "<g id=\"edge12\" class=\"edge\">\n",
       "<title>St1&#45;&gt;St6</title>\n",
       "<path fill=\"none\" stroke=\"#000000\" d=\"M623.121,-150.2567C632.4512,-149.4617 642.8549,-147.8595 651.9758,-144.748 656.4262,-143.2298 660.9026,-141.1591 665.1754,-138.8548\"/>\n",
       "<polygon fill=\"#000000\" stroke=\"#000000\" points=\"667.294,-141.6679 674.1152,-133.561 663.7273,-135.6447 667.294,-141.6679\"/>\n",
       "<text text-anchor=\"middle\" x=\"646.4758\" y=\"-151.548\" font-family=\"Times,serif\" font-size=\"14.00\" fill=\"#000000\">0 </text>\n",
       "</g>\n",
       "</g>\n",
       "</svg>\n"
      ],
      "text/plain": [
       "<graphviz.dot.Digraph at 0x10ecdd940>"
      ]
     },
     "execution_count": 28,
     "metadata": {},
     "output_type": "execute_result"
    }
   ],
   "source": [
    "dotObj_dfa(nfa2dfa(NFA_3rdlast_1), FuseEdges=True)"
   ]
  },
  {
   "cell_type": "code",
   "execution_count": 29,
   "metadata": {
    "run_control": {
     "frozen": false,
     "read_only": false
    }
   },
   "outputs": [
    {
     "data": {
      "image/svg+xml": [
       "<?xml version=\"1.0\" encoding=\"UTF-8\" standalone=\"no\"?>\n",
       "<!DOCTYPE svg PUBLIC \"-//W3C//DTD SVG 1.1//EN\"\n",
       " \"http://www.w3.org/Graphics/SVG/1.1/DTD/svg11.dtd\">\n",
       "<!-- Generated by graphviz version 2.40.1 (20161225.0304)\n",
       " -->\n",
       "<!-- Title: %3 Pages: 1 -->\n",
       "<svg width=\"1651pt\" height=\"592pt\"\n",
       " viewBox=\"0.00 0.00 1650.53 592.30\" xmlns=\"http://www.w3.org/2000/svg\" xmlns:xlink=\"http://www.w3.org/1999/xlink\">\n",
       "<g id=\"graph0\" class=\"graph\" transform=\"scale(1 1) rotate(0) translate(4 588.2976)\">\n",
       "<title>%3</title>\n",
       "<polygon fill=\"#ffffff\" stroke=\"transparent\" points=\"-4,4 -4,-588.2976 1646.5306,-588.2976 1646.5306,4 -4,4\"/>\n",
       "<!-- EMPTY -->\n",
       "<g id=\"node1\" class=\"node\">\n",
       "<title>EMPTY</title>\n",
       "</g>\n",
       "<!-- St15 -->\n",
       "<g id=\"node3\" class=\"node\">\n",
       "<title>St15</title>\n",
       "<ellipse fill=\"none\" stroke=\"#000000\" cx=\"118.2976\" cy=\"-27.2976\" rx=\"27.0966\" ry=\"27.0966\"/>\n",
       "<text text-anchor=\"middle\" x=\"118.2976\" y=\"-23.5976\" font-family=\"Times,serif\" font-size=\"14.00\" fill=\"#000000\">St15</text>\n",
       "</g>\n",
       "<!-- EMPTY&#45;&gt;St15 -->\n",
       "<g id=\"edge1\" class=\"edge\">\n",
       "<title>EMPTY&#45;&gt;St15</title>\n",
       "<path fill=\"none\" stroke=\"#000000\" d=\"M54.3923,-27.2976C62.6976,-27.2976 71.9683,-27.2976 80.8159,-27.2976\"/>\n",
       "<polygon fill=\"#000000\" stroke=\"#000000\" points=\"80.9247,-30.7977 90.9246,-27.2976 80.9246,-23.7977 80.9247,-30.7977\"/>\n",
       "</g>\n",
       "<!-- St10 -->\n",
       "<g id=\"node2\" class=\"node\">\n",
       "<title>St10</title>\n",
       "<ellipse fill=\"none\" stroke=\"#000000\" cx=\"818.1661\" cy=\"-206.2976\" rx=\"27.0966\" ry=\"27.0966\"/>\n",
       "<text text-anchor=\"middle\" x=\"818.1661\" y=\"-202.5976\" font-family=\"Times,serif\" font-size=\"14.00\" fill=\"#000000\">St10</text>\n",
       "</g>\n",
       "<!-- St1 -->\n",
       "<g id=\"node14\" class=\"node\">\n",
       "<title>St1</title>\n",
       "<ellipse fill=\"none\" stroke=\"#000000\" cx=\"919.2116\" cy=\"-405.2976\" rx=\"22.9609\" ry=\"22.9609\"/>\n",
       "<ellipse fill=\"none\" stroke=\"#000000\" cx=\"919.2116\" cy=\"-405.2976\" rx=\"26.9983\" ry=\"26.9983\"/>\n",
       "<text text-anchor=\"middle\" x=\"919.2116\" y=\"-401.5976\" font-family=\"Times,serif\" font-size=\"14.00\" fill=\"#000000\">St1</text>\n",
       "</g>\n",
       "<!-- St10&#45;&gt;St1 -->\n",
       "<g id=\"edge13\" class=\"edge\">\n",
       "<title>St10&#45;&gt;St1</title>\n",
       "<path fill=\"none\" stroke=\"#000000\" d=\"M830.5563,-230.6989C848.6079,-266.2498 882.1869,-332.3807 902.4373,-372.262\"/>\n",
       "<polygon fill=\"#000000\" stroke=\"#000000\" points=\"899.3875,-373.9865 907.0358,-381.3183 905.629,-370.8172 899.3875,-373.9865\"/>\n",
       "<text text-anchor=\"middle\" x=\"868.9637\" y=\"-315.0976\" font-family=\"Times,serif\" font-size=\"14.00\" fill=\"#000000\">1 </text>\n",
       "</g>\n",
       "<!-- St5 -->\n",
       "<g id=\"node17\" class=\"node\">\n",
       "<title>St5</title>\n",
       "<ellipse fill=\"none\" stroke=\"#000000\" cx=\"1413.6915\" cy=\"-212.2976\" rx=\"22.9609\" ry=\"22.9609\"/>\n",
       "<ellipse fill=\"none\" stroke=\"#000000\" cx=\"1413.6915\" cy=\"-212.2976\" rx=\"26.9983\" ry=\"26.9983\"/>\n",
       "<text text-anchor=\"middle\" x=\"1413.6915\" y=\"-208.5976\" font-family=\"Times,serif\" font-size=\"14.00\" fill=\"#000000\">St5</text>\n",
       "</g>\n",
       "<!-- St10&#45;&gt;St5 -->\n",
       "<g id=\"edge12\" class=\"edge\">\n",
       "<title>St10&#45;&gt;St5</title>\n",
       "<path fill=\"none\" stroke=\"#000000\" d=\"M844.0002,-197.4761C864.2194,-191.3555 893.1789,-184.2976 919.2116,-184.2976 919.2116,-184.2976 919.2116,-184.2976 1313.1955,-184.2976 1335.8677,-184.2976 1360.3963,-190.9925 1379.5448,-197.8349\"/>\n",
       "<polygon fill=\"#000000\" stroke=\"#000000\" points=\"1378.4372,-201.1576 1389.0295,-201.3919 1380.8952,-194.6033 1378.4372,-201.1576\"/>\n",
       "<text text-anchor=\"middle\" x=\"1112.2036\" y=\"-188.0976\" font-family=\"Times,serif\" font-size=\"14.00\" fill=\"#000000\">0 </text>\n",
       "</g>\n",
       "<!-- St15&#45;&gt;St15 -->\n",
       "<g id=\"edge2\" class=\"edge\">\n",
       "<title>St15&#45;&gt;St15</title>\n",
       "<path fill=\"none\" stroke=\"#000000\" d=\"M110.0979,-53.3649C109.6347,-63.8199 112.3679,-72.5952 118.2976,-72.5952 122.0963,-72.5952 124.5832,-68.9938 125.7582,-63.6565\"/>\n",
       "<polygon fill=\"#000000\" stroke=\"#000000\" points=\"129.2719,-63.5899 126.4972,-53.3649 122.2899,-63.0885 129.2719,-63.5899\"/>\n",
       "<text text-anchor=\"middle\" x=\"118.2976\" y=\"-76.3952\" font-family=\"Times,serif\" font-size=\"14.00\" fill=\"#000000\">0 </text>\n",
       "</g>\n",
       "<!-- St11 -->\n",
       "<g id=\"node6\" class=\"node\">\n",
       "<title>St11</title>\n",
       "<ellipse fill=\"none\" stroke=\"#000000\" cx=\"219.8927\" cy=\"-180.2976\" rx=\"27.0966\" ry=\"27.0966\"/>\n",
       "<text text-anchor=\"middle\" x=\"219.8927\" y=\"-176.5976\" font-family=\"Times,serif\" font-size=\"14.00\" fill=\"#000000\">St11</text>\n",
       "</g>\n",
       "<!-- St15&#45;&gt;St11 -->\n",
       "<g id=\"edge3\" class=\"edge\">\n",
       "<title>St15&#45;&gt;St11</title>\n",
       "<path fill=\"none\" stroke=\"#000000\" d=\"M133.5074,-50.2032C150.8646,-76.3427 179.362,-119.2592 198.8444,-148.5993\"/>\n",
       "<polygon fill=\"#000000\" stroke=\"#000000\" points=\"196.1314,-150.8408 204.5789,-157.2353 201.9629,-146.9685 196.1314,-150.8408\"/>\n",
       "<text text-anchor=\"middle\" x=\"169.0952\" y=\"-113.0976\" font-family=\"Times,serif\" font-size=\"14.00\" fill=\"#000000\">1 </text>\n",
       "</g>\n",
       "<!-- St9 -->\n",
       "<g id=\"node4\" class=\"node\">\n",
       "<title>St9</title>\n",
       "<ellipse fill=\"none\" stroke=\"#000000\" cx=\"316.9383\" cy=\"-278.2976\" rx=\"22.9987\" ry=\"22.9987\"/>\n",
       "<text text-anchor=\"middle\" x=\"316.9383\" y=\"-274.5976\" font-family=\"Times,serif\" font-size=\"14.00\" fill=\"#000000\">St9</text>\n",
       "</g>\n",
       "<!-- St12 -->\n",
       "<g id=\"node5\" class=\"node\">\n",
       "<title>St12</title>\n",
       "<ellipse fill=\"none\" stroke=\"#000000\" cx=\"413.9839\" cy=\"-405.2976\" rx=\"27.0966\" ry=\"27.0966\"/>\n",
       "<text text-anchor=\"middle\" x=\"413.9839\" y=\"-401.5976\" font-family=\"Times,serif\" font-size=\"14.00\" fill=\"#000000\">St12</text>\n",
       "</g>\n",
       "<!-- St9&#45;&gt;St12 -->\n",
       "<g id=\"edge8\" class=\"edge\">\n",
       "<title>St9&#45;&gt;St12</title>\n",
       "<path fill=\"none\" stroke=\"#000000\" d=\"M324.6885,-299.9892C331.6029,-317.4404 342.9138,-341.9859 357.6863,-360.2976 364.7711,-369.0799 373.8505,-377.2588 382.64,-384.1697\"/>\n",
       "<polygon fill=\"#000000\" stroke=\"#000000\" points=\"380.8081,-387.1714 390.9037,-390.3854 385.0159,-381.5772 380.8081,-387.1714\"/>\n",
       "<text text-anchor=\"middle\" x=\"363.1863\" y=\"-375.0976\" font-family=\"Times,serif\" font-size=\"14.00\" fill=\"#000000\">0 </text>\n",
       "</g>\n",
       "<!-- St8 -->\n",
       "<g id=\"node9\" class=\"node\">\n",
       "<title>St8</title>\n",
       "<ellipse fill=\"none\" stroke=\"#000000\" cx=\"1015.7076\" cy=\"-375.2976\" rx=\"22.9987\" ry=\"22.9987\"/>\n",
       "<text text-anchor=\"middle\" x=\"1015.7076\" y=\"-371.5976\" font-family=\"Times,serif\" font-size=\"14.00\" fill=\"#000000\">St8</text>\n",
       "</g>\n",
       "<!-- St9&#45;&gt;St8 -->\n",
       "<g id=\"edge9\" class=\"edge\">\n",
       "<title>St9&#45;&gt;St8</title>\n",
       "<path fill=\"none\" stroke=\"#000000\" d=\"M330.8984,-296.5203C348.0596,-316.6628 379.2161,-346.2976 413.9839,-346.2976 413.9839,-346.2976 413.9839,-346.2976 919.2116,-346.2976 942.1951,-346.2976 967.0044,-353.9363 985.7115,-361.3729\"/>\n",
       "<polygon fill=\"#000000\" stroke=\"#000000\" points=\"984.584,-364.6949 995.1605,-365.3174 987.2806,-358.2352 984.584,-364.6949\"/>\n",
       "<text text-anchor=\"middle\" x=\"665.7734\" y=\"-350.0976\" font-family=\"Times,serif\" font-size=\"14.00\" fill=\"#000000\">1 </text>\n",
       "</g>\n",
       "<!-- St6 -->\n",
       "<g id=\"node11\" class=\"node\">\n",
       "<title>St6</title>\n",
       "<ellipse fill=\"none\" stroke=\"#000000\" cx=\"515.0294\" cy=\"-246.2976\" rx=\"22.9609\" ry=\"22.9609\"/>\n",
       "<ellipse fill=\"none\" stroke=\"#000000\" cx=\"515.0294\" cy=\"-246.2976\" rx=\"26.9983\" ry=\"26.9983\"/>\n",
       "<text text-anchor=\"middle\" x=\"515.0294\" y=\"-242.5976\" font-family=\"Times,serif\" font-size=\"14.00\" fill=\"#000000\">St6</text>\n",
       "</g>\n",
       "<!-- St12&#45;&gt;St6 -->\n",
       "<g id=\"edge14\" class=\"edge\">\n",
       "<title>St12&#45;&gt;St6</title>\n",
       "<path fill=\"none\" stroke=\"#000000\" d=\"M428.6767,-382.1776C446.2127,-354.5839 475.6137,-308.3201 495.1649,-277.5553\"/>\n",
       "<polygon fill=\"#000000\" stroke=\"#000000\" points=\"498.2363,-279.2478 500.646,-268.9306 492.3283,-275.4933 498.2363,-279.2478\"/>\n",
       "<text text-anchor=\"middle\" x=\"464.7814\" y=\"-334.0976\" font-family=\"Times,serif\" font-size=\"14.00\" fill=\"#000000\">0 </text>\n",
       "</g>\n",
       "<!-- St2 -->\n",
       "<g id=\"node16\" class=\"node\">\n",
       "<title>St2</title>\n",
       "<ellipse fill=\"none\" stroke=\"#000000\" cx=\"1313.1955\" cy=\"-465.2976\" rx=\"22.9609\" ry=\"22.9609\"/>\n",
       "<ellipse fill=\"none\" stroke=\"#000000\" cx=\"1313.1955\" cy=\"-465.2976\" rx=\"26.9983\" ry=\"26.9983\"/>\n",
       "<text text-anchor=\"middle\" x=\"1313.1955\" y=\"-461.5976\" font-family=\"Times,serif\" font-size=\"14.00\" fill=\"#000000\">St2</text>\n",
       "</g>\n",
       "<!-- St12&#45;&gt;St2 -->\n",
       "<g id=\"edge15\" class=\"edge\">\n",
       "<title>St12&#45;&gt;St2</title>\n",
       "<path fill=\"none\" stroke=\"#000000\" d=\"M422.9221,-431.1932C436.7541,-465.9284 466.8865,-523.2976 515.0294,-523.2976 515.0294,-523.2976 515.0294,-523.2976 1212.6995,-523.2976 1240.5492,-523.2976 1267.628,-506.3823 1286.6463,-490.8216\"/>\n",
       "<polygon fill=\"#000000\" stroke=\"#000000\" points=\"1288.9588,-493.4493 1294.2822,-484.2889 1284.4082,-488.1302 1288.9588,-493.4493\"/>\n",
       "<text text-anchor=\"middle\" x=\"868.9637\" y=\"-527.0976\" font-family=\"Times,serif\" font-size=\"14.00\" fill=\"#000000\">1 </text>\n",
       "</g>\n",
       "<!-- St11&#45;&gt;St9 -->\n",
       "<g id=\"edge5\" class=\"edge\">\n",
       "<title>St11&#45;&gt;St9</title>\n",
       "<path fill=\"none\" stroke=\"#000000\" d=\"M239.5314,-200.1293C255.1888,-215.9408 277.155,-238.123 293.6896,-254.8202\"/>\n",
       "<polygon fill=\"#000000\" stroke=\"#000000\" points=\"291.3388,-257.4205 300.8622,-262.0633 296.3127,-252.495 291.3388,-257.4205\"/>\n",
       "<text text-anchor=\"middle\" x=\"270.6903\" y=\"-238.0976\" font-family=\"Times,serif\" font-size=\"14.00\" fill=\"#000000\">1 </text>\n",
       "</g>\n",
       "<!-- St13 -->\n",
       "<g id=\"node7\" class=\"node\">\n",
       "<title>St13</title>\n",
       "<ellipse fill=\"none\" stroke=\"#000000\" cx=\"716.5709\" cy=\"-151.2976\" rx=\"27.0966\" ry=\"27.0966\"/>\n",
       "<text text-anchor=\"middle\" x=\"716.5709\" y=\"-147.5976\" font-family=\"Times,serif\" font-size=\"14.00\" fill=\"#000000\">St13</text>\n",
       "</g>\n",
       "<!-- St11&#45;&gt;St13 -->\n",
       "<g id=\"edge4\" class=\"edge\">\n",
       "<title>St11&#45;&gt;St13</title>\n",
       "<path fill=\"none\" stroke=\"#000000\" d=\"M245.9242,-171.5134C265.2786,-165.7588 292.4601,-159.2976 316.9383,-159.2976 316.9383,-159.2976 316.9383,-159.2976 615.5254,-159.2976 636.6094,-159.2976 660.0911,-157.5453 679.1079,-155.6808\"/>\n",
       "<polygon fill=\"#000000\" stroke=\"#000000\" points=\"679.5814,-159.1507 689.1699,-154.6439 678.8638,-152.1876 679.5814,-159.1507\"/>\n",
       "<text text-anchor=\"middle\" x=\"464.7814\" y=\"-163.0976\" font-family=\"Times,serif\" font-size=\"14.00\" fill=\"#000000\">0 </text>\n",
       "</g>\n",
       "<!-- St13&#45;&gt;St10 -->\n",
       "<g id=\"edge7\" class=\"edge\">\n",
       "<title>St13&#45;&gt;St10</title>\n",
       "<path fill=\"none\" stroke=\"#000000\" d=\"M740.6476,-164.3318C753.8363,-171.4717 770.3846,-180.4304 784.8011,-188.235\"/>\n",
       "<polygon fill=\"#000000\" stroke=\"#000000\" points=\"783.4499,-191.4834 793.9102,-193.1663 786.7824,-185.3276 783.4499,-191.4834\"/>\n",
       "<text text-anchor=\"middle\" x=\"767.3685\" y=\"-184.0976\" font-family=\"Times,serif\" font-size=\"14.00\" fill=\"#000000\">1 </text>\n",
       "</g>\n",
       "<!-- St14 -->\n",
       "<g id=\"node8\" class=\"node\">\n",
       "<title>St14</title>\n",
       "<ellipse fill=\"none\" stroke=\"#000000\" cx=\"1514.737\" cy=\"-123.2976\" rx=\"27.0966\" ry=\"27.0966\"/>\n",
       "<text text-anchor=\"middle\" x=\"1514.737\" y=\"-119.5976\" font-family=\"Times,serif\" font-size=\"14.00\" fill=\"#000000\">St14</text>\n",
       "</g>\n",
       "<!-- St13&#45;&gt;St14 -->\n",
       "<g id=\"edge6\" class=\"edge\">\n",
       "<title>St13&#45;&gt;St14</title>\n",
       "<path fill=\"none\" stroke=\"#000000\" d=\"M743.082,-143.9763C763.4507,-138.9929 792.3717,-133.2976 818.1661,-133.2976 818.1661,-133.2976 818.1661,-133.2976 1413.6915,-133.2976 1434.8124,-133.2976 1458.2965,-131.1072 1477.3053,-128.7767\"/>\n",
       "<polygon fill=\"#000000\" stroke=\"#000000\" points=\"1477.8914,-132.2302 1487.362,-127.4805 1476.9966,-125.2876 1477.8914,-132.2302\"/>\n",
       "<text text-anchor=\"middle\" x=\"1112.2036\" y=\"-137.0976\" font-family=\"Times,serif\" font-size=\"14.00\" fill=\"#000000\">0 </text>\n",
       "</g>\n",
       "<!-- St3 -->\n",
       "<g id=\"node10\" class=\"node\">\n",
       "<title>St3</title>\n",
       "<ellipse fill=\"none\" stroke=\"#000000\" cx=\"615.5254\" cy=\"-104.2976\" rx=\"22.9609\" ry=\"22.9609\"/>\n",
       "<ellipse fill=\"none\" stroke=\"#000000\" cx=\"615.5254\" cy=\"-104.2976\" rx=\"26.9983\" ry=\"26.9983\"/>\n",
       "<text text-anchor=\"middle\" x=\"615.5254\" y=\"-100.5976\" font-family=\"Times,serif\" font-size=\"14.00\" fill=\"#000000\">St3</text>\n",
       "</g>\n",
       "<!-- St14&#45;&gt;St3 -->\n",
       "<g id=\"edge11\" class=\"edge\">\n",
       "<title>St14&#45;&gt;St3</title>\n",
       "<path fill=\"none\" stroke=\"#000000\" d=\"M1490.6753,-109.482C1470.7189,-99.3298 1441.2531,-87.2976 1413.6915,-87.2976 716.5709,-87.2976 716.5709,-87.2976 716.5709,-87.2976 694.7062,-87.2976 670.5445,-91.2163 651.3315,-95.2908\"/>\n",
       "<polygon fill=\"#000000\" stroke=\"#000000\" points=\"650.4944,-91.8914 641.494,-97.481 652.0156,-98.7242 650.4944,-91.8914\"/>\n",
       "<text text-anchor=\"middle\" x=\"1061.9556\" y=\"-91.0976\" font-family=\"Times,serif\" font-size=\"14.00\" fill=\"#000000\">1 </text>\n",
       "</g>\n",
       "<!-- St7 -->\n",
       "<g id=\"node15\" class=\"node\">\n",
       "<title>St7</title>\n",
       "<ellipse fill=\"none\" stroke=\"#000000\" cx=\"1615.7826\" cy=\"-91.2976\" rx=\"22.9609\" ry=\"22.9609\"/>\n",
       "<ellipse fill=\"none\" stroke=\"#000000\" cx=\"1615.7826\" cy=\"-91.2976\" rx=\"26.9983\" ry=\"26.9983\"/>\n",
       "<text text-anchor=\"middle\" x=\"1615.7826\" y=\"-87.5976\" font-family=\"Times,serif\" font-size=\"14.00\" fill=\"#000000\">St7</text>\n",
       "</g>\n",
       "<!-- St14&#45;&gt;St7 -->\n",
       "<g id=\"edge10\" class=\"edge\">\n",
       "<title>St14&#45;&gt;St7</title>\n",
       "<path fill=\"none\" stroke=\"#000000\" d=\"M1541.0218,-114.9735C1553.0439,-111.1662 1567.4657,-106.599 1580.4215,-102.496\"/>\n",
       "<polygon fill=\"#000000\" stroke=\"#000000\" points=\"1581.5024,-105.8251 1589.9791,-99.4693 1579.389,-99.1518 1581.5024,-105.8251\"/>\n",
       "<text text-anchor=\"middle\" x=\"1565.5346\" y=\"-112.0976\" font-family=\"Times,serif\" font-size=\"14.00\" fill=\"#000000\">0 </text>\n",
       "</g>\n",
       "<!-- St4 -->\n",
       "<g id=\"node12\" class=\"node\">\n",
       "<title>St4</title>\n",
       "<ellipse fill=\"none\" stroke=\"#000000\" cx=\"1212.6995\" cy=\"-348.2976\" rx=\"22.9609\" ry=\"22.9609\"/>\n",
       "<ellipse fill=\"none\" stroke=\"#000000\" cx=\"1212.6995\" cy=\"-348.2976\" rx=\"26.9983\" ry=\"26.9983\"/>\n",
       "<text text-anchor=\"middle\" x=\"1212.6995\" y=\"-344.5976\" font-family=\"Times,serif\" font-size=\"14.00\" fill=\"#000000\">St4</text>\n",
       "</g>\n",
       "<!-- St8&#45;&gt;St4 -->\n",
       "<g id=\"edge16\" class=\"edge\">\n",
       "<title>St8&#45;&gt;St4</title>\n",
       "<path fill=\"none\" stroke=\"#000000\" d=\"M1033.3779,-360.9257C1046.7718,-351.0056 1066.1165,-338.6708 1085.4556,-333.2976 1115.7284,-324.8865 1151.3324,-330.3238 1177.1684,-336.8881\"/>\n",
       "<polygon fill=\"#000000\" stroke=\"#000000\" points=\"1176.3377,-340.2892 1186.9054,-339.532 1178.172,-333.5338 1176.3377,-340.2892\"/>\n",
       "<text text-anchor=\"middle\" x=\"1112.2036\" y=\"-337.0976\" font-family=\"Times,serif\" font-size=\"14.00\" fill=\"#000000\">0 </text>\n",
       "</g>\n",
       "<!-- St0 -->\n",
       "<g id=\"node13\" class=\"node\">\n",
       "<title>St0</title>\n",
       "<ellipse fill=\"none\" stroke=\"#000000\" cx=\"1112.2036\" cy=\"-384.2976\" rx=\"22.9609\" ry=\"22.9609\"/>\n",
       "<ellipse fill=\"none\" stroke=\"#000000\" cx=\"1112.2036\" cy=\"-384.2976\" rx=\"26.9983\" ry=\"26.9983\"/>\n",
       "<text text-anchor=\"middle\" x=\"1112.2036\" y=\"-380.5976\" font-family=\"Times,serif\" font-size=\"14.00\" fill=\"#000000\">St0</text>\n",
       "</g>\n",
       "<!-- St8&#45;&gt;St0 -->\n",
       "<g id=\"edge17\" class=\"edge\">\n",
       "<title>St8&#45;&gt;St0</title>\n",
       "<path fill=\"none\" stroke=\"#000000\" d=\"M1038.5758,-377.4305C1049.5482,-378.4538 1062.9687,-379.7055 1075.3323,-380.8587\"/>\n",
       "<polygon fill=\"#000000\" stroke=\"#000000\" points=\"1075.1103,-384.3531 1085.3922,-381.7969 1075.7604,-377.3833 1075.1103,-384.3531\"/>\n",
       "<text text-anchor=\"middle\" x=\"1061.9556\" y=\"-383.0976\" font-family=\"Times,serif\" font-size=\"14.00\" fill=\"#000000\">1 </text>\n",
       "</g>\n",
       "<!-- St3&#45;&gt;St9 -->\n",
       "<g id=\"edge21\" class=\"edge\">\n",
       "<title>St3&#45;&gt;St9</title>\n",
       "<path fill=\"none\" stroke=\"#000000\" d=\"M588.7511,-101.8838C556.2718,-100.1487 500.7268,-101.0922 459.2814,-122.2976 402.4125,-151.3943 357.0177,-213.1468 333.8211,-249.6256\"/>\n",
       "<polygon fill=\"#000000\" stroke=\"#000000\" points=\"330.7222,-247.981 328.4085,-258.3201 336.6648,-251.6804 330.7222,-247.981\"/>\n",
       "<text text-anchor=\"middle\" x=\"464.7814\" y=\"-126.0976\" font-family=\"Times,serif\" font-size=\"14.00\" fill=\"#000000\">1 </text>\n",
       "</g>\n",
       "<!-- St3&#45;&gt;St13 -->\n",
       "<g id=\"edge20\" class=\"edge\">\n",
       "<title>St3&#45;&gt;St13</title>\n",
       "<path fill=\"none\" stroke=\"#000000\" d=\"M639.9857,-115.675C652.704,-121.5907 668.4565,-128.9178 682.3621,-135.3858\"/>\n",
       "<polygon fill=\"#000000\" stroke=\"#000000\" points=\"681.0906,-138.6544 691.6339,-139.6984 684.0429,-132.3074 681.0906,-138.6544\"/>\n",
       "<text text-anchor=\"middle\" x=\"665.7734\" y=\"-133.0976\" font-family=\"Times,serif\" font-size=\"14.00\" fill=\"#000000\">0 </text>\n",
       "</g>\n",
       "<!-- St6&#45;&gt;St3 -->\n",
       "<g id=\"edge27\" class=\"edge\">\n",
       "<title>St6&#45;&gt;St3</title>\n",
       "<path fill=\"none\" stroke=\"#000000\" d=\"M530.5117,-224.4213C547.5028,-200.413 574.8964,-161.706 593.9798,-134.7413\"/>\n",
       "<polygon fill=\"#000000\" stroke=\"#000000\" points=\"596.94,-136.6172 599.86,-126.4327 591.2262,-132.5734 596.94,-136.6172\"/>\n",
       "<text text-anchor=\"middle\" x=\"565.2774\" y=\"-183.0976\" font-family=\"Times,serif\" font-size=\"14.00\" fill=\"#000000\">1 </text>\n",
       "</g>\n",
       "<!-- St6&#45;&gt;St7 -->\n",
       "<g id=\"edge26\" class=\"edge\">\n",
       "<title>St6&#45;&gt;St7</title>\n",
       "<path fill=\"none\" stroke=\"#000000\" d=\"M518.4871,-219.5775C525.0074,-180.4019 542.8615,-107.7614 588.7774,-68.2976 615.508,-45.3232 630.5264,-49.2976 665.7734,-49.2976 665.7734,-49.2976 665.7734,-49.2976 1514.737,-49.2976 1539.6656,-49.2976 1565.5865,-60.3323 1584.933,-71.0895\"/>\n",
       "<polygon fill=\"#000000\" stroke=\"#000000\" points=\"1583.1968,-74.1287 1593.6001,-76.1346 1586.7184,-68.079 1583.1968,-74.1287\"/>\n",
       "<text text-anchor=\"middle\" x=\"1061.9556\" y=\"-53.0976\" font-family=\"Times,serif\" font-size=\"14.00\" fill=\"#000000\">0 </text>\n",
       "</g>\n",
       "<!-- St4&#45;&gt;St6 -->\n",
       "<g id=\"edge30\" class=\"edge\">\n",
       "<title>St4&#45;&gt;St6</title>\n",
       "<path fill=\"none\" stroke=\"#000000\" d=\"M1195.9338,-326.9149C1177.7431,-306.3292 1146.6489,-278.2976 1112.2036,-278.2976 615.5254,-278.2976 615.5254,-278.2976 615.5254,-278.2976 592.3427,-278.2976 567.5098,-270.4705 548.3294,-262.5583\"/>\n",
       "<polygon fill=\"#000000\" stroke=\"#000000\" points=\"549.6948,-259.3356 539.1271,-258.5781 546.9159,-265.7604 549.6948,-259.3356\"/>\n",
       "<text text-anchor=\"middle\" x=\"868.9637\" y=\"-282.0976\" font-family=\"Times,serif\" font-size=\"14.00\" fill=\"#000000\">0 </text>\n",
       "</g>\n",
       "<!-- St4&#45;&gt;St2 -->\n",
       "<g id=\"edge31\" class=\"edge\">\n",
       "<title>St4&#45;&gt;St2</title>\n",
       "<path fill=\"none\" stroke=\"#000000\" d=\"M1230.2046,-368.6774C1246.4607,-387.6032 1270.8151,-415.9572 1288.9415,-437.0605\"/>\n",
       "<polygon fill=\"#000000\" stroke=\"#000000\" points=\"1286.383,-439.4534 1295.5538,-444.7587 1291.6931,-434.8923 1286.383,-439.4534\"/>\n",
       "<text text-anchor=\"middle\" x=\"1262.9475\" y=\"-414.0976\" font-family=\"Times,serif\" font-size=\"14.00\" fill=\"#000000\">1 </text>\n",
       "</g>\n",
       "<!-- St0&#45;&gt;St4 -->\n",
       "<g id=\"edge32\" class=\"edge\">\n",
       "<title>St0&#45;&gt;St4</title>\n",
       "<path fill=\"none\" stroke=\"#000000\" d=\"M1137.563,-375.2133C1149.7029,-370.8644 1164.4359,-365.5867 1177.6285,-360.8608\"/>\n",
       "<polygon fill=\"#000000\" stroke=\"#000000\" points=\"1179.1144,-364.0464 1187.3483,-357.379 1176.7537,-357.4565 1179.1144,-364.0464\"/>\n",
       "<text text-anchor=\"middle\" x=\"1162.4516\" y=\"-371.0976\" font-family=\"Times,serif\" font-size=\"14.00\" fill=\"#000000\">0 </text>\n",
       "</g>\n",
       "<!-- St0&#45;&gt;St0 -->\n",
       "<g id=\"edge33\" class=\"edge\">\n",
       "<title>St0&#45;&gt;St0</title>\n",
       "<path fill=\"none\" stroke=\"#000000\" d=\"M1102.911,-409.5986C1102.2701,-420.1236 1105.3676,-429.0456 1112.2036,-429.0456 1116.6897,-429.0456 1119.5657,-425.2032 1120.8318,-419.587\"/>\n",
       "<polygon fill=\"#000000\" stroke=\"#000000\" points=\"1124.3247,-419.8088 1121.4962,-409.5986 1117.3402,-419.3442 1124.3247,-419.8088\"/>\n",
       "<text text-anchor=\"middle\" x=\"1112.2036\" y=\"-432.8456\" font-family=\"Times,serif\" font-size=\"14.00\" fill=\"#000000\">1 </text>\n",
       "</g>\n",
       "<!-- St1&#45;&gt;St12 -->\n",
       "<g id=\"edge24\" class=\"edge\">\n",
       "<title>St1&#45;&gt;St12</title>\n",
       "<path fill=\"none\" stroke=\"#000000\" d=\"M892.2039,-406.9476C871.8586,-408.0495 843.2717,-409.2976 818.1661,-409.2976 515.0294,-409.2976 515.0294,-409.2976 515.0294,-409.2976 493.9947,-409.2976 470.5161,-408.4214 451.4887,-407.4892\"/>\n",
       "<polygon fill=\"#000000\" stroke=\"#000000\" points=\"451.5864,-403.9897 441.4197,-406.9708 451.2264,-410.9804 451.5864,-403.9897\"/>\n",
       "<text text-anchor=\"middle\" x=\"665.7734\" y=\"-413.0976\" font-family=\"Times,serif\" font-size=\"14.00\" fill=\"#000000\">0 </text>\n",
       "</g>\n",
       "<!-- St1&#45;&gt;St8 -->\n",
       "<g id=\"edge25\" class=\"edge\">\n",
       "<title>St1&#45;&gt;St8</title>\n",
       "<path fill=\"none\" stroke=\"#000000\" d=\"M944.8175,-397.3369C956.8891,-393.5839 971.4064,-389.0706 984.1513,-385.1082\"/>\n",
       "<polygon fill=\"#000000\" stroke=\"#000000\" points=\"985.4019,-388.3848 993.912,-382.0737 983.3237,-381.7003 985.4019,-388.3848\"/>\n",
       "<text text-anchor=\"middle\" x=\"969.4596\" y=\"-394.0976\" font-family=\"Times,serif\" font-size=\"14.00\" fill=\"#000000\">1 </text>\n",
       "</g>\n",
       "<!-- St7&#45;&gt;St15 -->\n",
       "<g id=\"edge18\" class=\"edge\">\n",
       "<title>St7&#45;&gt;St15</title>\n",
       "<path fill=\"none\" stroke=\"#000000\" d=\"M1600.8693,-68.5868C1583.3397,-44.9353 1551.8797,-11.2976 1514.737,-11.2976 219.8927,-11.2976 219.8927,-11.2976 219.8927,-11.2976 198.0979,-11.2976 173.9898,-14.9351 154.7294,-18.7413\"/>\n",
       "<polygon fill=\"#000000\" stroke=\"#000000\" points=\"153.9365,-15.3312 144.856,-20.7898 155.3585,-22.1853 153.9365,-15.3312\"/>\n",
       "<text text-anchor=\"middle\" x=\"868.9637\" y=\"-15.0976\" font-family=\"Times,serif\" font-size=\"14.00\" fill=\"#000000\">0 </text>\n",
       "</g>\n",
       "<!-- St7&#45;&gt;St11 -->\n",
       "<g id=\"edge19\" class=\"edge\">\n",
       "<title>St7&#45;&gt;St11</title>\n",
       "<path fill=\"none\" stroke=\"#000000\" d=\"M1613.0077,-118.0212C1602.2021,-218.6853 1561.229,-569.2976 1514.737,-569.2976 316.9383,-569.2976 316.9383,-569.2976 316.9383,-569.2976 244.9118,-569.2976 225.917,-315.0609 221.2827,-217.6544\"/>\n",
       "<polygon fill=\"#000000\" stroke=\"#000000\" points=\"224.7786,-217.4834 220.8314,-207.6513 217.7857,-217.7989 224.7786,-217.4834\"/>\n",
       "<text text-anchor=\"middle\" x=\"919.2116\" y=\"-573.0976\" font-family=\"Times,serif\" font-size=\"14.00\" fill=\"#000000\">1 </text>\n",
       "</g>\n",
       "<!-- St2&#45;&gt;St1 -->\n",
       "<g id=\"edge29\" class=\"edge\">\n",
       "<title>St2&#45;&gt;St1</title>\n",
       "<path fill=\"none\" stroke=\"#000000\" d=\"M1286.9064,-471.3987C1266.7241,-475.5515 1238.1019,-480.2976 1212.6995,-480.2976 1015.7076,-480.2976 1015.7076,-480.2976 1015.7076,-480.2976 985.1754,-480.2976 958.4789,-456.6006 940.9528,-435.8469\"/>\n",
       "<polygon fill=\"#000000\" stroke=\"#000000\" points=\"943.4697,-433.392 934.4707,-427.8001 938.0184,-437.7833 943.4697,-433.392\"/>\n",
       "<text text-anchor=\"middle\" x=\"1112.2036\" y=\"-484.0976\" font-family=\"Times,serif\" font-size=\"14.00\" fill=\"#000000\">1 </text>\n",
       "</g>\n",
       "<!-- St2&#45;&gt;St5 -->\n",
       "<g id=\"edge28\" class=\"edge\">\n",
       "<title>St2&#45;&gt;St5</title>\n",
       "<path fill=\"none\" stroke=\"#000000\" d=\"M1323.1988,-440.114C1341.2956,-394.5553 1379.4907,-298.3985 1399.9947,-246.7793\"/>\n",
       "<polygon fill=\"#000000\" stroke=\"#000000\" points=\"1403.2897,-247.965 1403.7286,-237.3793 1396.7841,-245.3809 1403.2897,-247.965\"/>\n",
       "<text text-anchor=\"middle\" x=\"1363.4435\" y=\"-350.0976\" font-family=\"Times,serif\" font-size=\"14.00\" fill=\"#000000\">0 </text>\n",
       "</g>\n",
       "<!-- St5&#45;&gt;St10 -->\n",
       "<g id=\"edge23\" class=\"edge\">\n",
       "<title>St5&#45;&gt;St10</title>\n",
       "<path fill=\"none\" stroke=\"#000000\" d=\"M1388.4469,-221.3878C1368.3392,-227.8167 1339.327,-235.2976 1313.1955,-235.2976 919.2116,-235.2976 919.2116,-235.2976 919.2116,-235.2976 896.5207,-235.2976 872.037,-228.4576 852.8537,-221.4213\"/>\n",
       "<polygon fill=\"#000000\" stroke=\"#000000\" points=\"853.9326,-218.0863 843.3428,-217.7591 851.4172,-224.6188 853.9326,-218.0863\"/>\n",
       "<text text-anchor=\"middle\" x=\"1112.2036\" y=\"-239.0976\" font-family=\"Times,serif\" font-size=\"14.00\" fill=\"#000000\">1 </text>\n",
       "</g>\n",
       "<!-- St5&#45;&gt;St14 -->\n",
       "<g id=\"edge22\" class=\"edge\">\n",
       "<title>St5&#45;&gt;St14</title>\n",
       "<path fill=\"none\" stroke=\"#000000\" d=\"M1434.1395,-194.2871C1449.1061,-181.1047 1469.6087,-163.0462 1486.1894,-148.442\"/>\n",
       "<polygon fill=\"#000000\" stroke=\"#000000\" points=\"1488.7817,-150.8229 1493.9725,-141.5867 1484.1549,-145.5699 1488.7817,-150.8229\"/>\n",
       "<text text-anchor=\"middle\" x=\"1463.9394\" y=\"-175.0976\" font-family=\"Times,serif\" font-size=\"14.00\" fill=\"#000000\">0 </text>\n",
       "</g>\n",
       "</g>\n",
       "</svg>\n"
      ],
      "text/plain": [
       "<graphviz.dot.Digraph at 0x10ecdda90>"
      ]
     },
     "execution_count": 29,
     "metadata": {},
     "output_type": "execute_result"
    }
   ],
   "source": [
    "dotObj_dfa(nfa2dfa(NFA_4thlast_1), FuseEdges=True)"
   ]
  },
  {
   "cell_type": "code",
   "execution_count": null,
   "metadata": {
    "run_control": {
     "frozen": false,
     "read_only": false
    }
   },
   "outputs": [],
   "source": []
  },
  {
   "cell_type": "markdown",
   "metadata": {
    "run_control": {
     "frozen": false,
     "read_only": false
    }
   },
   "source": [
    "# Brzozowski's DFA minimization\n",
    "\n",
    "We will practice Brzozowski minimization on \"blimp\", a bloated DFA\n",
    "\n",
    "\n",
    "\n",
    "Picking up from our earlier discussions, to minimize a DFA using Brzozowski's algorithm, here are the steps:\n",
    "\n",
    "* Make sure that the given DFA has no unreachable states\n",
    "* Reverse the DFA\n",
    "* Determinize it\n",
    "* Reverse that DFA\n",
    "* Determinize it\n",
    "\n",
    "Thus we need to write a routine to reverse a DFA. We already have a way to ensure that a DFA does not have unreachable states (in another Jupyter notebook; we won't bother to include it here, and trust the user to always provide such DFA only).\n",
    "\n",
    "We can observe that if a DFA has black-hole states, then those states won't matter in the reversed machine (reversed NFA). Thus, we can work with __partial__ dfa (i.e., DFA that are partially consistent)."
   ]
  },
  {
   "cell_type": "code",
   "execution_count": 30,
   "metadata": {
    "run_control": {
     "frozen": false,
     "read_only": false
    }
   },
   "outputs": [],
   "source": [
    "blimp = md2mc('''\n",
    "DFA \n",
    "I1 : a -> F2\n",
    "I1 : b -> F3\n",
    "F2 : a -> S8\n",
    "F2 : b -> S5\n",
    "F3 : a -> S7\n",
    "F3 : b -> S4\n",
    "S4 : a | b -> F6\n",
    "S5 : a | b -> F6\n",
    "F6 : a | b -> F6\n",
    "S7 : a | b -> F6\n",
    "S8 : a -> F6\n",
    "S8 : b -> F9\n",
    "F9 : a -> F9\n",
    "F9 : b -> F6\n",
    "''')"
   ]
  },
  {
   "cell_type": "code",
   "execution_count": 31,
   "metadata": {
    "run_control": {
     "frozen": false,
     "read_only": false
    }
   },
   "outputs": [
    {
     "data": {
      "image/svg+xml": [
       "<?xml version=\"1.0\" encoding=\"UTF-8\" standalone=\"no\"?>\n",
       "<!DOCTYPE svg PUBLIC \"-//W3C//DTD SVG 1.1//EN\"\n",
       " \"http://www.w3.org/Graphics/SVG/1.1/DTD/svg11.dtd\">\n",
       "<!-- Generated by graphviz version 2.40.1 (20161225.0304)\n",
       " -->\n",
       "<!-- Title: %3 Pages: 1 -->\n",
       "<svg width=\"548pt\" height=\"322pt\"\n",
       " viewBox=\"0.00 0.00 547.88 322.30\" xmlns=\"http://www.w3.org/2000/svg\" xmlns:xlink=\"http://www.w3.org/1999/xlink\">\n",
       "<g id=\"graph0\" class=\"graph\" transform=\"scale(1 1) rotate(0) translate(4 318.2964)\">\n",
       "<title>%3</title>\n",
       "<polygon fill=\"#ffffff\" stroke=\"transparent\" points=\"-4,4 -4,-318.2964 543.8789,-318.2964 543.8789,4 -4,4\"/>\n",
       "<!-- EMPTY -->\n",
       "<g id=\"node1\" class=\"node\">\n",
       "<title>EMPTY</title>\n",
       "</g>\n",
       "<!-- I1 -->\n",
       "<g id=\"node5\" class=\"node\">\n",
       "<title>I1</title>\n",
       "<ellipse fill=\"none\" stroke=\"#000000\" cx=\"109.1984\" cy=\"-94.1482\" rx=\"18.399\" ry=\"18.399\"/>\n",
       "<text text-anchor=\"middle\" x=\"109.1984\" y=\"-90.4482\" font-family=\"Times,serif\" font-size=\"14.00\" fill=\"#000000\">I1</text>\n",
       "</g>\n",
       "<!-- EMPTY&#45;&gt;I1 -->\n",
       "<g id=\"edge1\" class=\"edge\">\n",
       "<title>EMPTY&#45;&gt;I1</title>\n",
       "<path fill=\"none\" stroke=\"#000000\" d=\"M54.3709,-94.1482C62.7773,-94.1482 72.0494,-94.1482 80.5395,-94.1482\"/>\n",
       "<polygon fill=\"#000000\" stroke=\"#000000\" points=\"80.7515,-97.6483 90.7515,-94.1482 80.7514,-90.6483 80.7515,-97.6483\"/>\n",
       "</g>\n",
       "<!-- S8 -->\n",
       "<g id=\"node2\" class=\"node\">\n",
       "<title>S8</title>\n",
       "<ellipse fill=\"none\" stroke=\"#000000\" cx=\"292.8414\" cy=\"-200.1482\" rx=\"20.2975\" ry=\"20.2975\"/>\n",
       "<text text-anchor=\"middle\" x=\"292.8414\" y=\"-196.4482\" font-family=\"Times,serif\" font-size=\"14.00\" fill=\"#000000\">S8</text>\n",
       "</g>\n",
       "<!-- F9 -->\n",
       "<g id=\"node7\" class=\"node\">\n",
       "<title>F9</title>\n",
       "<ellipse fill=\"none\" stroke=\"#000000\" cx=\"417.4343\" cy=\"-257.1482\" rx=\"20.2726\" ry=\"20.2726\"/>\n",
       "<ellipse fill=\"none\" stroke=\"#000000\" cx=\"417.4343\" cy=\"-257.1482\" rx=\"24.2973\" ry=\"24.2973\"/>\n",
       "<text text-anchor=\"middle\" x=\"417.4343\" y=\"-253.4482\" font-family=\"Times,serif\" font-size=\"14.00\" fill=\"#000000\">F9</text>\n",
       "</g>\n",
       "<!-- S8&#45;&gt;F9 -->\n",
       "<g id=\"edge13\" class=\"edge\">\n",
       "<title>S8&#45;&gt;F9</title>\n",
       "<path fill=\"none\" stroke=\"#000000\" d=\"M311.2255,-208.5588C330.8584,-217.5406 362.3306,-231.9388 385.9283,-242.7345\"/>\n",
       "<polygon fill=\"#000000\" stroke=\"#000000\" points=\"384.6324,-245.9905 395.182,-246.968 387.5445,-239.625 384.6324,-245.9905\"/>\n",
       "<text text-anchor=\"middle\" x=\"355.1378\" y=\"-239.9482\" font-family=\"Times,serif\" font-size=\"14.00\" fill=\"#000000\">b </text>\n",
       "</g>\n",
       "<!-- F6 -->\n",
       "<g id=\"node8\" class=\"node\">\n",
       "<title>F6</title>\n",
       "<ellipse fill=\"none\" stroke=\"#000000\" cx=\"515.7307\" cy=\"-134.1482\" rx=\"20.2726\" ry=\"20.2726\"/>\n",
       "<ellipse fill=\"none\" stroke=\"#000000\" cx=\"515.7307\" cy=\"-134.1482\" rx=\"24.2973\" ry=\"24.2973\"/>\n",
       "<text text-anchor=\"middle\" x=\"515.7307\" y=\"-130.4482\" font-family=\"Times,serif\" font-size=\"14.00\" fill=\"#000000\">F6</text>\n",
       "</g>\n",
       "<!-- S8&#45;&gt;F6 -->\n",
       "<g id=\"edge12\" class=\"edge\">\n",
       "<title>S8&#45;&gt;F6</title>\n",
       "<path fill=\"none\" stroke=\"#000000\" d=\"M312.9387,-197.2526C341.8716,-192.7652 396.7154,-183.0626 441.5825,-168.1482 456.2895,-163.2594 471.9727,-156.337 485.1099,-150.0131\"/>\n",
       "<polygon fill=\"#000000\" stroke=\"#000000\" points=\"486.7485,-153.1077 494.1754,-145.5518 483.6576,-146.827 486.7485,-153.1077\"/>\n",
       "<text text-anchor=\"middle\" x=\"417.4343\" y=\"-184.9482\" font-family=\"Times,serif\" font-size=\"14.00\" fill=\"#000000\">a </text>\n",
       "</g>\n",
       "<!-- S4 -->\n",
       "<g id=\"node3\" class=\"node\">\n",
       "<title>S4</title>\n",
       "<ellipse fill=\"none\" stroke=\"#000000\" cx=\"417.4343\" cy=\"-78.1482\" rx=\"20.2975\" ry=\"20.2975\"/>\n",
       "<text text-anchor=\"middle\" x=\"417.4343\" y=\"-74.4482\" font-family=\"Times,serif\" font-size=\"14.00\" fill=\"#000000\">S4</text>\n",
       "</g>\n",
       "<!-- S4&#45;&gt;F6 -->\n",
       "<g id=\"edge8\" class=\"edge\">\n",
       "<title>S4&#45;&gt;F6</title>\n",
       "<path fill=\"none\" stroke=\"#000000\" d=\"M437.6802,-79.5563C448.8399,-81.0283 462.6131,-84.0308 473.5825,-90.1482 481.2852,-94.4439 488.4412,-100.6085 494.5897,-106.9692\"/>\n",
       "<polygon fill=\"#000000\" stroke=\"#000000\" points=\"492.0196,-109.3455 501.317,-114.4258 497.217,-104.6564 492.0196,-109.3455\"/>\n",
       "<text text-anchor=\"middle\" x=\"466.5825\" y=\"-108.9482\" font-family=\"Times,serif\" font-size=\"14.00\" fill=\"#000000\">b </text>\n",
       "<text text-anchor=\"middle\" x=\"466.5825\" y=\"-93.9482\" font-family=\"Times,serif\" font-size=\"14.00\" fill=\"#000000\"> a </text>\n",
       "</g>\n",
       "<!-- S7 -->\n",
       "<g id=\"node4\" class=\"node\">\n",
       "<title>S7</title>\n",
       "<ellipse fill=\"none\" stroke=\"#000000\" cx=\"417.4343\" cy=\"-20.1482\" rx=\"20.2975\" ry=\"20.2975\"/>\n",
       "<text text-anchor=\"middle\" x=\"417.4343\" y=\"-16.4482\" font-family=\"Times,serif\" font-size=\"14.00\" fill=\"#000000\">S7</text>\n",
       "</g>\n",
       "<!-- S7&#45;&gt;F6 -->\n",
       "<g id=\"edge11\" class=\"edge\">\n",
       "<title>S7&#45;&gt;F6</title>\n",
       "<path fill=\"none\" stroke=\"#000000\" d=\"M436.4727,-27.2474C448.3179,-32.4261 463.2158,-40.4167 473.5825,-51.1482 487.3802,-65.4316 497.6432,-85.1267 504.5858,-101.7471\"/>\n",
       "<polygon fill=\"#000000\" stroke=\"#000000\" points=\"501.3579,-103.1024 508.2913,-111.1135 507.867,-100.5272 501.3579,-103.1024\"/>\n",
       "<text text-anchor=\"middle\" x=\"466.5825\" y=\"-69.9482\" font-family=\"Times,serif\" font-size=\"14.00\" fill=\"#000000\">b </text>\n",
       "<text text-anchor=\"middle\" x=\"466.5825\" y=\"-54.9482\" font-family=\"Times,serif\" font-size=\"14.00\" fill=\"#000000\"> a </text>\n",
       "</g>\n",
       "<!-- F2 -->\n",
       "<g id=\"node9\" class=\"node\">\n",
       "<title>F2</title>\n",
       "<ellipse fill=\"none\" stroke=\"#000000\" cx=\"197.545\" cy=\"-135.1482\" rx=\"20.2726\" ry=\"20.2726\"/>\n",
       "<ellipse fill=\"none\" stroke=\"#000000\" cx=\"197.545\" cy=\"-135.1482\" rx=\"24.2973\" ry=\"24.2973\"/>\n",
       "<text text-anchor=\"middle\" x=\"197.545\" y=\"-131.4482\" font-family=\"Times,serif\" font-size=\"14.00\" fill=\"#000000\">F2</text>\n",
       "</g>\n",
       "<!-- I1&#45;&gt;F2 -->\n",
       "<g id=\"edge2\" class=\"edge\">\n",
       "<title>I1&#45;&gt;F2</title>\n",
       "<path fill=\"none\" stroke=\"#000000\" d=\"M125.8157,-101.86C137.1871,-107.1372 152.6149,-114.297 166.2491,-120.6244\"/>\n",
       "<polygon fill=\"#000000\" stroke=\"#000000\" points=\"164.7856,-123.8037 175.3298,-124.8386 167.7324,-117.4541 164.7856,-123.8037\"/>\n",
       "<text text-anchor=\"middle\" x=\"150.3968\" y=\"-117.9482\" font-family=\"Times,serif\" font-size=\"14.00\" fill=\"#000000\">a </text>\n",
       "</g>\n",
       "<!-- F3 -->\n",
       "<g id=\"node10\" class=\"node\">\n",
       "<title>F3</title>\n",
       "<ellipse fill=\"none\" stroke=\"#000000\" cx=\"292.8414\" cy=\"-78.1482\" rx=\"20.2726\" ry=\"20.2726\"/>\n",
       "<ellipse fill=\"none\" stroke=\"#000000\" cx=\"292.8414\" cy=\"-78.1482\" rx=\"24.2973\" ry=\"24.2973\"/>\n",
       "<text text-anchor=\"middle\" x=\"292.8414\" y=\"-74.4482\" font-family=\"Times,serif\" font-size=\"14.00\" fill=\"#000000\">F3</text>\n",
       "</g>\n",
       "<!-- I1&#45;&gt;F3 -->\n",
       "<g id=\"edge3\" class=\"edge\">\n",
       "<title>I1&#45;&gt;F3</title>\n",
       "<path fill=\"none\" stroke=\"#000000\" d=\"M127.4457,-91.9945C140.2854,-90.5193 157.8784,-88.5785 173.3968,-87.1482 202.0781,-84.5047 234.6876,-82.0872 258.5793,-80.425\"/>\n",
       "<polygon fill=\"#000000\" stroke=\"#000000\" points=\"258.8358,-83.9157 268.5723,-79.7384 258.3558,-76.9322 258.8358,-83.9157\"/>\n",
       "<text text-anchor=\"middle\" x=\"197.545\" y=\"-90.9482\" font-family=\"Times,serif\" font-size=\"14.00\" fill=\"#000000\">b </text>\n",
       "</g>\n",
       "<!-- S5 -->\n",
       "<g id=\"node6\" class=\"node\">\n",
       "<title>S5</title>\n",
       "<ellipse fill=\"none\" stroke=\"#000000\" cx=\"355.1378\" cy=\"-134.1482\" rx=\"20.2975\" ry=\"20.2975\"/>\n",
       "<text text-anchor=\"middle\" x=\"355.1378\" y=\"-130.4482\" font-family=\"Times,serif\" font-size=\"14.00\" fill=\"#000000\">S5</text>\n",
       "</g>\n",
       "<!-- S5&#45;&gt;F6 -->\n",
       "<g id=\"edge9\" class=\"edge\">\n",
       "<title>S5&#45;&gt;F6</title>\n",
       "<path fill=\"none\" stroke=\"#000000\" d=\"M375.477,-134.1482C402.0172,-134.1482 448.8609,-134.1482 481.0577,-134.1482\"/>\n",
       "<polygon fill=\"#000000\" stroke=\"#000000\" points=\"481.3647,-137.6483 491.3646,-134.1482 481.3646,-130.6483 481.3647,-137.6483\"/>\n",
       "<text text-anchor=\"middle\" x=\"417.4343\" y=\"-152.9482\" font-family=\"Times,serif\" font-size=\"14.00\" fill=\"#000000\">b </text>\n",
       "<text text-anchor=\"middle\" x=\"417.4343\" y=\"-137.9482\" font-family=\"Times,serif\" font-size=\"14.00\" fill=\"#000000\"> a </text>\n",
       "</g>\n",
       "<!-- F9&#45;&gt;F9 -->\n",
       "<g id=\"edge14\" class=\"edge\">\n",
       "<title>F9&#45;&gt;F9</title>\n",
       "<path fill=\"none\" stroke=\"#000000\" d=\"M408.6122,-279.6969C407.6498,-290.1571 410.5905,-299.2964 417.4343,-299.2964 421.9255,-299.2964 424.7358,-295.3604 425.8651,-289.6982\"/>\n",
       "<polygon fill=\"#000000\" stroke=\"#000000\" points=\"429.3627,-289.826 426.2563,-279.6969 422.3681,-289.5524 429.3627,-289.826\"/>\n",
       "<text text-anchor=\"middle\" x=\"417.4343\" y=\"-303.0964\" font-family=\"Times,serif\" font-size=\"14.00\" fill=\"#000000\">a </text>\n",
       "</g>\n",
       "<!-- F9&#45;&gt;F6 -->\n",
       "<g id=\"edge15\" class=\"edge\">\n",
       "<title>F9&#45;&gt;F6</title>\n",
       "<path fill=\"none\" stroke=\"#000000\" d=\"M438.1754,-244.4732C449.6271,-236.7396 463.5243,-226.0638 473.5825,-214.1482 485.6579,-199.8428 495.629,-181.5059 502.8361,-165.9974\"/>\n",
       "<polygon fill=\"#000000\" stroke=\"#000000\" points=\"506.076,-167.3258 506.9604,-156.768 499.6851,-164.4699 506.076,-167.3258\"/>\n",
       "<text text-anchor=\"middle\" x=\"466.5825\" y=\"-230.9482\" font-family=\"Times,serif\" font-size=\"14.00\" fill=\"#000000\">b </text>\n",
       "</g>\n",
       "<!-- F6&#45;&gt;F6 -->\n",
       "<g id=\"edge10\" class=\"edge\">\n",
       "<title>F6&#45;&gt;F6</title>\n",
       "<path fill=\"none\" stroke=\"#000000\" d=\"M506.9087,-156.6969C505.9463,-167.1571 508.8869,-176.2964 515.7307,-176.2964 520.2219,-176.2964 523.0322,-172.3604 524.1616,-166.6982\"/>\n",
       "<polygon fill=\"#000000\" stroke=\"#000000\" points=\"527.6591,-166.826 524.5527,-156.6969 520.6645,-166.5524 527.6591,-166.826\"/>\n",
       "<text text-anchor=\"middle\" x=\"515.7307\" y=\"-195.0964\" font-family=\"Times,serif\" font-size=\"14.00\" fill=\"#000000\">b </text>\n",
       "<text text-anchor=\"middle\" x=\"515.7307\" y=\"-180.0964\" font-family=\"Times,serif\" font-size=\"14.00\" fill=\"#000000\"> a </text>\n",
       "</g>\n",
       "<!-- F2&#45;&gt;S8 -->\n",
       "<g id=\"edge4\" class=\"edge\">\n",
       "<title>F2&#45;&gt;S8</title>\n",
       "<path fill=\"none\" stroke=\"#000000\" d=\"M217.7549,-148.933C232.2786,-158.8394 251.9616,-172.2648 267.5315,-182.8848\"/>\n",
       "<polygon fill=\"#000000\" stroke=\"#000000\" points=\"265.92,-186.0222 276.1535,-188.7657 269.8644,-180.2393 265.92,-186.0222\"/>\n",
       "<text text-anchor=\"middle\" x=\"245.1932\" y=\"-172.9482\" font-family=\"Times,serif\" font-size=\"14.00\" fill=\"#000000\">a </text>\n",
       "</g>\n",
       "<!-- F2&#45;&gt;S5 -->\n",
       "<g id=\"edge5\" class=\"edge\">\n",
       "<title>F2&#45;&gt;S5</title>\n",
       "<path fill=\"none\" stroke=\"#000000\" d=\"M221.8235,-134.9942C249.3525,-134.8195 294.2948,-134.5343 324.2865,-134.344\"/>\n",
       "<polygon fill=\"#000000\" stroke=\"#000000\" points=\"324.6222,-137.842 334.5998,-134.2785 324.5777,-130.8422 324.6222,-137.842\"/>\n",
       "<text text-anchor=\"middle\" x=\"245.1932\" y=\"-137.9482\" font-family=\"Times,serif\" font-size=\"14.00\" fill=\"#000000\">b </text>\n",
       "</g>\n",
       "<!-- F3&#45;&gt;S4 -->\n",
       "<g id=\"edge7\" class=\"edge\">\n",
       "<title>F3&#45;&gt;S4</title>\n",
       "<path fill=\"none\" stroke=\"#000000\" d=\"M317.1599,-78.1482C337.031,-78.1482 365.2386,-78.1482 386.6772,-78.1482\"/>\n",
       "<polygon fill=\"#000000\" stroke=\"#000000\" points=\"386.8909,-81.6483 396.8908,-78.1482 386.8908,-74.6483 386.8909,-81.6483\"/>\n",
       "<text text-anchor=\"middle\" x=\"355.1378\" y=\"-81.9482\" font-family=\"Times,serif\" font-size=\"14.00\" fill=\"#000000\">b </text>\n",
       "</g>\n",
       "<!-- F3&#45;&gt;S7 -->\n",
       "<g id=\"edge6\" class=\"edge\">\n",
       "<title>F3&#45;&gt;S7</title>\n",
       "<path fill=\"none\" stroke=\"#000000\" d=\"M314.8293,-67.9125C335.7348,-58.1806 367.2536,-43.5081 389.8379,-32.9948\"/>\n",
       "<polygon fill=\"#000000\" stroke=\"#000000\" points=\"391.3241,-36.1636 398.9128,-28.7702 388.3699,-29.8175 391.3241,-36.1636\"/>\n",
       "<text text-anchor=\"middle\" x=\"355.1378\" y=\"-61.9482\" font-family=\"Times,serif\" font-size=\"14.00\" fill=\"#000000\">a </text>\n",
       "</g>\n",
       "</g>\n",
       "</svg>\n"
      ],
      "text/plain": [
       "<graphviz.dot.Digraph at 0x10ecefc18>"
      ]
     },
     "execution_count": 31,
     "metadata": {},
     "output_type": "execute_result"
    }
   ],
   "source": [
    "dotObj_dfa(blimp, FuseEdges=True)"
   ]
  },
  {
   "cell_type": "code",
   "execution_count": 32,
   "metadata": {
    "run_control": {
     "frozen": false,
     "read_only": false
    }
   },
   "outputs": [
    {
     "data": {
      "text/plain": [
       "<function jove.Def_NFA.rev_dfa(D)>"
      ]
     },
     "execution_count": 32,
     "metadata": {},
     "output_type": "execute_result"
    }
   ],
   "source": [
    "rev_dfa"
   ]
  },
  {
   "cell_type": "code",
   "execution_count": 33,
   "metadata": {
    "run_control": {
     "frozen": false,
     "read_only": false
    }
   },
   "outputs": [
    {
     "data": {
      "text/plain": [
       "<function jove.Def_NFA.nfa2dfa(N, STATENAME_MAXSIZE=20)>"
      ]
     },
     "execution_count": 33,
     "metadata": {},
     "output_type": "execute_result"
    }
   ],
   "source": [
    "nfa2dfa"
   ]
  },
  {
   "cell_type": "code",
   "execution_count": 34,
   "metadata": {
    "run_control": {
     "frozen": false,
     "read_only": false
    }
   },
   "outputs": [
    {
     "data": {
      "image/svg+xml": [
       "<?xml version=\"1.0\" encoding=\"UTF-8\" standalone=\"no\"?>\n",
       "<!DOCTYPE svg PUBLIC \"-//W3C//DTD SVG 1.1//EN\"\n",
       " \"http://www.w3.org/Graphics/SVG/1.1/DTD/svg11.dtd\">\n",
       "<!-- Generated by graphviz version 2.40.1 (20161225.0304)\n",
       " -->\n",
       "<!-- Title: %3 Pages: 1 -->\n",
       "<svg width=\"447pt\" height=\"109pt\"\n",
       " viewBox=\"0.00 0.00 446.98 109.50\" xmlns=\"http://www.w3.org/2000/svg\" xmlns:xlink=\"http://www.w3.org/1999/xlink\">\n",
       "<g id=\"graph0\" class=\"graph\" transform=\"scale(1 1) rotate(0) translate(4 105.496)\">\n",
       "<title>%3</title>\n",
       "<polygon fill=\"#ffffff\" stroke=\"transparent\" points=\"-4,4 -4,-105.496 442.9839,-105.496 442.9839,4 -4,4\"/>\n",
       "<!-- EMPTY -->\n",
       "<g id=\"node1\" class=\"node\">\n",
       "<title>EMPTY</title>\n",
       "</g>\n",
       "<!-- St3 -->\n",
       "<g id=\"node3\" class=\"node\">\n",
       "<title>St3</title>\n",
       "<ellipse fill=\"none\" stroke=\"#000000\" cx=\"113.748\" cy=\"-26.748\" rx=\"22.9987\" ry=\"22.9987\"/>\n",
       "<text text-anchor=\"middle\" x=\"113.748\" y=\"-23.048\" font-family=\"Times,serif\" font-size=\"14.00\" fill=\"#000000\">St3</text>\n",
       "</g>\n",
       "<!-- EMPTY&#45;&gt;St3 -->\n",
       "<g id=\"edge1\" class=\"edge\">\n",
       "<title>EMPTY&#45;&gt;St3</title>\n",
       "<path fill=\"none\" stroke=\"#000000\" d=\"M54.4476,-26.748C62.7759,-26.748 72.0138,-26.748 80.671,-26.748\"/>\n",
       "<polygon fill=\"#000000\" stroke=\"#000000\" points=\"80.8425,-30.2481 90.8425,-26.748 80.8425,-23.2481 80.8425,-30.2481\"/>\n",
       "</g>\n",
       "<!-- St2 -->\n",
       "<g id=\"node2\" class=\"node\">\n",
       "<title>St2</title>\n",
       "<ellipse fill=\"none\" stroke=\"#000000\" cx=\"312.7399\" cy=\"-26.748\" rx=\"22.9987\" ry=\"22.9987\"/>\n",
       "<text text-anchor=\"middle\" x=\"312.7399\" y=\"-23.048\" font-family=\"Times,serif\" font-size=\"14.00\" fill=\"#000000\">St2</text>\n",
       "</g>\n",
       "<!-- St0 -->\n",
       "<g id=\"node4\" class=\"node\">\n",
       "<title>St0</title>\n",
       "<ellipse fill=\"none\" stroke=\"#000000\" cx=\"412.2359\" cy=\"-26.748\" rx=\"22.9609\" ry=\"22.9609\"/>\n",
       "<ellipse fill=\"none\" stroke=\"#000000\" cx=\"412.2359\" cy=\"-26.748\" rx=\"26.9983\" ry=\"26.9983\"/>\n",
       "<text text-anchor=\"middle\" x=\"412.2359\" y=\"-23.048\" font-family=\"Times,serif\" font-size=\"14.00\" fill=\"#000000\">St0</text>\n",
       "</g>\n",
       "<!-- St2&#45;&gt;St0 -->\n",
       "<g id=\"edge4\" class=\"edge\">\n",
       "<title>St2&#45;&gt;St0</title>\n",
       "<path fill=\"none\" stroke=\"#000000\" d=\"M335.8164,-26.748C347.5031,-26.748 361.9778,-26.748 375.1759,-26.748\"/>\n",
       "<polygon fill=\"#000000\" stroke=\"#000000\" points=\"375.4092,-30.2481 385.4091,-26.748 375.4091,-23.2481 375.4092,-30.2481\"/>\n",
       "<text text-anchor=\"middle\" x=\"360.4879\" y=\"-45.548\" font-family=\"Times,serif\" font-size=\"14.00\" fill=\"#000000\">b </text>\n",
       "<text text-anchor=\"middle\" x=\"360.4879\" y=\"-30.548\" font-family=\"Times,serif\" font-size=\"14.00\" fill=\"#000000\"> a </text>\n",
       "</g>\n",
       "<!-- St1 -->\n",
       "<g id=\"node5\" class=\"node\">\n",
       "<title>St1</title>\n",
       "<ellipse fill=\"none\" stroke=\"#000000\" cx=\"213.2439\" cy=\"-26.748\" rx=\"22.9609\" ry=\"22.9609\"/>\n",
       "<ellipse fill=\"none\" stroke=\"#000000\" cx=\"213.2439\" cy=\"-26.748\" rx=\"26.9983\" ry=\"26.9983\"/>\n",
       "<text text-anchor=\"middle\" x=\"213.2439\" y=\"-23.048\" font-family=\"Times,serif\" font-size=\"14.00\" fill=\"#000000\">St1</text>\n",
       "</g>\n",
       "<!-- St3&#45;&gt;St1 -->\n",
       "<g id=\"edge2\" class=\"edge\">\n",
       "<title>St3&#45;&gt;St1</title>\n",
       "<path fill=\"none\" stroke=\"#000000\" d=\"M136.8244,-26.748C148.5111,-26.748 162.9859,-26.748 176.184,-26.748\"/>\n",
       "<polygon fill=\"#000000\" stroke=\"#000000\" points=\"176.4173,-30.2481 186.4172,-26.748 176.4172,-23.2481 176.4173,-30.2481\"/>\n",
       "<text text-anchor=\"middle\" x=\"161.496\" y=\"-45.548\" font-family=\"Times,serif\" font-size=\"14.00\" fill=\"#000000\">b </text>\n",
       "<text text-anchor=\"middle\" x=\"161.496\" y=\"-30.548\" font-family=\"Times,serif\" font-size=\"14.00\" fill=\"#000000\"> a </text>\n",
       "</g>\n",
       "<!-- St0&#45;&gt;St0 -->\n",
       "<g id=\"edge5\" class=\"edge\">\n",
       "<title>St0&#45;&gt;St0</title>\n",
       "<path fill=\"none\" stroke=\"#000000\" d=\"M402.9433,-52.049C402.3024,-62.574 405.3999,-71.496 412.2359,-71.496 416.722,-71.496 419.598,-67.6536 420.8641,-62.0374\"/>\n",
       "<polygon fill=\"#000000\" stroke=\"#000000\" points=\"424.357,-62.2592 421.5285,-52.049 417.3725,-61.7946 424.357,-62.2592\"/>\n",
       "<text text-anchor=\"middle\" x=\"412.2359\" y=\"-90.296\" font-family=\"Times,serif\" font-size=\"14.00\" fill=\"#000000\">b </text>\n",
       "<text text-anchor=\"middle\" x=\"412.2359\" y=\"-75.296\" font-family=\"Times,serif\" font-size=\"14.00\" fill=\"#000000\"> a </text>\n",
       "</g>\n",
       "<!-- St1&#45;&gt;St2 -->\n",
       "<g id=\"edge3\" class=\"edge\">\n",
       "<title>St1&#45;&gt;St2</title>\n",
       "<path fill=\"none\" stroke=\"#000000\" d=\"M240.169,-26.748C252.3087,-26.748 266.7633,-26.748 279.5649,-26.748\"/>\n",
       "<polygon fill=\"#000000\" stroke=\"#000000\" points=\"279.8423,-30.2481 289.8423,-26.748 279.8423,-23.2481 279.8423,-30.2481\"/>\n",
       "<text text-anchor=\"middle\" x=\"264.9919\" y=\"-45.548\" font-family=\"Times,serif\" font-size=\"14.00\" fill=\"#000000\">b </text>\n",
       "<text text-anchor=\"middle\" x=\"264.9919\" y=\"-30.548\" font-family=\"Times,serif\" font-size=\"14.00\" fill=\"#000000\"> a </text>\n",
       "</g>\n",
       "</g>\n",
       "</svg>\n"
      ],
      "text/plain": [
       "<graphviz.dot.Digraph at 0x10ecf3a20>"
      ]
     },
     "execution_count": 34,
     "metadata": {},
     "output_type": "execute_result"
    }
   ],
   "source": [
    "# Brzozowski minimization is R;D;R;D\n",
    "\n",
    "dotObj_dfa(nfa2dfa(rev_dfa(nfa2dfa(rev_dfa(blimp)))), FuseEdges = True)"
   ]
  },
  {
   "cell_type": "code",
   "execution_count": 35,
   "metadata": {
    "run_control": {
     "frozen": false,
     "read_only": false
    }
   },
   "outputs": [
    {
     "data": {
      "text/plain": [
       "<function jove.Def_NFA.min_dfa_brz(D)>"
      ]
     },
     "execution_count": 35,
     "metadata": {},
     "output_type": "execute_result"
    }
   ],
   "source": [
    "# This is also directly available as a single command\n",
    "\n",
    "min_dfa_brz"
   ]
  },
  {
   "cell_type": "code",
   "execution_count": 36,
   "metadata": {
    "run_control": {
     "frozen": false,
     "read_only": false
    }
   },
   "outputs": [
    {
     "data": {
      "image/svg+xml": [
       "<?xml version=\"1.0\" encoding=\"UTF-8\" standalone=\"no\"?>\n",
       "<!DOCTYPE svg PUBLIC \"-//W3C//DTD SVG 1.1//EN\"\n",
       " \"http://www.w3.org/Graphics/SVG/1.1/DTD/svg11.dtd\">\n",
       "<!-- Generated by graphviz version 2.40.1 (20161225.0304)\n",
       " -->\n",
       "<!-- Title: %3 Pages: 1 -->\n",
       "<svg width=\"447pt\" height=\"109pt\"\n",
       " viewBox=\"0.00 0.00 446.98 109.50\" xmlns=\"http://www.w3.org/2000/svg\" xmlns:xlink=\"http://www.w3.org/1999/xlink\">\n",
       "<g id=\"graph0\" class=\"graph\" transform=\"scale(1 1) rotate(0) translate(4 105.496)\">\n",
       "<title>%3</title>\n",
       "<polygon fill=\"#ffffff\" stroke=\"transparent\" points=\"-4,4 -4,-105.496 442.9839,-105.496 442.9839,4 -4,4\"/>\n",
       "<!-- EMPTY -->\n",
       "<g id=\"node1\" class=\"node\">\n",
       "<title>EMPTY</title>\n",
       "</g>\n",
       "<!-- St3 -->\n",
       "<g id=\"node3\" class=\"node\">\n",
       "<title>St3</title>\n",
       "<ellipse fill=\"none\" stroke=\"#000000\" cx=\"113.748\" cy=\"-26.748\" rx=\"22.9987\" ry=\"22.9987\"/>\n",
       "<text text-anchor=\"middle\" x=\"113.748\" y=\"-23.048\" font-family=\"Times,serif\" font-size=\"14.00\" fill=\"#000000\">St3</text>\n",
       "</g>\n",
       "<!-- EMPTY&#45;&gt;St3 -->\n",
       "<g id=\"edge1\" class=\"edge\">\n",
       "<title>EMPTY&#45;&gt;St3</title>\n",
       "<path fill=\"none\" stroke=\"#000000\" d=\"M54.4476,-26.748C62.7759,-26.748 72.0138,-26.748 80.671,-26.748\"/>\n",
       "<polygon fill=\"#000000\" stroke=\"#000000\" points=\"80.8425,-30.2481 90.8425,-26.748 80.8425,-23.2481 80.8425,-30.2481\"/>\n",
       "</g>\n",
       "<!-- St2 -->\n",
       "<g id=\"node2\" class=\"node\">\n",
       "<title>St2</title>\n",
       "<ellipse fill=\"none\" stroke=\"#000000\" cx=\"312.7399\" cy=\"-26.748\" rx=\"22.9987\" ry=\"22.9987\"/>\n",
       "<text text-anchor=\"middle\" x=\"312.7399\" y=\"-23.048\" font-family=\"Times,serif\" font-size=\"14.00\" fill=\"#000000\">St2</text>\n",
       "</g>\n",
       "<!-- St0 -->\n",
       "<g id=\"node4\" class=\"node\">\n",
       "<title>St0</title>\n",
       "<ellipse fill=\"none\" stroke=\"#000000\" cx=\"412.2359\" cy=\"-26.748\" rx=\"22.9609\" ry=\"22.9609\"/>\n",
       "<ellipse fill=\"none\" stroke=\"#000000\" cx=\"412.2359\" cy=\"-26.748\" rx=\"26.9983\" ry=\"26.9983\"/>\n",
       "<text text-anchor=\"middle\" x=\"412.2359\" y=\"-23.048\" font-family=\"Times,serif\" font-size=\"14.00\" fill=\"#000000\">St0</text>\n",
       "</g>\n",
       "<!-- St2&#45;&gt;St0 -->\n",
       "<g id=\"edge4\" class=\"edge\">\n",
       "<title>St2&#45;&gt;St0</title>\n",
       "<path fill=\"none\" stroke=\"#000000\" d=\"M335.8164,-26.748C347.5031,-26.748 361.9778,-26.748 375.1759,-26.748\"/>\n",
       "<polygon fill=\"#000000\" stroke=\"#000000\" points=\"375.4092,-30.2481 385.4091,-26.748 375.4091,-23.2481 375.4092,-30.2481\"/>\n",
       "<text text-anchor=\"middle\" x=\"360.4879\" y=\"-45.548\" font-family=\"Times,serif\" font-size=\"14.00\" fill=\"#000000\">b </text>\n",
       "<text text-anchor=\"middle\" x=\"360.4879\" y=\"-30.548\" font-family=\"Times,serif\" font-size=\"14.00\" fill=\"#000000\"> a </text>\n",
       "</g>\n",
       "<!-- St1 -->\n",
       "<g id=\"node5\" class=\"node\">\n",
       "<title>St1</title>\n",
       "<ellipse fill=\"none\" stroke=\"#000000\" cx=\"213.2439\" cy=\"-26.748\" rx=\"22.9609\" ry=\"22.9609\"/>\n",
       "<ellipse fill=\"none\" stroke=\"#000000\" cx=\"213.2439\" cy=\"-26.748\" rx=\"26.9983\" ry=\"26.9983\"/>\n",
       "<text text-anchor=\"middle\" x=\"213.2439\" y=\"-23.048\" font-family=\"Times,serif\" font-size=\"14.00\" fill=\"#000000\">St1</text>\n",
       "</g>\n",
       "<!-- St3&#45;&gt;St1 -->\n",
       "<g id=\"edge2\" class=\"edge\">\n",
       "<title>St3&#45;&gt;St1</title>\n",
       "<path fill=\"none\" stroke=\"#000000\" d=\"M136.8244,-26.748C148.5111,-26.748 162.9859,-26.748 176.184,-26.748\"/>\n",
       "<polygon fill=\"#000000\" stroke=\"#000000\" points=\"176.4173,-30.2481 186.4172,-26.748 176.4172,-23.2481 176.4173,-30.2481\"/>\n",
       "<text text-anchor=\"middle\" x=\"161.496\" y=\"-45.548\" font-family=\"Times,serif\" font-size=\"14.00\" fill=\"#000000\">b </text>\n",
       "<text text-anchor=\"middle\" x=\"161.496\" y=\"-30.548\" font-family=\"Times,serif\" font-size=\"14.00\" fill=\"#000000\"> a </text>\n",
       "</g>\n",
       "<!-- St0&#45;&gt;St0 -->\n",
       "<g id=\"edge5\" class=\"edge\">\n",
       "<title>St0&#45;&gt;St0</title>\n",
       "<path fill=\"none\" stroke=\"#000000\" d=\"M402.9433,-52.049C402.3024,-62.574 405.3999,-71.496 412.2359,-71.496 416.722,-71.496 419.598,-67.6536 420.8641,-62.0374\"/>\n",
       "<polygon fill=\"#000000\" stroke=\"#000000\" points=\"424.357,-62.2592 421.5285,-52.049 417.3725,-61.7946 424.357,-62.2592\"/>\n",
       "<text text-anchor=\"middle\" x=\"412.2359\" y=\"-90.296\" font-family=\"Times,serif\" font-size=\"14.00\" fill=\"#000000\">b </text>\n",
       "<text text-anchor=\"middle\" x=\"412.2359\" y=\"-75.296\" font-family=\"Times,serif\" font-size=\"14.00\" fill=\"#000000\"> a </text>\n",
       "</g>\n",
       "<!-- St1&#45;&gt;St2 -->\n",
       "<g id=\"edge3\" class=\"edge\">\n",
       "<title>St1&#45;&gt;St2</title>\n",
       "<path fill=\"none\" stroke=\"#000000\" d=\"M240.169,-26.748C252.3087,-26.748 266.7633,-26.748 279.5649,-26.748\"/>\n",
       "<polygon fill=\"#000000\" stroke=\"#000000\" points=\"279.8423,-30.2481 289.8423,-26.748 279.8423,-23.2481 279.8423,-30.2481\"/>\n",
       "<text text-anchor=\"middle\" x=\"264.9919\" y=\"-45.548\" font-family=\"Times,serif\" font-size=\"14.00\" fill=\"#000000\">b </text>\n",
       "<text text-anchor=\"middle\" x=\"264.9919\" y=\"-30.548\" font-family=\"Times,serif\" font-size=\"14.00\" fill=\"#000000\"> a </text>\n",
       "</g>\n",
       "</g>\n",
       "</svg>\n"
      ],
      "text/plain": [
       "<graphviz.dot.Digraph at 0x10ecefe80>"
      ]
     },
     "execution_count": 36,
     "metadata": {},
     "output_type": "execute_result"
    }
   ],
   "source": [
    "dotObj_dfa(min_dfa_brz(blimp), FuseEdges = True)"
   ]
  },
  {
   "cell_type": "code",
   "execution_count": 37,
   "metadata": {
    "run_control": {
     "frozen": false,
     "read_only": false
    }
   },
   "outputs": [
    {
     "data": {
      "image/svg+xml": [
       "<?xml version=\"1.0\" encoding=\"UTF-8\" standalone=\"no\"?>\n",
       "<!DOCTYPE svg PUBLIC \"-//W3C//DTD SVG 1.1//EN\"\n",
       " \"http://www.w3.org/Graphics/SVG/1.1/DTD/svg11.dtd\">\n",
       "<!-- Generated by graphviz version 2.40.1 (20161225.0304)\n",
       " -->\n",
       "<!-- Title: %3 Pages: 1 -->\n",
       "<svg width=\"422pt\" height=\"104pt\"\n",
       " viewBox=\"0.00 0.00 422.29 104.30\" xmlns=\"http://www.w3.org/2000/svg\" xmlns:xlink=\"http://www.w3.org/1999/xlink\">\n",
       "<g id=\"graph0\" class=\"graph\" transform=\"scale(1 1) rotate(0) translate(4 100.2964)\">\n",
       "<title>%3</title>\n",
       "<polygon fill=\"#ffffff\" stroke=\"transparent\" points=\"-4,4 -4,-100.2964 418.286,-100.2964 418.286,4 -4,4\"/>\n",
       "<!-- EMPTY -->\n",
       "<g id=\"node1\" class=\"node\">\n",
       "<title>EMPTY</title>\n",
       "</g>\n",
       "<!-- I1 -->\n",
       "<g id=\"node3\" class=\"node\">\n",
       "<title>I1</title>\n",
       "<ellipse fill=\"none\" stroke=\"#000000\" cx=\"109.1984\" cy=\"-24.1482\" rx=\"18.399\" ry=\"18.399\"/>\n",
       "<text text-anchor=\"middle\" x=\"109.1984\" y=\"-20.4482\" font-family=\"Times,serif\" font-size=\"14.00\" fill=\"#000000\">I1</text>\n",
       "</g>\n",
       "<!-- EMPTY&#45;&gt;I1 -->\n",
       "<g id=\"edge1\" class=\"edge\">\n",
       "<title>EMPTY&#45;&gt;I1</title>\n",
       "<path fill=\"none\" stroke=\"#000000\" d=\"M54.3709,-24.1482C62.7773,-24.1482 72.0494,-24.1482 80.5395,-24.1482\"/>\n",
       "<polygon fill=\"#000000\" stroke=\"#000000\" points=\"80.7515,-27.6483 90.7515,-24.1482 80.7514,-20.6483 80.7515,-27.6483\"/>\n",
       "</g>\n",
       "<!-- S8 -->\n",
       "<g id=\"node2\" class=\"node\">\n",
       "<title>S8</title>\n",
       "<ellipse fill=\"none\" stroke=\"#000000\" cx=\"295.8414\" cy=\"-24.1482\" rx=\"20.2975\" ry=\"20.2975\"/>\n",
       "<text text-anchor=\"middle\" x=\"295.8414\" y=\"-20.4482\" font-family=\"Times,serif\" font-size=\"14.00\" fill=\"#000000\">S8</text>\n",
       "</g>\n",
       "<!-- F9 -->\n",
       "<g id=\"node4\" class=\"node\">\n",
       "<title>F9</title>\n",
       "<ellipse fill=\"none\" stroke=\"#000000\" cx=\"390.1378\" cy=\"-24.1482\" rx=\"20.2726\" ry=\"20.2726\"/>\n",
       "<ellipse fill=\"none\" stroke=\"#000000\" cx=\"390.1378\" cy=\"-24.1482\" rx=\"24.2973\" ry=\"24.2973\"/>\n",
       "<text text-anchor=\"middle\" x=\"390.1378\" y=\"-20.4482\" font-family=\"Times,serif\" font-size=\"14.00\" fill=\"#000000\">F9</text>\n",
       "</g>\n",
       "<!-- S8&#45;&gt;F9 -->\n",
       "<g id=\"edge4\" class=\"edge\">\n",
       "<title>S8&#45;&gt;F9</title>\n",
       "<path fill=\"none\" stroke=\"#000000\" d=\"M316.3023,-24.1482C327.7569,-24.1482 342.345,-24.1482 355.5241,-24.1482\"/>\n",
       "<polygon fill=\"#000000\" stroke=\"#000000\" points=\"355.7047,-27.6483 365.7047,-24.1482 355.7046,-20.6483 355.7047,-27.6483\"/>\n",
       "<text text-anchor=\"middle\" x=\"340.9896\" y=\"-42.9482\" font-family=\"Times,serif\" font-size=\"14.00\" fill=\"#000000\">b </text>\n",
       "<text text-anchor=\"middle\" x=\"340.9896\" y=\"-27.9482\" font-family=\"Times,serif\" font-size=\"14.00\" fill=\"#000000\"> a </text>\n",
       "</g>\n",
       "<!-- F2 -->\n",
       "<g id=\"node5\" class=\"node\">\n",
       "<title>F2</title>\n",
       "<ellipse fill=\"none\" stroke=\"#000000\" cx=\"201.545\" cy=\"-24.1482\" rx=\"20.2726\" ry=\"20.2726\"/>\n",
       "<ellipse fill=\"none\" stroke=\"#000000\" cx=\"201.545\" cy=\"-24.1482\" rx=\"24.2973\" ry=\"24.2973\"/>\n",
       "<text text-anchor=\"middle\" x=\"201.545\" y=\"-20.4482\" font-family=\"Times,serif\" font-size=\"14.00\" fill=\"#000000\">F2</text>\n",
       "</g>\n",
       "<!-- I1&#45;&gt;F2 -->\n",
       "<g id=\"edge2\" class=\"edge\">\n",
       "<title>I1&#45;&gt;F2</title>\n",
       "<path fill=\"none\" stroke=\"#000000\" d=\"M127.4431,-24.1482C138.7246,-24.1482 153.5691,-24.1482 167.0071,-24.1482\"/>\n",
       "<polygon fill=\"#000000\" stroke=\"#000000\" points=\"167.3876,-27.6483 177.3876,-24.1482 167.3875,-20.6483 167.3876,-27.6483\"/>\n",
       "<text text-anchor=\"middle\" x=\"152.3968\" y=\"-42.9482\" font-family=\"Times,serif\" font-size=\"14.00\" fill=\"#000000\">b </text>\n",
       "<text text-anchor=\"middle\" x=\"152.3968\" y=\"-27.9482\" font-family=\"Times,serif\" font-size=\"14.00\" fill=\"#000000\"> a </text>\n",
       "</g>\n",
       "<!-- F9&#45;&gt;F9 -->\n",
       "<g id=\"edge5\" class=\"edge\">\n",
       "<title>F9&#45;&gt;F9</title>\n",
       "<path fill=\"none\" stroke=\"#000000\" d=\"M381.3158,-46.6969C380.3534,-57.1571 383.2941,-66.2964 390.1378,-66.2964 394.629,-66.2964 397.4393,-62.3604 398.5687,-56.6982\"/>\n",
       "<polygon fill=\"#000000\" stroke=\"#000000\" points=\"402.0663,-56.826 398.9599,-46.6969 395.0716,-56.5524 402.0663,-56.826\"/>\n",
       "<text text-anchor=\"middle\" x=\"390.1378\" y=\"-85.0964\" font-family=\"Times,serif\" font-size=\"14.00\" fill=\"#000000\">b </text>\n",
       "<text text-anchor=\"middle\" x=\"390.1378\" y=\"-70.0964\" font-family=\"Times,serif\" font-size=\"14.00\" fill=\"#000000\"> a </text>\n",
       "</g>\n",
       "<!-- F2&#45;&gt;S8 -->\n",
       "<g id=\"edge3\" class=\"edge\">\n",
       "<title>F2&#45;&gt;S8</title>\n",
       "<path fill=\"none\" stroke=\"#000000\" d=\"M225.8287,-24.1482C237.8509,-24.1482 252.4902,-24.1482 265.2682,-24.1482\"/>\n",
       "<polygon fill=\"#000000\" stroke=\"#000000\" points=\"265.4658,-27.6483 275.4658,-24.1482 265.4657,-20.6483 265.4658,-27.6483\"/>\n",
       "<text text-anchor=\"middle\" x=\"250.6932\" y=\"-42.9482\" font-family=\"Times,serif\" font-size=\"14.00\" fill=\"#000000\">b </text>\n",
       "<text text-anchor=\"middle\" x=\"250.6932\" y=\"-27.9482\" font-family=\"Times,serif\" font-size=\"14.00\" fill=\"#000000\"> a </text>\n",
       "</g>\n",
       "</g>\n",
       "</svg>\n"
      ],
      "text/plain": [
       "<graphviz.dot.Digraph at 0x10ec169e8>"
      ]
     },
     "execution_count": 37,
     "metadata": {},
     "output_type": "execute_result"
    }
   ],
   "source": [
    "# Same result as standard minimization\n",
    "\n",
    "dotObj_dfa(min_dfa(blimp), FuseEdges = True)"
   ]
  },
  {
   "cell_type": "code",
   "execution_count": null,
   "metadata": {
    "run_control": {
     "frozen": false,
     "read_only": false
    }
   },
   "outputs": [],
   "source": []
  }
 ],
 "metadata": {
  "kernelspec": {
   "display_name": "Python 3",
   "language": "python",
   "name": "python3"
  },
  "language_info": {
   "codemirror_mode": {
    "name": "ipython",
    "version": 3
   },
   "file_extension": ".py",
   "mimetype": "text/x-python",
   "name": "python",
   "nbconvert_exporter": "python",
   "pygments_lexer": "ipython3",
   "version": "3.7.6"
  },
  "toc": {
   "colors": {
    "hover_highlight": "#DAA520",
    "running_highlight": "#FF0000",
    "selected_highlight": "#FFD700"
   },
   "moveMenuLeft": true,
   "nav_menu": {
    "height": "121px",
    "width": "252px"
   },
   "navigate_menu": true,
   "number_sections": true,
   "sideBar": true,
   "threshold": 4,
   "toc_cell": false,
   "toc_section_display": "block",
   "toc_window_display": false,
   "widenNotebook": false
  },
  "widgets": {
   "state": {
    "430c92ee02b34ec1912bf03c8de1e6dc": {
     "views": [
      {
       "cell_index": 20
      }
     ]
    }
   },
   "version": "1.2.0"
  }
 },
 "nbformat": 4,
 "nbformat_minor": 2
}
