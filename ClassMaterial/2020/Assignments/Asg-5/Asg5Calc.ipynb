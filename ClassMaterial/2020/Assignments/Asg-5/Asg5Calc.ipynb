{
 "cells": [
  {
   "cell_type": "markdown",
   "metadata": {
    "run_control": {
     "frozen": false,
     "read_only": false
    }
   },
   "source": [
    "# Asg-5\n",
    "\n",
    "\n",
    "* Build your own calculator\n",
    "  - The code is adapted slightly from https://www.dabeaz.com/ply/example.html\n",
    "\n",
    "  - further seal knowledge of lexers (RE based) and parsers (CFG based) in your minds "
   ]
  },
  {
   "cell_type": "code",
   "execution_count": null,
   "metadata": {
    "run_control": {
     "frozen": false,
     "read_only": false
    }
   },
   "outputs": [],
   "source": [
    "\n",
    "#----TURN THESE ON IF RUNNING ON JOVE ON COLAB BY REMOVING THE ''' ... '''\n",
    "\n",
    "'''\n",
    "! if [ ! -d Jove ]; then git clone https://github.com/ganeshutah/Jove Jove; fi\n",
    "import sys\n",
    "sys.path.append('./Jove')\n",
    "sys.path.append('./Jove/jove')\n",
    "'''\n",
    "\n",
    "#----TURN THESE ON IF RUNNING ON OWN INSTALLATION (default turned-on)\n",
    "\n",
    "import sys\n",
    "sys.path[0:0] = ['../..',       '../../3rdparty',\n",
    "                 '../../..',    '../../../3rdparty',\n",
    "                 '../../../..', '../../../../3rdparty'\n",
    "                ] # Put these at the head of the search path\n",
    "\n",
    "from lex import *\n",
    "from yacc import *\n",
    "import math"
   ]
  },
  {
   "cell_type": "code",
   "execution_count": null,
   "metadata": {
    "run_control": {
     "frozen": false,
     "read_only": false
    }
   },
   "outputs": [
    {
     "name": "stderr",
     "output_type": "stream",
     "text": [
      "Generating LALR tables\n"
     ]
    },
    {
     "name": "stdout",
     "output_type": "stream",
     "text": [
      "calc > 3.3/4.4/4/4\n",
      "0.04687499999999999\n",
      "calc > (((3.3/4.4)/4)/4)\n",
      "0.04687499999999999\n",
      "calc > !3 ... factorial, with ! written first\n",
      "Illegal character '.'\n",
      "Illegal character '.'\n",
      "Illegal character '.'\n",
      "Syntax error at 'factorial'\n",
      "Illegal character ','\n",
      "calc > !3\n",
      "6\n",
      "calc > !!3\n",
      "720\n",
      "calc > !!5\n",
      "6689502913449127057588118054090372586752746333138029810295671352301633557244962989366874165271984981308157637893214090552534408589408121859898481114389650005964960521256960000000000000000000000000000\n",
      "calc > !!3-!!3\n",
      "0\n",
      "calc > !2.2\n",
      "Factorial of a fraction is undefined!\n",
      "None\n"
     ]
    }
   ],
   "source": [
    "tokens = (\n",
    "    'NAME','NUMBER',\n",
    "    'PLUS','MINUS','TIMES','DIVIDE','EQUALS',\n",
    "    'LPAREN','RPAREN', 'FAC'# <== ADD 'FAC here'\n",
    "    )\n",
    "\n",
    "# Tokens\n",
    "\n",
    "t_PLUS    = r'\\+'\n",
    "t_MINUS   = r'-'\n",
    "t_TIMES   = r'\\*'\n",
    "t_DIVIDE  = r'/'\n",
    "t_EQUALS  = r'='\n",
    "t_LPAREN  = r'\\('\n",
    "t_RPAREN  = r'\\)'\n",
    "t_NAME    = r'[a-zA-Z_][a-zA-Z0-9_]*'\n",
    "t_FAC   = r'!' # <== ADD definition for t_FAC here\n",
    " \n",
    "\n",
    "def t_NUMBER(t):\n",
    "    r'\\d+\\.?\\d*'   # <== Extend the regexp to handle fractions\n",
    "    try:\n",
    "        if '.' in t.value:\n",
    "            t.value = float(t.value)\n",
    "        else:\n",
    "            t.value = int(t.value)\n",
    "    except ValueError:\n",
    "        print(\"Number value too large %d\", t.value)\n",
    "        t.value = 0\n",
    "    return t\n",
    "\n",
    "# Ignored characters\n",
    "t_ignore = \" \\t\"\n",
    "\n",
    "def t_newline(t):\n",
    "    r'\\n+'\n",
    "    t.lexer.lineno += t.value.count(\"\\n\")\n",
    "    \n",
    "def t_error(t):\n",
    "    print(\"Illegal character '%s'\" % t.value[0])\n",
    "    t.lexer.skip(1)\n",
    "    \n",
    "\n",
    "# Parsing rules\n",
    "\n",
    "\n",
    "# dictionary of names\n",
    "names = { }\n",
    "\n",
    "def p_statement_assign(t):\n",
    "    'statement : NAME EQUALS expression'\n",
    "    # The full calculator logic is driven by processing statement at a time\n",
    "    # and either storing expressions in new variables in the \"names\" dictionary...\n",
    "    names[t[1]] = t[3]\n",
    "\n",
    "def p_statement_expr(t):\n",
    "    'statement : expression'\n",
    "    # ... or printing the value of the expression represented by it\n",
    "    print(t[1])\n",
    "                \n",
    "def p_expression(t):\n",
    "    '''expression : expression PLUS term\n",
    "                  | expression MINUS term'''\n",
    "    if t[2] == '+' :  t[0] = t[1] + t[3]\n",
    "    elif t[2] == '-': t[0] = t[1] - t[3]\n",
    "    else: print(\"expression goes to unknown item.\")\n",
    "\n",
    "def p_expression_T(t):\n",
    "    '''expression : term'''\n",
    "    t[0] = t[1]\n",
    "\n",
    "'''\n",
    "def p_expression_name(t):\n",
    "    'expression : NAME'\n",
    "    try:\n",
    "        t[0] = names[t[1]]\n",
    "    except LookupError:\n",
    "        print(\"Undefined name '%s'\" % t[1])\n",
    "        t[0] = 0\n",
    "'''\n",
    "\n",
    "def p_term(t):\n",
    "    '''term : term TIMES factor\n",
    "            | term DIVIDE factor'''\n",
    "    if t[2] == '*' :  t[0] = t[1] * t[3]\n",
    "    elif t[2] == '/': t[0] = t[1] / t[3]\n",
    "    else: print(\"term goes to unknown item.\")\n",
    "    \n",
    "def p_term_F(t):\n",
    "    '''term : factor'''\n",
    "    t[0] = t[1]\n",
    "    \n",
    "def p_factor(t):\n",
    "    '''factor : MINUS factor\n",
    "              | LPAREN expression RPAREN\n",
    "              | NUMBER\n",
    "              | NAME\n",
    "              | FAC factor ''' # <== ADD FAC factor as another production here\n",
    "              \n",
    "    if t[1] == '-' :  t[0] = -t[2]  \n",
    "    elif t[1] == '(': t[0] = t[2]\n",
    "    elif t[1] == '!': \n",
    "        if (type(t[2]) == int):\n",
    "            if (t[2] >= 0):\n",
    "                t[0] = math.factorial(t[2])\n",
    "            else:\n",
    "                print(\"Factorial of a negative number is undefined!\")\n",
    "                t.lexer.skip(1)\n",
    "                \n",
    "        else:\n",
    "            print(\"Factorial of a fraction is undefined!\")\n",
    "            t.lexer.skip(1)\n",
    "            \n",
    "    else:\n",
    "        if type(t[1]) == int or type(t[1]) == float:\n",
    "            t[0] = t[1]\n",
    "        else:\n",
    "            try:\n",
    "                t[0] = names[t[1]]\n",
    "            except LookupError:\n",
    "                print(\"Undefined name '%s'\" % t[1])\n",
    "                t[0] = 0\n",
    " \n",
    "def p_error(t):\n",
    "    print(\"Syntax error at '%s'\" % t.value)\n",
    "    \n",
    "calclexer = lex()\n",
    "calcparser = yacc()\n",
    "\n",
    "while True:\n",
    "    try:\n",
    "        s = input('calc > ')   # Use raw_input on Python 2\n",
    "    except EOFError:\n",
    "        break\n",
    "    if (s=='END'):\n",
    "        break\n",
    "    calcparser.parse(s, lexer=calclexer)"
   ]
  },
  {
   "cell_type": "markdown",
   "metadata": {
    "run_control": {
     "frozen": false,
     "read_only": false
    }
   },
   "source": [
    "Your output must resemble the above."
   ]
  },
  {
   "cell_type": "code",
   "execution_count": null,
   "metadata": {},
   "outputs": [],
   "source": [
    "Done with the main calculator implementation. TODO Need to say what shift reduce error is. \n",
    "TODO Extra credit to implement 5! instead of !5"
   ]
  }
 ],
 "metadata": {
  "kernelspec": {
   "display_name": "Python 3",
   "language": "python",
   "name": "python3"
  },
  "language_info": {
   "codemirror_mode": {
    "name": "ipython",
    "version": 3
   },
   "file_extension": ".py",
   "mimetype": "text/x-python",
   "name": "python",
   "nbconvert_exporter": "python",
   "pygments_lexer": "ipython3",
   "version": "3.7.6"
  },
  "toc": {
   "colors": {
    "hover_highlight": "#DAA520",
    "running_highlight": "#FF0000",
    "selected_highlight": "#FFD700"
   },
   "moveMenuLeft": true,
   "nav_menu": {
    "height": "318px",
    "width": "252px"
   },
   "navigate_menu": true,
   "number_sections": true,
   "sideBar": true,
   "threshold": 4,
   "toc_cell": false,
   "toc_section_display": "block",
   "toc_window_display": false,
   "widenNotebook": false
  }
 },
 "nbformat": 4,
 "nbformat_minor": 1
}
