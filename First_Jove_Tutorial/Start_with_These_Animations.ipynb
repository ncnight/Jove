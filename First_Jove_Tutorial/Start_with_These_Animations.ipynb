{
 "cells": [
  {
   "cell_type": "markdown",
   "metadata": {},
   "source": [
    "# Animating Machines"
   ]
  },
  {
   "cell_type": "code",
   "execution_count": 1,
   "metadata": {},
   "outputs": [
    {
     "name": "stdout",
     "output_type": "stream",
     "text": [
      "You may use any of these help commands:\n",
      "help(step_tm)\n",
      "help(run_tm)\n",
      "help(explore_tm)\n",
      "\n",
      "You may use any of these help commands:\n",
      "help(md2mc)\n",
      ".. and if you want to dig more, then ..\n",
      "help(default_line_attr)\n",
      "help(length_ok_input_items)\n",
      "help(union_line_attr_list_fld)\n",
      "help(extend_rsltdict)\n",
      "help(form_delta)\n",
      "help(get_machine_components)\n",
      "\n",
      "You may use any of these help commands:\n",
      "help(ResetStNum)\n",
      "help(NxtStateStr)\n",
      "\n"
     ]
    }
   ],
   "source": [
    "import sys\n",
    "\n",
    "\n",
    "#----TURN THESE ON IF RUNNING ON JOVE ON COLAB by removing the triple quotes\n",
    "\n",
    "'''\n",
    "! if [ ! -d Jove ]; then git clone https://github.com/ganeshutah/Jove Jove; fi\n",
    "import sys\n",
    "sys.path.append('./Jove')\n",
    "sys.path.append('./Jove/jove')\n",
    "from jove.Def_TM     import *\n",
    "from jove.Def_md2mc  import *\n",
    "from jove.DotBashers import *\n",
    "from jove.JoveEditor import *\n",
    "from jove.AnimateTM import * #-- usage: AnimateTM(whas101DTM, FuseEdges=True)\n",
    " \n",
    "#---- ALWAYS include the FOLLOWING line BEFORE ANY call such as AnimateNFA, AnimateDFA, etc ----\n",
    "display(HTML('<link rel=\"stylesheet\" href=\"//stackpath.bootstrapcdn.com/font-awesome/4.7.0/css/font-awesome.min.css\"/>'))\n",
    "# Unfortunately this has to be within EACH iframe... so can't hard-wire\n",
    "# into the Animate... functions\n",
    "\n",
    "'''\n",
    "\n",
    "#----TURN THESE ON IF RUNNING ON OWN INSTALLATION (default turned-on)\n",
    "\n",
    "sys.path[0:0] = ['..','../3rdparty',\n",
    "                '../..','../../3rdparty',\n",
    "                 '../../..','../../../3rdparty',\n",
    "                 '../../../..','../../../../3rdparty'\n",
    "                ] # Put these at the head of the search path\n",
    "from jove.Def_TM     import *\n",
    "from jove.Def_md2mc  import *\n",
    "from jove.DotBashers import *\n",
    "from jove.JoveEditor import *\n",
    "from jove.AnimateTM import * #-- usage: AnimateTM(whas101DTM, FuseEdges=True)\n",
    "\n",
    "\n",
    "#---- COMMON IMPORTS, if any left, BELOW : Add more/less imports as needed, or is tolerable (too many help msgs) ---\n",
    "\n",
    " "
   ]
  },
  {
   "cell_type": "markdown",
   "metadata": {},
   "source": [
    "# Jove Editor\n",
    "you can open a jove editor with the following"
   ]
  },
  {
   "cell_type": "code",
   "execution_count": 2,
   "metadata": {},
   "outputs": [
    {
     "data": {
      "text/html": [
       "<style>textarea, input { font-family: monospace; }</style>"
      ],
      "text/plain": [
       "<IPython.core.display.HTML object>"
      ]
     },
     "metadata": {},
     "output_type": "display_data"
    },
    {
     "data": {
      "application/vnd.jupyter.widget-view+json": {
       "model_id": "70cd7d76384b4e2b8ea29bf1a2d7e9b4",
       "version_major": 2,
       "version_minor": 0
      },
      "text/plain": [
       "Tab(children=(VBox(children=(HBox(children=(Accordion(children=(VBox(children=(HBox(children=(Text(value='', p…"
      ]
     },
     "metadata": {},
     "output_type": "display_data"
    },
    {
     "data": {
      "text/plain": [
       "<jove.JoveEditor.JoveEditor at 0x104519e80>"
      ]
     },
     "execution_count": 2,
     "metadata": {},
     "output_type": "execute_result"
    }
   ],
   "source": [
    "from jove.JoveEditor import *\n",
    "JoveEditor(examples=True)"
   ]
  },
  {
   "cell_type": "markdown",
   "metadata": {},
   "source": [
    "JoveEditor has two optional parameters\n",
    "* machine (default: None) - You can supply an already created jove machine (DFA, NFA, PDA, TM). The machine dictionary will be displayed under 'Edit' tab and the Animation for the machine will be displayed in the 'Animate' tab.\n",
    "* examples (default: False) - If True, the 'Edit' tab will contain example markdown for each machine type. Otherwise, the placeholder text displays a reminder of the rule format"
   ]
  },
  {
   "cell_type": "code",
   "execution_count": 3,
   "metadata": {},
   "outputs": [
    {
     "data": {
      "text/html": [
       "<style>textarea, input { font-family: monospace; }</style>"
      ],
      "text/plain": [
       "<IPython.core.display.HTML object>"
      ]
     },
     "metadata": {},
     "output_type": "display_data"
    },
    {
     "data": {
      "application/vnd.jupyter.widget-view+json": {
       "model_id": "0c317f586bfd4d74bbebf5bd51136d69",
       "version_major": 2,
       "version_minor": 0
      },
      "text/plain": [
       "Tab(children=(VBox(children=(HBox(children=(Accordion(children=(VBox(children=(HBox(children=(Text(value='', p…"
      ]
     },
     "metadata": {},
     "output_type": "display_data"
    },
    {
     "data": {
      "text/plain": [
       "<jove.JoveEditor.JoveEditor at 0x104739b00>"
      ]
     },
     "execution_count": 3,
     "metadata": {},
     "output_type": "execute_result"
    }
   ],
   "source": [
    "JoveEditor(examples=True)"
   ]
  },
  {
   "cell_type": "markdown",
   "metadata": {},
   "source": [
    "# Animate* Classes\n",
    "You can animate any Jove machine (DFA, NFA, PDA, TM) using the corresponding Animate* class which will create a widget to interact with the machine.\n",
    "\n",
    "You can enter a string for the machine to consume in the 'Input:' text box at the top of the widget. The string must be composed of symbols in the machine's alphabet which is displayed in input box by default. If the string contains unknown symbols the 'Animate' button will turn red with the message 'Invalid Input' until the string is updated.\n",
    "\n",
    "Click the 'Animate' button when you are ready for the machine to animate using your input. This disables the input textbox and enables the play controls at the bottom of the widget. When you are done exploring the current input click the 'Change Input' button to disable the play controls and re-enable the input textbox. \n",
    "\n",
    "The play controls at the bottom of widget (from left to right) consist of:\n",
    "* Play          : play/resume the animation\n",
    "* Pause         : pause the animation\n",
    "* Stop          : stop the animation, play will start from the beginning\n",
    "* Loop          : loop when the end of the animation is reached and continue playing from the beginning\n",
    "* Step Backward : take one 'step' backward in the animation\n",
    "* Step Forward  : take one 'step' forward in the animation\n",
    "* Speed         : this slider lets you increase the animation playback speed"
   ]
  },
  {
   "cell_type": "markdown",
   "metadata": {},
   "source": [
    "## DFA"
   ]
  },
  {
   "cell_type": "code",
   "execution_count": 4,
   "metadata": {},
   "outputs": [
    {
     "name": "stderr",
     "output_type": "stream",
     "text": [
      "Generating LALR tables\n"
     ]
    }
   ],
   "source": [
    "ev0end1 = md2mc('''\n",
    "DFA\n",
    "I : 0 -> A\n",
    "A : 0 | 1 -> I\n",
    "I : 1 -> F\n",
    "F : 0 | 1 -> I\n",
    "''')"
   ]
  },
  {
   "cell_type": "markdown",
   "metadata": {},
   "source": [
    "Feed a DFA into AnimateDFA as the first positional argument.  \n",
    "AnimateDFA has several optional parameters:\n",
    "* FuseEdges  (bool): If True, draws only one edge between pairs of states with the transition labels stacked above it.\n",
    "* pick_start (bool): If True, a dropdown box is added at the top of the widget to pick which state the DFA starts in.\n",
    "* max_width (float): The maximum width of the DFA in inches. This prevents large drawings from extending beyond the draw area which forces the area to become scrollable."
   ]
  },
  {
   "cell_type": "code",
   "execution_count": 5,
   "metadata": {
    "scrolled": false
   },
   "outputs": [
    {
     "data": {
      "application/vnd.jupyter.widget-view+json": {
       "model_id": "c23317da285349eaacb6b316d97e8e9d",
       "version_major": 2,
       "version_minor": 0
      },
      "text/plain": [
       "VBox(children=(HBox(children=(Text(value='', description='Input:', layout=Layout(width='500px'), placeholder='…"
      ]
     },
     "metadata": {},
     "output_type": "display_data"
    },
    {
     "data": {
      "text/plain": [
       "<jove.AnimateDFA.AnimateDFA at 0x104bea0b8>"
      ]
     },
     "execution_count": 5,
     "metadata": {},
     "output_type": "execute_result"
    }
   ],
   "source": [
    "from jove.AnimateDFA import *\n",
    "AnimateDFA(ev0end1, FuseEdges=True)"
   ]
  },
  {
   "cell_type": "markdown",
   "metadata": {},
   "source": [
    "## NFA"
   ]
  },
  {
   "cell_type": "code",
   "execution_count": 6,
   "metadata": {},
   "outputs": [],
   "source": [
    "nfahas01 = md2mc('''\n",
    "NFA \n",
    "I : 0 | 1 -> I\n",
    "I : '' -> A\n",
    "A : 0  -> B\n",
    "B : 1  -> C\n",
    "C : 0 | 1 -> C\n",
    "C : '' -> F\n",
    "''')"
   ]
  },
  {
   "cell_type": "markdown",
   "metadata": {},
   "source": [
    "Feed a NFA into AnimateNFA as the first positional argument.  \n",
    "AnimateNFA has several optional parameters:\n",
    "* FuseEdges  (bool): If True, draws only one edge between pairs of states with the transition labels stacked above it.\n",
    "* pick_start (bool): If True, a multi-select box is added to the top of the widget to pick which state(s) the NFA starts in. Select multiple states by holding 'Ctrl' when clicking on state names.\n",
    "* max_width (float): The maximum width of the NFA in inches. This prevents large drawings from extending beyond the draw area which forces the area to become scrollable."
   ]
  },
  {
   "cell_type": "code",
   "execution_count": 7,
   "metadata": {},
   "outputs": [
    {
     "data": {
      "application/vnd.jupyter.widget-view+json": {
       "model_id": "5095aad180d74de3850419278a047c7d",
       "version_major": 2,
       "version_minor": 0
      },
      "text/plain": [
       "VBox(children=(HBox(children=(Text(value='', description='Input:', layout=Layout(width='500px'), placeholder='…"
      ]
     },
     "metadata": {},
     "output_type": "display_data"
    },
    {
     "data": {
      "text/plain": [
       "<jove.AnimateNFA.AnimateNFA at 0x1047c6518>"
      ]
     },
     "execution_count": 7,
     "metadata": {},
     "output_type": "execute_result"
    }
   ],
   "source": [
    "from jove.AnimateNFA import *\n",
    "AnimateNFA(nfahas01, FuseEdges=False)"
   ]
  },
  {
   "cell_type": "code",
   "execution_count": 8,
   "metadata": {},
   "outputs": [
    {
     "data": {
      "application/vnd.jupyter.widget-view+json": {
       "model_id": "38c16feb8c2241568dc32899a7220e6c",
       "version_major": 2,
       "version_minor": 0
      },
      "text/plain": [
       "VBox(children=(HBox(children=(Text(value='', description='Input:', layout=Layout(width='500px'), placeholder='…"
      ]
     },
     "metadata": {},
     "output_type": "display_data"
    },
    {
     "data": {
      "text/plain": [
       "<jove.AnimateNFA.AnimateNFA at 0x104739128>"
      ]
     },
     "execution_count": 8,
     "metadata": {},
     "output_type": "execute_result"
    }
   ],
   "source": [
    "# THE NFA OF PAGE 87 IS HERE !!!! PLEASE STUDY THIS !!!!\n",
    "\n",
    "NFAbook = md2mc('''NFA\n",
    "\n",
    "IA : '' -> B, C\n",
    "IG : 1 -> F\n",
    "B : 1 -> D\n",
    "C : 0 -> E\n",
    "D : '' -> IA, IG\n",
    "E : '' -> IA, IG\n",
    "\n",
    "\n",
    "''')\n",
    "AnimateNFA(NFAbook, FuseEdges=False)"
   ]
  },
  {
   "cell_type": "code",
   "execution_count": null,
   "metadata": {},
   "outputs": [],
   "source": []
  },
  {
   "cell_type": "markdown",
   "metadata": {},
   "source": [
    "## PDA"
   ]
  },
  {
   "cell_type": "code",
   "execution_count": 9,
   "metadata": {},
   "outputs": [],
   "source": [
    "f27sip = md2mc('''\n",
    "PDA\n",
    "iq2    : a  , ''  ; a     -> iq2\n",
    "iq2    : '' , ''  ; ''    -> q3,q5\n",
    "q3     : b  , a   ; ''    -> q3\n",
    "q3     : '' , #   ; ''    -> fq4\n",
    "fq4    : c  , ''  ; ''    -> fq4\n",
    "q5     : b  , ''  ; ''    -> q5\n",
    "q5     : '' , ''  ; ''    -> q6\n",
    "q6     : c  , a   ; ''    -> q6\n",
    "q6     : '' , #   ; ''    -> fq7\n",
    "''')"
   ]
  },
  {
   "cell_type": "markdown",
   "metadata": {},
   "source": [
    "Feed a PDA into AnimatePDA as the first positional argument.  \n",
    "AnimatePDA has several optional parameters:\n",
    "* FuseEdges  (bool): If True, draws only one edge between pairs of states with the transition labels stacked above it.\n",
    "* max_stack (int): The maximum stack size that can be picked using the 'Stack Size' slider. The slider default value is always 6.\n",
    "* max_width (float): The maximum width of the PDA in inches. This prevents large drawings from extending beyond the draw area which forces the area to become scrollable.\n",
    "\n",
    "The AnimatePDA widget has two additional controls at the top. The 'Acceptance' dropdown lets you choose the acceptance criteria used when animating the PDA. 'State' will accept paths where the machine is in a final state when the input has been consumed. 'Stack' will accept paths where the stack is empty when the input has been consumed. The 'Stack Size' slider to changes the stack size used when looking for accepting paths.  \n",
    "\n",
    "The 'Path' dropdown box at the bottom of the widget will be populated with one option for each accepting path found for the provided input. If no accepting path is found the graph will highlight red and a message displayed confirming the input was rejected."
   ]
  },
  {
   "cell_type": "code",
   "execution_count": 10,
   "metadata": {
    "scrolled": false
   },
   "outputs": [
    {
     "data": {
      "application/vnd.jupyter.widget-view+json": {
       "model_id": "5729e22152334d4fae96bcd58be45199",
       "version_major": 2,
       "version_minor": 0
      },
      "text/plain": [
       "VBox(children=(HBox(children=(Text(value='', description='Input:', layout=Layout(width='500px'), placeholder='…"
      ]
     },
     "metadata": {},
     "output_type": "display_data"
    },
    {
     "data": {
      "text/plain": [
       "<jove.AnimatePDA.AnimatePDA at 0x104c2f9b0>"
      ]
     },
     "execution_count": 10,
     "metadata": {},
     "output_type": "execute_result"
    }
   ],
   "source": [
    "from jove.AnimatePDA import *\n",
    "AnimatePDA(f27sip, FuseEdges=True)"
   ]
  },
  {
   "cell_type": "markdown",
   "metadata": {},
   "source": [
    "## TM"
   ]
  },
  {
   "cell_type": "markdown",
   "metadata": {},
   "source": [
    "Feed a TM into AnimateTM as the first positional argument.  \n",
    "AnimateTM has several optional parameters:\n",
    "* FuseEdges  (bool): If True, draws only one edge between pairs of states with the transition labels stacked above it.\n",
    "* show_rejected (bool): If True, the path selection dropdown box will also include rejected paths that were explored by the TM. If False and there are no accepting paths, the TM drawing will be colored red and a message will display stating the input was rejected.\n",
    "* max_width (float): The maximum width of the TM in inches. This prevents large drawings from extending beyond the draw area which forces the area to become scrollable.\n",
    "\n",
    "The 'Fuel' spinner box at the top of the widget can be used to increase the number of steps the machine is allowed to take while searching for an accepting path. This forces the machine to stop in a finite amount of time.\n",
    "The dropdown box at the bottom of the widget is populated with all accepting paths found for the provided input. If 'show_rejected=True' the dropdown will also include animations for the rejected paths that the TM searched."
   ]
  },
  {
   "cell_type": "markdown",
   "metadata": {},
   "source": [
    "## DTM"
   ]
  },
  {
   "cell_type": "code",
   "execution_count": 11,
   "metadata": {},
   "outputs": [],
   "source": [
    "# Deterministically look for 101 on the tape\n",
    "\n",
    "whas101DTM = md2mc('''TM\n",
    "!! We change 0 to A or 1 to B to record that we've seen it\n",
    "!! This is mainly for debugging purposes, not to affect the TM moves\n",
    "\n",
    "I : 1; B, R -> Got1Seek0 !! Partial success; climb to the next stage\n",
    "I : 0; A, R -> I         !! Continue hunting for 1\n",
    "I : .; ., R -> StuckNo1beg !! Ran off end; REJECT\n",
    "\n",
    "Got1Seek0 : 0; A, R -> Got10Seek1\n",
    "Got1Seek0 : 1; B, R -> Got1Seek0\n",
    "Got1Seek0 : .; ., R -> StuckNo0Aft1  !! Ran off end w/o finding 0; so REJECT\n",
    "\n",
    "Got10Seek1 : 1; B, R -> Found101 !! Success finding 101; ACCEPT\n",
    "Got10Seek1 : 0; A, R -> I        !! Failure finding 1; start over\n",
    "Got10Seek1 : .; ., R -> StuckNo1end !! Ran off end; so REJECT\n",
    "\n",
    "''')"
   ]
  },
  {
   "cell_type": "markdown",
   "metadata": {},
   "source": [
    "## NDTM"
   ]
  },
  {
   "cell_type": "code",
   "execution_count": 12,
   "metadata": {},
   "outputs": [
    {
     "data": {
      "application/vnd.jupyter.widget-view+json": {
       "model_id": "f1e80c3a27264258bb6c453c2cdf7dda",
       "version_major": 2,
       "version_minor": 0
      },
      "text/plain": [
       "VBox(children=(HBox(children=(Text(value='', description='Input:', layout=Layout(width='500px'), placeholder='…"
      ]
     },
     "metadata": {},
     "output_type": "display_data"
    },
    {
     "data": {
      "text/plain": [
       "<jove.AnimateTM.AnimateTM at 0x104c81e48>"
      ]
     },
     "execution_count": 12,
     "metadata": {},
     "output_type": "execute_result"
    }
   ],
   "source": [
    "from jove.AnimateTM import *\n",
    "AnimateTM(whas101DTM, FuseEdges=True)"
   ]
  },
  {
   "cell_type": "code",
   "execution_count": 13,
   "metadata": {},
   "outputs": [],
   "source": [
    "# Nondeterministically look for 101 on the tape\n",
    "\n",
    "ndtm101 = md2mc('''TM\n",
    "\n",
    "I : 0; A, R | 1; B, R -> I\n",
    "I : 0; 0, S | 1; 1, S -> TryMyLuck\n",
    "\n",
    "TryMyLuck : 1; Q, R -> Got1Sk0\n",
    "Got1Sk0   : 0; P, R -> Got10Sk1\n",
    "Got10Sk1  : 1; Q, R -> Found101\n",
    "\n",
    "I : .; ., R -> Reject\n",
    " \n",
    "''')"
   ]
  },
  {
   "cell_type": "code",
   "execution_count": 14,
   "metadata": {},
   "outputs": [
    {
     "data": {
      "application/vnd.jupyter.widget-view+json": {
       "model_id": "10e93e49901b46c5ba8bdf14706868dd",
       "version_major": 2,
       "version_minor": 0
      },
      "text/plain": [
       "VBox(children=(HBox(children=(Text(value='', description='Input:', layout=Layout(width='500px'), placeholder='…"
      ]
     },
     "metadata": {},
     "output_type": "display_data"
    },
    {
     "data": {
      "text/plain": [
       "<jove.AnimateTM.AnimateTM at 0x104cb8940>"
      ]
     },
     "execution_count": 14,
     "metadata": {},
     "output_type": "execute_result"
    }
   ],
   "source": [
    "from jove.AnimateTM import *\n",
    "AnimateTM(ndtm101, FuseEdges=True)"
   ]
  },
  {
   "cell_type": "code",
   "execution_count": null,
   "metadata": {},
   "outputs": [],
   "source": []
  }
 ],
 "metadata": {
  "kernelspec": {
   "display_name": "Python 3",
   "language": "python",
   "name": "python3"
  },
  "language_info": {
   "codemirror_mode": {
    "name": "ipython",
    "version": 3
   },
   "file_extension": ".py",
   "mimetype": "text/x-python",
   "name": "python",
   "nbconvert_exporter": "python",
   "pygments_lexer": "ipython3",
   "version": "3.7.3"
  }
 },
 "nbformat": 4,
 "nbformat_minor": 2
}
